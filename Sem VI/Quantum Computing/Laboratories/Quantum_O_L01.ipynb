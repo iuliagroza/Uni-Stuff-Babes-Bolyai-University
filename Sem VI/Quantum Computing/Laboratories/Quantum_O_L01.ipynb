{
 "cells": [
  {
   "cell_type": "markdown",
   "metadata": {},
   "source": [
    "# Lab 1\n",
    "\n",
    "Qiskit is the package that we will use for simulations of quantum circuits.\n",
    "\n"
   ]
  },
  {
   "cell_type": "code",
   "execution_count": 1,
   "metadata": {
    "scrolled": true
   },
   "outputs": [],
   "source": [
    "# We need to import the following modules for this example.\n",
    "import qiskit\n",
    "# Aer is a high performance simulator framework for quantum circuits that includes noise models.\n",
    "from qiskit_aer import Aer\n",
    "# QuantumCircuit is a class for representing the quantum circuits.\n",
    "from qiskit import QuantumCircuit\n",
    "# QuantumRegister and ClassicalRegister are classes for representing the registers.\n",
    "from qiskit import QuantumRegister, ClassicalRegister, transpile"
   ]
  },
  {
   "cell_type": "code",
   "execution_count": 2,
   "metadata": {},
   "outputs": [
    {
     "data": {
      "image/png": "[encoded data removed]",
      "text/plain": [
       "<Figure size 143.647x117.056 with 1 Axes>"
      ]
     },
     "execution_count": 2,
     "metadata": {},
     "output_type": "execute_result"
    }
   ],
   "source": [
    "# Create a quantum circuit with 1 qubit\n",
    "circuit = QuantumCircuit(1)\n",
    "\n",
    "# Draw the circuit\n",
    "circuit.draw(output='mpl')"
   ]
  },
  {
   "cell_type": "markdown",
   "metadata": {},
   "source": [
    "We can also print the circuit directly."
   ]
  },
  {
   "cell_type": "code",
   "execution_count": 3,
   "metadata": {},
   "outputs": [
    {
     "name": "stdout",
     "output_type": "stream",
     "text": [
      "   \n",
      "q: \n",
      "   \n"
     ]
    }
   ],
   "source": [
    "# Print the circuit\n",
    "print(circuit)"
   ]
  },
  {
   "cell_type": "markdown",
   "metadata": {},
   "source": [
    "Observe that we have created a quantum circuit with 1 qubit $\\ket{q}=a\\ket{0}+b\\ket{1}$.\n",
    "\n",
    "The qubit is initialized in the state $\\ket{0}$ so, in our case, initially $a=1$ and $b=0$.\n",
    "\n",
    "The ciruit is empty, we can add gates to it.\n",
    "\n",
    "For example let's put the qubit in superposition using the Hadamard gate.\n",
    "\n"
   ]
  },
  {
   "cell_type": "code",
   "execution_count": 4,
   "metadata": {},
   "outputs": [
    {
     "data": {
      "image/png": "[encoded data removed]",
      "text/plain": [
       "<Figure size 185.453x117.056 with 1 Axes>"
      ]
     },
     "execution_count": 4,
     "metadata": {},
     "output_type": "execute_result"
    }
   ],
   "source": [
    "# Apply Hadamard gate to the qubit\n",
    "circuit.h(0)\n",
    "\n",
    "# Draw the circuit\n",
    "circuit.draw(output='mpl')"
   ]
  },
  {
   "cell_type": "markdown",
   "metadata": {},
   "source": [
    "The Hadamard gate puts the qubit in superposition so\n",
    "\n",
    "$$\\ket{q}=\\frac{1}{\\sqrt{2}}\\ket{0}+\\frac{1}{\\sqrt{2}}\\ket{1} = \\begin{pmatrix} \\frac{1}{\\sqrt{2}} \\\\ \\frac{1}{\\sqrt{2}} \\end{pmatrix} $$\n",
    "\n",
    "If we measure, this qubit will have a 0.5 probability to collaps in state 0 and 0.5 to fall in state 1.\n",
    "\n",
    "Let's add a mesurement."
   ]
  },
  {
   "cell_type": "code",
   "execution_count": 5,
   "metadata": {},
   "outputs": [
    {
     "data": {
      "image/png": "[encoded data removed]",
      "text/plain": [
       "<Figure size 413.165x200.667 with 1 Axes>"
      ]
     },
     "execution_count": 5,
     "metadata": {},
     "output_type": "execute_result"
    }
   ],
   "source": [
    "# Measure the qubit\n",
    "circuit.measure_all()\n",
    "\n",
    "# Draw the circuit\n",
    "circuit.draw(output='mpl')"
   ]
  },
  {
   "cell_type": "markdown",
   "metadata": {},
   "source": [
    "Qiskit is packaged to contain all four elements: *Terra*, *Aer*, *Ignis*, and *Aqua* (earth, air, fire, and water, respectively), which together make up the universe of quantum programming.\n",
    "\n",
    "1. *Terra* is the base library upon which all the other elements of Qiskit are built. Terra allows a developer to code the base of an algorithm to the specific operator on a qubit.\n",
    "2. *Aer* is a high-performance framework that you will use to simulate your circuits on various optimized simulator backends. \n",
    "3. *Ignis* will help you learn about the various errors that currently affect experiments on read devices, such as relaxation and decoherence, so you can design quantum error correction codes.\n",
    "4. *Aqua* will, in essence, pull everything together.\n",
    "\n",
    "\n",
    "Now, since we created a simple circuit let's make a simulation to see how it works. For this we use the Aer class from qiskit module. \n",
    "\n",
    "- The Qasm simulator, which executes a quantum circuit with multiple shots to simulate a noisy backend quantum system\n",
    "- The statevector simulator, which provides the state vector of the quantum circuit\n",
    "- The unitary simulator, which provides the unitary matrix of the quantum circuit being executed\n",
    "- The pulse simulator, which simulates pulse schedules to execute directly to the various channels on the hardware\n",
    "\n",
    "We begin using the statevector simulator."
   ]
  },
  {
   "cell_type": "code",
   "execution_count": 6,
   "metadata": {},
   "outputs": [
    {
     "name": "stdout",
     "output_type": "stream",
     "text": [
      "Statevector([1.+0.j, 0.+0.j],\n",
      "            dims=(2,))\n"
     ]
    }
   ],
   "source": [
    "# Simulate the circuit using the statevector simulator\n",
    "simulator = Aer.get_backend('statevector_simulator')\n",
    "transpiled_circuit = transpile(circuit, backend=simulator)\n",
    "job = simulator.run(transpiled_circuit, shots=10000)\n",
    "result = job.result()\n",
    "statevector = result.get_statevector()\n",
    "print(statevector)"
   ]
  },
  {
   "cell_type": "markdown",
   "metadata": {},
   "source": [
    "Observe that we obtain at each run of the statevector simulation a random state between \n",
    "\n",
    "$$\\begin{pmatrix}1.+0.j \\\\ 0.+0.j\\end{pmatrix} \\text{and} \\begin{pmatrix}0.+0.j \\\\ 1.+0.j\\end{pmatrix}$$.\n",
    "\n",
    "Try and run the above code several times and look at the results.\n",
    "\n",
    "\n",
    "We can use also the QASM simulator:"
   ]
  },
  {
   "cell_type": "code",
   "execution_count": 7,
   "metadata": {},
   "outputs": [
    {
     "name": "stdout",
     "output_type": "stream",
     "text": [
      "{'0': 4989, '1': 5011}\n"
     ]
    },
    {
     "data": {
      "image/png": "[encoded data removed]",
      "text/plain": [
       "<Figure size 700x500 with 1 Axes>"
      ]
     },
     "execution_count": 7,
     "metadata": {},
     "output_type": "execute_result"
    }
   ],
   "source": [
    "# Simulate the circuit using the qasm simulator\n",
    "simulator = Aer.get_backend('qasm_simulator')\n",
    "transpiled_circuit = transpile(circuit, backend=simulator)\n",
    "job = simulator.run(transpiled_circuit, shots=10000)\n",
    "result = job.result()\n",
    "counts = result.get_counts()\n",
    "print(counts)\n",
    "\n",
    "# Plot the histogram\n",
    "from qiskit.visualization import plot_histogram\n",
    "plot_histogram(counts)"
   ]
  },
  {
   "cell_type": "markdown",
   "metadata": {},
   "source": [
    "We observe that we can use this simple circuit to create a random bit.\n",
    "\n",
    "Let us play a game of dice.\n",
    "\n",
    "## Exercise 1\n",
    " Create a function that simulates a fair dice using hadamard gates and measurements.\n"
   ]
  },
  {
   "cell_type": "code",
   "execution_count": 8,
   "metadata": {},
   "outputs": [
    {
     "name": "stdout",
     "output_type": "stream",
     "text": [
      "dict_keys(['110'])\n",
      "Dice roll: 6\n"
     ]
    }
   ],
   "source": [
    "from qiskit import QuantumCircuit, transpile\n",
    "from qiskit_aer import Aer\n",
    "from qiskit.visualization import plot_histogram\n",
    "\n",
    "def simulate_dice_roll():\n",
    "    correct = False\n",
    "    while not correct:\n",
    "        # Create a quantum circuit with 3 qubits\n",
    "        circuit = QuantumCircuit(3, 3)\n",
    "    \n",
    "        # Apply Hadamard gate to all qubits\n",
    "        circuit.h(range(3))\n",
    "    \n",
    "        # Measure all qubits\n",
    "        circuit.measure(range(3), range(3))\n",
    "    \n",
    "        # Simulate the circuit using the qasm simulator\n",
    "        simulator = Aer.get_backend('qasm_simulator')\n",
    "        transpiled_circuit = transpile(circuit, backend=simulator)\n",
    "        job = simulator.run(transpiled_circuit, shots=1)\n",
    "        result = job.result()\n",
    "        counts = result.get_counts()\n",
    "        print (counts.keys())\n",
    "        output = int(list(counts.keys())[0], 2)\n",
    "        correct = output > 0 and output < 7\n",
    "    return output\n",
    "\n",
    "# Test the function\n",
    "dice_roll = simulate_dice_roll()\n",
    "print(\"Dice roll:\", dice_roll)"
   ]
  },
  {
   "cell_type": "markdown",
   "metadata": {},
   "source": [
    "Another usefull gate is the rx gate. \n",
    "\n",
    "rx(theta, qubit, label=None)\n",
    "\n",
    "Parameters\n",
    "\n",
    "theta (ParameterValueType) – The rotation angle of the gate.\n",
    "\n",
    "qubit (QubitSpecifier) – The qubit(s) to apply the gate to.\n",
    "\n",
    "label (str(opens in a new tab) | None) – The string label of the gate in the circuit.\n",
    "\n",
    "Returns\n",
    "\n",
    "A handle to the instructions created."
   ]
  },
  {
   "cell_type": "code",
   "execution_count": 9,
   "metadata": {},
   "outputs": [
    {
     "name": "stdout",
     "output_type": "stream",
     "text": [
      "Statevector([0.93050762+0.j        , 0.        -0.36627253j],\n",
      "            dims=(2,))\n"
     ]
    }
   ],
   "source": [
    "from qiskit import QuantumCircuit, transpile\n",
    "from qiskit_aer import Aer\n",
    "from qiskit.visualization import plot_bloch_multivector\n",
    "\n",
    "# Create a quantum circuit with 1 qubit\n",
    "circuit = QuantumCircuit(1)\n",
    "\n",
    "# Apply Rx gate to the qubit\n",
    "circuit.rx(0.75, 0)\n",
    "\n",
    "# Simulate the circuit using the statevector simulator\n",
    "simulator = Aer.get_backend('statevector_simulator')\n",
    "transpiled_circuit = transpile(circuit, backend=simulator)\n",
    "job = simulator.run(transpiled_circuit)\n",
    "result = job.result()\n",
    "statevector = result.get_statevector()\n",
    "\n",
    "# Plot the Bloch vector of the qubit\n",
    "plot_bloch_multivector(statevector)\n",
    "print(statevector)"
   ]
  },
  {
   "cell_type": "markdown",
   "metadata": {},
   "source": [
    "With this gate we can apply a rotation $R_x(\\theta)$ to the qubit with the angle $\\theta$ (in radians) around the Ox axis.\n",
    "\n",
    "There are similar gates for all the other axis: ry for Oy and rz for Oz. \n",
    "\n",
    "This will change the values a and b.\n",
    "\n",
    "Let $\\ket{\\Psi}=1\\cdot\\ket{0}+0\\cdot\\ket{1}$ we apply the gate rx(0.75, $\\ket{\\Psi}$) and we obtain: \n",
    "\n",
    "$R_x(\\theta)=\\begin{pmatrix}  cos(\\theta / 2) & -i sin(\\theta/2) \\\\  -i sin(\\theta/2) & cos(\\theta / 2)   \\end{pmatrix}$\n",
    "\n",
    "$R_x(0.75) = \\begin{pmatrix}  0.9305 & -i \\cdot 0.3662 \\\\  -i \\cdot 0.3662 & 0.9305   \\end{pmatrix}$\n",
    "\n",
    "We apply $R_x(0.75)$ to qubit $\\ket{\\Psi}$:\n",
    "\n",
    "$ \\begin{pmatrix}  0.9305 & -i \\cdot 0.3662 \\\\  -i \\cdot 0.3662 & 0.9305   \\end{pmatrix} \\cdot \\begin{pmatrix} 1 \\\\ 0 \\end{pmatrix}$\n",
    "\n",
    "We get $(0.9305+i\\cdot 0.0)\\ket{0}+(0.0-i\\cdot 0.3662)\\ket{1}  $.\n",
    "\n",
    "If we measure this qubit we get 0 with the probability 0.8658 and 1 with the probability 0.1242. "
   ]
  },
  {
   "cell_type": "code",
   "execution_count": 10,
   "metadata": {},
   "outputs": [],
   "source": [
    "# Add a measurement to the qubit\n",
    "circuit.measure_all()"
   ]
  },
  {
   "cell_type": "code",
   "execution_count": 11,
   "metadata": {},
   "outputs": [
    {
     "data": {
      "image/png": "[encoded data removed]",
      "text/plain": [
       "<Figure size 700x500 with 1 Axes>"
      ]
     },
     "execution_count": 11,
     "metadata": {},
     "output_type": "execute_result"
    }
   ],
   "source": [
    "# Simulate the circuit using the qasm simulator\n",
    "simulator = Aer.get_backend('qasm_simulator')\n",
    "transpiled_circuit = transpile(circuit, backend=simulator)\n",
    "job = simulator.run(transpiled_circuit, shots=100000)\n",
    "result = job.result()\n",
    "counts = result.get_counts()\n",
    "\n",
    "# Plot the histogram\n",
    "plot_histogram(counts)"
   ]
  },
  {
   "cell_type": "markdown",
   "metadata": {},
   "source": [
    "## Exercise 2\n",
    "\n",
    "Simulate rolling a rigged dice in a function that receives two parameters: the desired output and the probability to get it.\n",
    "\n",
    "To achive this, amplify the chance to get the desired face. Use for this a rotation gate on the x axis.\n"
   ]
  },
  {
   "cell_type": "code",
   "execution_count": 12,
   "metadata": {},
   "outputs": [
    {
     "name": "stdout",
     "output_type": "stream",
     "text": [
      "0.8879040017426006\n",
      "0.9422865815358938\n",
      "0.6828016625490974\n"
     ]
    },
    {
     "data": {
      "image/png": "[encoded data removed]",
      "text/plain": [
       "<Figure size 454.719x367.889 with 1 Axes>"
      ]
     },
     "execution_count": 12,
     "metadata": {},
     "output_type": "execute_result"
    }
   ],
   "source": [
    "import math\n",
    "x = 0.7**(1/3)\n",
    "print(x)\n",
    "a=x**(1/2)\n",
    "print(a)\n",
    "theta = 2*math.acos(a)\n",
    "print(theta)\n",
    "\n",
    "c = QuantumCircuit(3,3)\n",
    "c.rx(theta, 0)\n",
    "c.rx(theta, 1)\n",
    "c.rx(theta, 2)\n",
    "c.x(0)\n",
    "c.x(1)\n",
    "\n",
    "c.measure(range(3), range(3))\n",
    "c.draw(output='mpl', style='iqp')"
   ]
  },
  {
   "cell_type": "code",
   "execution_count": 13,
   "metadata": {},
   "outputs": [
    {
     "name": "stdout",
     "output_type": "stream",
     "text": [
      "{'1': 1310, '0': 8690}\n"
     ]
    },
    {
     "data": {
      "image/png": "[encoded data removed]",
      "text/plain": [
       "<Figure size 700x500 with 1 Axes>"
      ]
     },
     "execution_count": 13,
     "metadata": {},
     "output_type": "execute_result"
    }
   ],
   "source": [
    "# Simulate the circuit using the qasm simulator\n",
    "simulator = Aer.get_backend('qasm_simulator')\n",
    "transpiled_circuit = transpile(circuit, backend=simulator)\n",
    "job = simulator.run(transpiled_circuit, shots=10000)\n",
    "result = job.result()\n",
    "counts = result.get_counts()\n",
    "print(counts)\n",
    "\n",
    "# Plot the histogram\n",
    "plot_histogram(counts)"
   ]
  },
  {
   "cell_type": "code",
   "execution_count": 14,
   "metadata": {},
   "outputs": [],
   "source": [
    "c1=QuantumCircuit(6,6)"
   ]
  },
  {
   "cell_type": "code",
   "execution_count": 15,
   "metadata": {},
   "outputs": [
    {
     "name": "stdout",
     "output_type": "stream",
     "text": [
      "[1, 1, 0]\n"
     ]
    }
   ],
   "source": [
    "def binar(n):\n",
    "    binary_string = bin(n)[2:]  # Get the binary string representation of n without the '0b' prefix\n",
    "    bits = [int(bit) for bit in binary_string]  # Convert the binary string into a list of bits\n",
    "    return bits\n",
    "\n",
    "print(binar(6))"
   ]
  },
  {
   "cell_type": "code",
   "execution_count": 16,
   "metadata": {
    "scrolled": true
   },
   "outputs": [
    {
     "data": {
      "image/png": "[encoded data removed]",
      "text/plain": [
       "<Figure size 203.683x200.667 with 1 Axes>"
      ]
     },
     "execution_count": 16,
     "metadata": {},
     "output_type": "execute_result"
    }
   ],
   "source": [
    "# Create a quantum circuit with 2 qubits\n",
    "circuit = QuantumCircuit(2)\n",
    "\n",
    "# Apply CNOT gate with qubit 0 as the control qubit and qubit 1 as the target qubit\n",
    "circuit.cx(0, 1)\n",
    "\n",
    "# Draw the circuit\n",
    "circuit.draw(output='mpl')"
   ]
  },
  {
   "cell_type": "code",
   "execution_count": null,
   "metadata": {},
   "outputs": [],
   "source": []
  }
 ],
 "metadata": {
  "kernelspec": {
   "display_name": "Python 3 (ipykernel)",
   "language": "python",
   "name": "python3"
  },
  "language_info": {
   "codemirror_mode": {
    "name": "ipython",
    "version": 3
   },
   "file_extension": ".py",
   "mimetype": "text/x-python",
   "name": "python",
   "nbconvert_exporter": "python",
   "pygments_lexer": "ipython3",
   "version": "3.9.18"
  }
 },
 "nbformat": 4,
 "nbformat_minor": 4
}
