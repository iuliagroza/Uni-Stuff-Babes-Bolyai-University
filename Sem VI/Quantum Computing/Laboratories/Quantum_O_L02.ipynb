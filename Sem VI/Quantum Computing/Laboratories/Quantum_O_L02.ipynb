{
 "cells": [
  {
   "cell_type": "code",
   "execution_count": 39,
   "id": "4398c647-4e34-4e71-aba2-07796ffa8ede",
   "metadata": {},
   "outputs": [
    {
     "data": {
      "text/plain": [
       "CircuitInstruction(operation=Instruction(name='barrier', num_qubits=2, num_clbits=0, params=[]), qubits=(Qubit(QuantumRegister(2, 'q'), 0), Qubit(QuantumRegister(2, 'q'), 1)), clbits=())"
      ]
     },
     "execution_count": 39,
     "metadata": {},
     "output_type": "execute_result"
    }
   ],
   "source": [
    "import qiskit as qs\n",
    "from qiskit_aer import Aer\n",
    "from qiskit import QuantumCircuit, QuantumRegister,ClassicalRegister\n",
    "\n",
    "regs = [QuantumRegister(2, 'q'), ClassicalRegister(1, 'c')]\n",
    "# State initialization: apply x on output bit, and H on all\n",
    "init = QuantumCircuit(*regs)\n",
    "init.x(1)\n",
    "init.h(0)\n",
    "init.h(1)\n",
    "init.barrier() # Only for separation in printing"
   ]
  },
  {
   "cell_type": "code",
   "execution_count": 25,
   "id": "83ad5256-2629-4f6b-850e-b454db779f49",
   "metadata": {},
   "outputs": [
    {
     "name": "stdout",
     "output_type": "stream",
     "text": [
      "     ┌───┐      ░ \n",
      "q_0: ┤ H ├──────░─\n",
      "     ├───┤┌───┐ ░ \n",
      "q_1: ┤ X ├┤ H ├─░─\n",
      "     └───┘└───┘ ░ \n",
      "c: 1/═════════════\n",
      "                  \n"
     ]
    }
   ],
   "source": [
    "print(init)"
   ]
  },
  {
   "cell_type": "code",
   "execution_count": 26,
   "id": "56d8718f-ba41-4aae-92cf-28583951348b",
   "metadata": {},
   "outputs": [
    {
     "data": {
      "text/plain": [
       "<qiskit.circuit.instructionset.InstructionSet at 0x7f9af2578b50>"
      ]
     },
     "execution_count": 26,
     "metadata": {},
     "output_type": "execute_result"
    }
   ],
   "source": [
    "# Apply h to input bit and measure it at the end\n",
    "end = QuantumCircuit(*regs)\n",
    "end.h(0)\n",
    "end.measure(0, 0)"
   ]
  },
  {
   "cell_type": "code",
   "execution_count": 27,
   "id": "27cf78f7-47d3-4e92-90fa-9b03c77a9c0c",
   "metadata": {},
   "outputs": [
    {
     "name": "stdout",
     "output_type": "stream",
     "text": [
      "     ┌───┐┌─┐\n",
      "q_0: ┤ H ├┤M├\n",
      "     └───┘└╥┘\n",
      "q_1: ──────╫─\n",
      "           ║ \n",
      "c: 1/══════╩═\n",
      "           0 \n"
     ]
    }
   ],
   "source": [
    "print(end)"
   ]
  },
  {
   "cell_type": "code",
   "execution_count": 28,
   "id": "e0b98517-1494-4ab5-81c0-d733ddc5965c",
   "metadata": {},
   "outputs": [
    {
     "name": "stdout",
     "output_type": "stream",
     "text": [
      "     ┌───┐      ░ ┌───┐┌─┐\n",
      "q_0: ┤ H ├──────░─┤ H ├┤M├\n",
      "     ├───┤┌───┐ ░ └───┘└╥┘\n",
      "q_1: ┤ X ├┤ H ├─░───────╫─\n",
      "     └───┘└───┘ ░       ║ \n",
      "c: 1/═══════════════════╩═\n",
      "                        0 \n"
     ]
    }
   ],
   "source": [
    "print(init & end)"
   ]
  },
  {
   "cell_type": "code",
   "execution_count": 29,
   "id": "8dcc8ff9-ca3f-4fe0-9307-9ae1651a13b0",
   "metadata": {},
   "outputs": [
    {
     "data": {
      "text/plain": [
       "CircuitInstruction(operation=Instruction(name='barrier', num_qubits=2, num_clbits=0, params=[]), qubits=(Qubit(QuantumRegister(2, 'q'), 0), Qubit(QuantumRegister(2, 'q'), 1)), clbits=())"
      ]
     },
     "execution_count": 29,
     "metadata": {},
     "output_type": "execute_result"
    }
   ],
   "source": [
    "# Unbalanced functions\n",
    "# unbalanced0: will simply be an identity (the unity)\n",
    "unbalanced0 = QuantumCircuit(*regs)\n",
    "unbalanced0.barrier()"
   ]
  },
  {
   "cell_type": "code",
   "execution_count": 31,
   "id": "bcfbf4b9-b5db-4f68-9a2e-7514828ab819",
   "metadata": {},
   "outputs": [
    {
     "data": {
      "text/plain": [
       "CircuitInstruction(operation=Instruction(name='barrier', num_qubits=2, num_clbits=0, params=[]), qubits=(Qubit(QuantumRegister(2, 'q'), 0), Qubit(QuantumRegister(2, 'q'), 1)), clbits=())"
      ]
     },
     "execution_count": 31,
     "metadata": {},
     "output_type": "execute_result"
    }
   ],
   "source": [
    "# unbalanced1: apply NOT to the y registrer - output will flip independent of input\n",
    "unbalanced1 = QuantumCircuit(*regs)\n",
    "unbalanced1.x(1)\n",
    "unbalanced1.barrier()"
   ]
  },
  {
   "cell_type": "code",
   "execution_count": 32,
   "id": "da88b49f-3046-4d0f-8b3f-3f4febae6d70",
   "metadata": {},
   "outputs": [
    {
     "name": "stdout",
     "output_type": "stream",
     "text": [
      "     ┌───┐      ░  ░ ┌───┐┌─┐\n",
      "q_0: ┤ H ├──────░──░─┤ H ├┤M├\n",
      "     ├───┤┌───┐ ░  ░ └───┘└╥┘\n",
      "q_1: ┤ X ├┤ H ├─░──░───────╫─\n",
      "     └───┘└───┘ ░  ░       ║ \n",
      "c: 1/══════════════════════╩═\n",
      "                           0 \n"
     ]
    }
   ],
   "source": [
    "print(init & unbalanced0 & end)"
   ]
  },
  {
   "cell_type": "code",
   "execution_count": 33,
   "id": "d9cd23eb-cff1-4925-a021-f576850627c8",
   "metadata": {},
   "outputs": [
    {
     "name": "stdout",
     "output_type": "stream",
     "text": [
      "     ┌───┐      ░       ░ ┌───┐┌─┐\n",
      "q_0: ┤ H ├──────░───────░─┤ H ├┤M├\n",
      "     ├───┤┌───┐ ░ ┌───┐ ░ └───┘└╥┘\n",
      "q_1: ┤ X ├┤ H ├─░─┤ X ├─░───────╫─\n",
      "     └───┘└───┘ ░ └───┘ ░       ║ \n",
      "c: 1/═══════════════════════════╩═\n",
      "                                0 \n"
     ]
    }
   ],
   "source": [
    "print(init & unbalanced1 & end)"
   ]
  },
  {
   "cell_type": "code",
   "execution_count": 47,
   "id": "5067c4ea-57d7-42bf-974e-b3c5639f47b2",
   "metadata": {},
   "outputs": [
    {
     "data": {
      "text/plain": [
       "CircuitInstruction(operation=Instruction(name='barrier', num_qubits=2, num_clbits=0, params=[]), qubits=(Qubit(QuantumRegister(2, 'q'), 0), Qubit(QuantumRegister(2, 'q'), 1)), clbits=())"
      ]
     },
     "execution_count": 47,
     "metadata": {},
     "output_type": "execute_result"
    }
   ],
   "source": [
    "# Balanced function: C-NOT - output depends on input\n",
    "balanced = QuantumCircuit(*regs)\n",
    "balanced.cx(0,1)\n",
    "balanced.barrier()"
   ]
  },
  {
   "cell_type": "code",
   "execution_count": 35,
   "id": "e9da4c2a-42b3-41c5-8e15-ebf78a0bec43",
   "metadata": {},
   "outputs": [
    {
     "name": "stdout",
     "output_type": "stream",
     "text": [
      "     ┌───┐      ░       ░ ┌───┐┌─┐\n",
      "q_0: ┤ H ├──────░───■───░─┤ H ├┤M├\n",
      "     ├───┤┌───┐ ░ ┌─┴─┐ ░ └───┘└╥┘\n",
      "q_1: ┤ X ├┤ H ├─░─┤ X ├─░───────╫─\n",
      "     └───┘└───┘ ░ └───┘ ░       ║ \n",
      "c: 1/═══════════════════════════╩═\n",
      "                                0 \n"
     ]
    }
   ],
   "source": [
    "print(init & balanced & end)"
   ]
  },
  {
   "cell_type": "code",
   "execution_count": 41,
   "id": "700ac276-0c4d-4c06-ad41-2b4b759cd2cc",
   "metadata": {},
   "outputs": [
    {
     "name": "stdout",
     "output_type": "stream",
     "text": [
      "b {'1': 10}\n",
      "u {'0': 10}\n",
      "u {'0': 10}\n"
     ]
    }
   ],
   "source": [
    "# Transpile the circuit, feed it in to the simulator and extract the results\n",
    "sim = Aer.get_backend('qasm_simulator')\n",
    "\n",
    "# Expected: only 1s for balanced, only 0s for unbalanced\n",
    "for kind, oracle in (('b', balanced),\n",
    "                     ('u', unbalanced0),\n",
    "                     ('u', unbalanced1)):\n",
    "    circuit = init & oracle & end\n",
    "    transpiled = qs.transpile(circuit)\n",
    "    counts = sim.run(transpiled, shots=10).result().get_counts()\n",
    "    print(kind, counts)"
   ]
  },
  {
   "cell_type": "code",
   "execution_count": 48,
   "id": "d4c1804f-0262-414a-b9ff-bbbd78a111de",
   "metadata": {},
   "outputs": [],
   "source": [
    "import cirq\n",
    "# Create the qubits \n",
    "qubits = [cirq.LineQubit(i) for i in (0, 1)]\n",
    "\n",
    "# Create a circuit\n",
    "init = cirq.Circuit(\n",
    "    cirq.H(qubits[0]),\n",
    "    cirq.X(qubits[1]),\n",
    "    cirq.H(qubits[1])\n",
    ")\n",
    "end = cirq.Circuit(\n",
    "    cirq.H(qubits[0]),\n",
    "    cirq.measure(qubits[0], key='m')\n",
    ")"
   ]
  },
  {
   "cell_type": "code",
   "execution_count": 49,
   "id": "d38463e6-5f3e-44e1-b554-3f992f9feb15",
   "metadata": {},
   "outputs": [
    {
     "name": "stdout",
     "output_type": "stream",
     "text": [
      "0: ───H───────\n",
      "\n",
      "1: ───X───H───\n"
     ]
    }
   ],
   "source": [
    "print(init)"
   ]
  },
  {
   "cell_type": "code",
   "execution_count": 50,
   "id": "ffd3cf5e-02be-4b67-9d47-c6fe09cfafee",
   "metadata": {},
   "outputs": [
    {
     "name": "stdout",
     "output_type": "stream",
     "text": [
      "0: ───H───M('m')───\n"
     ]
    }
   ],
   "source": [
    "print(end)"
   ]
  },
  {
   "cell_type": "code",
   "execution_count": 52,
   "id": "54515376-53ef-45fc-93f9-5e68022d8b74",
   "metadata": {},
   "outputs": [
    {
     "name": "stdout",
     "output_type": "stream",
     "text": [
      "0: ───H───────H───M('m')───\n",
      "\n",
      "1: ───X───H────────────────\n"
     ]
    }
   ],
   "source": [
    "print(init + end)"
   ]
  },
  {
   "cell_type": "code",
   "execution_count": 53,
   "id": "b900af71-9a04-4a6d-a80f-9fc58a508446",
   "metadata": {},
   "outputs": [],
   "source": [
    "# Write function circuits\n",
    "balanced = cirq.Circuit(\n",
    "    cirq.CNOT(*qubits)\n",
    ")   \n",
    "    \n",
    "unbalanced0 = cirq.Circuit()\n",
    "unbalanced1 = cirq.Circuit(\n",
    "    cirq.X(qubits[1])\n",
    ")"
   ]
  },
  {
   "cell_type": "code",
   "execution_count": 54,
   "id": "dd7843b3-0200-4c6f-8aaf-703d8255be49",
   "metadata": {},
   "outputs": [
    {
     "name": "stdout",
     "output_type": "stream",
     "text": [
      "b m=1111111111\n",
      "u m=0000000000\n",
      "u m=0000000000\n"
     ]
    }
   ],
   "source": [
    "# Simulate the circuit several times.\n",
    "simulator = cirq.Simulator()\n",
    "# expected: only 1s for balanced, only 0s for unbalanced\n",
    "for kind, oracle in (('b', balanced), \n",
    "                     ('u', unbalanced0),\n",
    "                     ('u', unbalanced1)): \n",
    "    result = simulator.run(init + oracle + end, repetitions=10) \n",
    "    print(kind, result) "
   ]
  },
  {
   "cell_type": "code",
   "execution_count": null,
   "id": "0971c286-57cb-41a4-9bbc-f73709ffd909",
   "metadata": {},
   "outputs": [],
   "source": []
  }
 ],
 "metadata": {
  "kernelspec": {
   "display_name": "Python 3 (ipykernel)",
   "language": "python",
   "name": "python3"
  },
  "language_info": {
   "codemirror_mode": {
    "name": "ipython",
    "version": 3
   },
   "file_extension": ".py",
   "mimetype": "text/x-python",
   "name": "python",
   "nbconvert_exporter": "python",
   "pygments_lexer": "ipython3",
   "version": "3.9.18"
  }
 },
 "nbformat": 4,
 "nbformat_minor": 5
}
