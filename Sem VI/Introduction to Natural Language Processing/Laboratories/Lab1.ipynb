{
 "cells": [
  {
   "cell_type": "markdown",
   "id": "a021fe7e-7da8-4f3d-8364-322f35a43c0a",
   "metadata": {},
   "source": [
    "# Lab1"
   ]
  },
  {
   "cell_type": "code",
   "execution_count": 9,
   "id": "d376b256-3768-43a8-9062-d5e59f9c8ec3",
   "metadata": {},
   "outputs": [
    {
     "name": "stdout",
     "output_type": "stream",
     "text": [
      "Requirement already satisfied: pip in /Users/groza/opt/anaconda3/envs/nlp/lib/python3.9/site-packages (24.0)\n",
      "Requirement already satisfied: setuptools in /Users/groza/opt/anaconda3/envs/nlp/lib/python3.9/site-packages (67.7.2)\n",
      "Collecting setuptools\n",
      "  Using cached setuptools-69.2.0-py3-none-any.whl.metadata (6.3 kB)\n",
      "Requirement already satisfied: wheel in /Users/groza/opt/anaconda3/envs/nlp/lib/python3.9/site-packages (0.43.0)\n",
      "Using cached setuptools-69.2.0-py3-none-any.whl (821 kB)\n",
      "Installing collected packages: setuptools\n",
      "  Attempting uninstall: setuptools\n",
      "    Found existing installation: setuptools 67.7.2\n",
      "    Uninstalling setuptools-67.7.2:\n",
      "      Successfully uninstalled setuptools-67.7.2\n",
      "\u001b[31mERROR: pip's dependency resolver does not currently take into account all the packages that are installed. This behaviour is the source of the following dependency conflicts.\n",
      "nlpcube 0.3.1.2 requires setuptools==67.7.2, but you have setuptools 69.2.0 which is incompatible.\u001b[0m\u001b[31m\n",
      "\u001b[0mSuccessfully installed setuptools-69.2.0\n",
      "Requirement already satisfied: spacy[apple] in /Users/groza/opt/anaconda3/envs/nlp/lib/python3.9/site-packages (3.7.4)\n",
      "Requirement already satisfied: spacy-legacy<3.1.0,>=3.0.11 in /Users/groza/opt/anaconda3/envs/nlp/lib/python3.9/site-packages (from spacy[apple]) (3.0.12)\n",
      "Requirement already satisfied: spacy-loggers<2.0.0,>=1.0.0 in /Users/groza/opt/anaconda3/envs/nlp/lib/python3.9/site-packages (from spacy[apple]) (1.0.5)\n",
      "Requirement already satisfied: murmurhash<1.1.0,>=0.28.0 in /Users/groza/opt/anaconda3/envs/nlp/lib/python3.9/site-packages (from spacy[apple]) (1.0.10)\n",
      "Requirement already satisfied: cymem<2.1.0,>=2.0.2 in /Users/groza/opt/anaconda3/envs/nlp/lib/python3.9/site-packages (from spacy[apple]) (2.0.8)\n",
      "Requirement already satisfied: preshed<3.1.0,>=3.0.2 in /Users/groza/opt/anaconda3/envs/nlp/lib/python3.9/site-packages (from spacy[apple]) (3.0.9)\n",
      "Requirement already satisfied: thinc<8.3.0,>=8.2.2 in /Users/groza/opt/anaconda3/envs/nlp/lib/python3.9/site-packages (from spacy[apple]) (8.2.3)\n",
      "Requirement already satisfied: wasabi<1.2.0,>=0.9.1 in /Users/groza/opt/anaconda3/envs/nlp/lib/python3.9/site-packages (from spacy[apple]) (1.1.2)\n",
      "Requirement already satisfied: srsly<3.0.0,>=2.4.3 in /Users/groza/opt/anaconda3/envs/nlp/lib/python3.9/site-packages (from spacy[apple]) (2.4.8)\n",
      "Requirement already satisfied: catalogue<2.1.0,>=2.0.6 in /Users/groza/opt/anaconda3/envs/nlp/lib/python3.9/site-packages (from spacy[apple]) (2.0.10)\n",
      "Requirement already satisfied: weasel<0.4.0,>=0.1.0 in /Users/groza/opt/anaconda3/envs/nlp/lib/python3.9/site-packages (from spacy[apple]) (0.3.4)\n",
      "Requirement already satisfied: typer<0.10.0,>=0.3.0 in /Users/groza/opt/anaconda3/envs/nlp/lib/python3.9/site-packages (from spacy[apple]) (0.9.0)\n",
      "Requirement already satisfied: smart-open<7.0.0,>=5.2.1 in /Users/groza/opt/anaconda3/envs/nlp/lib/python3.9/site-packages (from spacy[apple]) (6.4.0)\n",
      "Requirement already satisfied: tqdm<5.0.0,>=4.38.0 in /Users/groza/opt/anaconda3/envs/nlp/lib/python3.9/site-packages (from spacy[apple]) (4.65.0)\n",
      "Requirement already satisfied: requests<3.0.0,>=2.13.0 in /Users/groza/opt/anaconda3/envs/nlp/lib/python3.9/site-packages (from spacy[apple]) (2.31.0)\n",
      "Requirement already satisfied: pydantic!=1.8,!=1.8.1,<3.0.0,>=1.7.4 in /Users/groza/opt/anaconda3/envs/nlp/lib/python3.9/site-packages (from spacy[apple]) (2.6.4)\n",
      "Requirement already satisfied: jinja2 in /Users/groza/opt/anaconda3/envs/nlp/lib/python3.9/site-packages (from spacy[apple]) (3.1.3)\n",
      "Requirement already satisfied: setuptools in /Users/groza/opt/anaconda3/envs/nlp/lib/python3.9/site-packages (from spacy[apple]) (69.2.0)\n",
      "Requirement already satisfied: packaging>=20.0 in /Users/groza/opt/anaconda3/envs/nlp/lib/python3.9/site-packages (from spacy[apple]) (23.1)\n",
      "Requirement already satisfied: langcodes<4.0.0,>=3.2.0 in /Users/groza/opt/anaconda3/envs/nlp/lib/python3.9/site-packages (from spacy[apple]) (3.3.0)\n",
      "Requirement already satisfied: numpy>=1.19.0 in /Users/groza/opt/anaconda3/envs/nlp/lib/python3.9/site-packages (from spacy[apple]) (1.25.0)\n",
      "Requirement already satisfied: thinc-apple-ops<1.0.0,>=0.1.0.dev0 in /Users/groza/opt/anaconda3/envs/nlp/lib/python3.9/site-packages (from spacy[apple]) (0.1.4)\n",
      "Requirement already satisfied: annotated-types>=0.4.0 in /Users/groza/opt/anaconda3/envs/nlp/lib/python3.9/site-packages (from pydantic!=1.8,!=1.8.1,<3.0.0,>=1.7.4->spacy[apple]) (0.6.0)\n",
      "Requirement already satisfied: pydantic-core==2.16.3 in /Users/groza/opt/anaconda3/envs/nlp/lib/python3.9/site-packages (from pydantic!=1.8,!=1.8.1,<3.0.0,>=1.7.4->spacy[apple]) (2.16.3)\n",
      "Requirement already satisfied: typing-extensions>=4.6.1 in /Users/groza/opt/anaconda3/envs/nlp/lib/python3.9/site-packages (from pydantic!=1.8,!=1.8.1,<3.0.0,>=1.7.4->spacy[apple]) (4.9.0)\n",
      "Requirement already satisfied: charset-normalizer<4,>=2 in /Users/groza/opt/anaconda3/envs/nlp/lib/python3.9/site-packages (from requests<3.0.0,>=2.13.0->spacy[apple]) (2.0.4)\n",
      "Requirement already satisfied: idna<4,>=2.5 in /Users/groza/opt/anaconda3/envs/nlp/lib/python3.9/site-packages (from requests<3.0.0,>=2.13.0->spacy[apple]) (3.4)\n",
      "Requirement already satisfied: urllib3<3,>=1.21.1 in /Users/groza/opt/anaconda3/envs/nlp/lib/python3.9/site-packages (from requests<3.0.0,>=2.13.0->spacy[apple]) (2.1.0)\n",
      "Requirement already satisfied: certifi>=2017.4.17 in /Users/groza/opt/anaconda3/envs/nlp/lib/python3.9/site-packages (from requests<3.0.0,>=2.13.0->spacy[apple]) (2024.2.2)\n",
      "Requirement already satisfied: blis<0.8.0,>=0.7.8 in /Users/groza/opt/anaconda3/envs/nlp/lib/python3.9/site-packages (from thinc<8.3.0,>=8.2.2->spacy[apple]) (0.7.11)\n",
      "Requirement already satisfied: confection<1.0.0,>=0.0.1 in /Users/groza/opt/anaconda3/envs/nlp/lib/python3.9/site-packages (from thinc<8.3.0,>=8.2.2->spacy[apple]) (0.1.4)\n",
      "Requirement already satisfied: click<9.0.0,>=7.1.1 in /Users/groza/opt/anaconda3/envs/nlp/lib/python3.9/site-packages (from typer<0.10.0,>=0.3.0->spacy[apple]) (8.1.7)\n",
      "Requirement already satisfied: cloudpathlib<0.17.0,>=0.7.0 in /Users/groza/opt/anaconda3/envs/nlp/lib/python3.9/site-packages (from weasel<0.4.0,>=0.1.0->spacy[apple]) (0.16.0)\n",
      "Requirement already satisfied: MarkupSafe>=2.0 in /Users/groza/opt/anaconda3/envs/nlp/lib/python3.9/site-packages (from jinja2->spacy[apple]) (2.1.3)\n",
      "Collecting en-core-web-sm==3.7.1\n",
      "  Downloading https://github.com/explosion/spacy-models/releases/download/en_core_web_sm-3.7.1/en_core_web_sm-3.7.1-py3-none-any.whl (12.8 MB)\n",
      "\u001b[2K     \u001b[90m━━━━━━━━━━━━━━━━━━━━━━━━━━━━━━━━━━━━━━━━\u001b[0m \u001b[32m12.8/12.8 MB\u001b[0m \u001b[31m16.2 MB/s\u001b[0m eta \u001b[36m0:00:00\u001b[0m00:01\u001b[0m00:01\u001b[0m\n",
      "\u001b[?25hRequirement already satisfied: spacy<3.8.0,>=3.7.2 in /Users/groza/opt/anaconda3/envs/nlp/lib/python3.9/site-packages (from en-core-web-sm==3.7.1) (3.7.4)\n",
      "Requirement already satisfied: spacy-legacy<3.1.0,>=3.0.11 in /Users/groza/opt/anaconda3/envs/nlp/lib/python3.9/site-packages (from spacy<3.8.0,>=3.7.2->en-core-web-sm==3.7.1) (3.0.12)\n",
      "Requirement already satisfied: spacy-loggers<2.0.0,>=1.0.0 in /Users/groza/opt/anaconda3/envs/nlp/lib/python3.9/site-packages (from spacy<3.8.0,>=3.7.2->en-core-web-sm==3.7.1) (1.0.5)\n",
      "Requirement already satisfied: murmurhash<1.1.0,>=0.28.0 in /Users/groza/opt/anaconda3/envs/nlp/lib/python3.9/site-packages (from spacy<3.8.0,>=3.7.2->en-core-web-sm==3.7.1) (1.0.10)\n",
      "Requirement already satisfied: cymem<2.1.0,>=2.0.2 in /Users/groza/opt/anaconda3/envs/nlp/lib/python3.9/site-packages (from spacy<3.8.0,>=3.7.2->en-core-web-sm==3.7.1) (2.0.8)\n",
      "Requirement already satisfied: preshed<3.1.0,>=3.0.2 in /Users/groza/opt/anaconda3/envs/nlp/lib/python3.9/site-packages (from spacy<3.8.0,>=3.7.2->en-core-web-sm==3.7.1) (3.0.9)\n",
      "Requirement already satisfied: thinc<8.3.0,>=8.2.2 in /Users/groza/opt/anaconda3/envs/nlp/lib/python3.9/site-packages (from spacy<3.8.0,>=3.7.2->en-core-web-sm==3.7.1) (8.2.3)\n",
      "Requirement already satisfied: wasabi<1.2.0,>=0.9.1 in /Users/groza/opt/anaconda3/envs/nlp/lib/python3.9/site-packages (from spacy<3.8.0,>=3.7.2->en-core-web-sm==3.7.1) (1.1.2)\n",
      "Requirement already satisfied: srsly<3.0.0,>=2.4.3 in /Users/groza/opt/anaconda3/envs/nlp/lib/python3.9/site-packages (from spacy<3.8.0,>=3.7.2->en-core-web-sm==3.7.1) (2.4.8)\n",
      "Requirement already satisfied: catalogue<2.1.0,>=2.0.6 in /Users/groza/opt/anaconda3/envs/nlp/lib/python3.9/site-packages (from spacy<3.8.0,>=3.7.2->en-core-web-sm==3.7.1) (2.0.10)\n",
      "Requirement already satisfied: weasel<0.4.0,>=0.1.0 in /Users/groza/opt/anaconda3/envs/nlp/lib/python3.9/site-packages (from spacy<3.8.0,>=3.7.2->en-core-web-sm==3.7.1) (0.3.4)\n",
      "Requirement already satisfied: typer<0.10.0,>=0.3.0 in /Users/groza/opt/anaconda3/envs/nlp/lib/python3.9/site-packages (from spacy<3.8.0,>=3.7.2->en-core-web-sm==3.7.1) (0.9.0)\n",
      "Requirement already satisfied: smart-open<7.0.0,>=5.2.1 in /Users/groza/opt/anaconda3/envs/nlp/lib/python3.9/site-packages (from spacy<3.8.0,>=3.7.2->en-core-web-sm==3.7.1) (6.4.0)\n",
      "Requirement already satisfied: tqdm<5.0.0,>=4.38.0 in /Users/groza/opt/anaconda3/envs/nlp/lib/python3.9/site-packages (from spacy<3.8.0,>=3.7.2->en-core-web-sm==3.7.1) (4.65.0)\n",
      "Requirement already satisfied: requests<3.0.0,>=2.13.0 in /Users/groza/opt/anaconda3/envs/nlp/lib/python3.9/site-packages (from spacy<3.8.0,>=3.7.2->en-core-web-sm==3.7.1) (2.31.0)\n",
      "Requirement already satisfied: pydantic!=1.8,!=1.8.1,<3.0.0,>=1.7.4 in /Users/groza/opt/anaconda3/envs/nlp/lib/python3.9/site-packages (from spacy<3.8.0,>=3.7.2->en-core-web-sm==3.7.1) (2.6.4)\n",
      "Requirement already satisfied: jinja2 in /Users/groza/opt/anaconda3/envs/nlp/lib/python3.9/site-packages (from spacy<3.8.0,>=3.7.2->en-core-web-sm==3.7.1) (3.1.3)\n",
      "Requirement already satisfied: setuptools in /Users/groza/opt/anaconda3/envs/nlp/lib/python3.9/site-packages (from spacy<3.8.0,>=3.7.2->en-core-web-sm==3.7.1) (69.2.0)\n",
      "Requirement already satisfied: packaging>=20.0 in /Users/groza/opt/anaconda3/envs/nlp/lib/python3.9/site-packages (from spacy<3.8.0,>=3.7.2->en-core-web-sm==3.7.1) (23.1)\n",
      "Requirement already satisfied: langcodes<4.0.0,>=3.2.0 in /Users/groza/opt/anaconda3/envs/nlp/lib/python3.9/site-packages (from spacy<3.8.0,>=3.7.2->en-core-web-sm==3.7.1) (3.3.0)\n",
      "Requirement already satisfied: numpy>=1.19.0 in /Users/groza/opt/anaconda3/envs/nlp/lib/python3.9/site-packages (from spacy<3.8.0,>=3.7.2->en-core-web-sm==3.7.1) (1.25.0)\n",
      "Requirement already satisfied: annotated-types>=0.4.0 in /Users/groza/opt/anaconda3/envs/nlp/lib/python3.9/site-packages (from pydantic!=1.8,!=1.8.1,<3.0.0,>=1.7.4->spacy<3.8.0,>=3.7.2->en-core-web-sm==3.7.1) (0.6.0)\n",
      "Requirement already satisfied: pydantic-core==2.16.3 in /Users/groza/opt/anaconda3/envs/nlp/lib/python3.9/site-packages (from pydantic!=1.8,!=1.8.1,<3.0.0,>=1.7.4->spacy<3.8.0,>=3.7.2->en-core-web-sm==3.7.1) (2.16.3)\n",
      "Requirement already satisfied: typing-extensions>=4.6.1 in /Users/groza/opt/anaconda3/envs/nlp/lib/python3.9/site-packages (from pydantic!=1.8,!=1.8.1,<3.0.0,>=1.7.4->spacy<3.8.0,>=3.7.2->en-core-web-sm==3.7.1) (4.9.0)\n",
      "Requirement already satisfied: charset-normalizer<4,>=2 in /Users/groza/opt/anaconda3/envs/nlp/lib/python3.9/site-packages (from requests<3.0.0,>=2.13.0->spacy<3.8.0,>=3.7.2->en-core-web-sm==3.7.1) (2.0.4)\n",
      "Requirement already satisfied: idna<4,>=2.5 in /Users/groza/opt/anaconda3/envs/nlp/lib/python3.9/site-packages (from requests<3.0.0,>=2.13.0->spacy<3.8.0,>=3.7.2->en-core-web-sm==3.7.1) (3.4)\n",
      "Requirement already satisfied: urllib3<3,>=1.21.1 in /Users/groza/opt/anaconda3/envs/nlp/lib/python3.9/site-packages (from requests<3.0.0,>=2.13.0->spacy<3.8.0,>=3.7.2->en-core-web-sm==3.7.1) (2.1.0)\n",
      "Requirement already satisfied: certifi>=2017.4.17 in /Users/groza/opt/anaconda3/envs/nlp/lib/python3.9/site-packages (from requests<3.0.0,>=2.13.0->spacy<3.8.0,>=3.7.2->en-core-web-sm==3.7.1) (2024.2.2)\n",
      "Requirement already satisfied: blis<0.8.0,>=0.7.8 in /Users/groza/opt/anaconda3/envs/nlp/lib/python3.9/site-packages (from thinc<8.3.0,>=8.2.2->spacy<3.8.0,>=3.7.2->en-core-web-sm==3.7.1) (0.7.11)\n",
      "Requirement already satisfied: confection<1.0.0,>=0.0.1 in /Users/groza/opt/anaconda3/envs/nlp/lib/python3.9/site-packages (from thinc<8.3.0,>=8.2.2->spacy<3.8.0,>=3.7.2->en-core-web-sm==3.7.1) (0.1.4)\n",
      "Requirement already satisfied: click<9.0.0,>=7.1.1 in /Users/groza/opt/anaconda3/envs/nlp/lib/python3.9/site-packages (from typer<0.10.0,>=0.3.0->spacy<3.8.0,>=3.7.2->en-core-web-sm==3.7.1) (8.1.7)\n",
      "Requirement already satisfied: cloudpathlib<0.17.0,>=0.7.0 in /Users/groza/opt/anaconda3/envs/nlp/lib/python3.9/site-packages (from weasel<0.4.0,>=0.1.0->spacy<3.8.0,>=3.7.2->en-core-web-sm==3.7.1) (0.16.0)\n",
      "Requirement already satisfied: MarkupSafe>=2.0 in /Users/groza/opt/anaconda3/envs/nlp/lib/python3.9/site-packages (from jinja2->spacy<3.8.0,>=3.7.2->en-core-web-sm==3.7.1) (2.1.3)\n",
      "\u001b[38;5;2m✔ Download and installation successful\u001b[0m\n",
      "You can now load the package via spacy.load('en_core_web_sm')\n",
      "Collecting ro-core-news-sm==3.7.0\n",
      "  Downloading https://github.com/explosion/spacy-models/releases/download/ro_core_news_sm-3.7.0/ro_core_news_sm-3.7.0-py3-none-any.whl (12.9 MB)\n",
      "\u001b[2K     \u001b[90m━━━━━━━━━━━━━━━━━━━━━━━━━━━━━━━━━━━━━━━━\u001b[0m \u001b[32m12.9/12.9 MB\u001b[0m \u001b[31m15.1 MB/s\u001b[0m eta \u001b[36m0:00:00\u001b[0ma \u001b[36m0:00:01\u001b[0m\n",
      "\u001b[?25hRequirement already satisfied: spacy<3.8.0,>=3.7.0 in /Users/groza/opt/anaconda3/envs/nlp/lib/python3.9/site-packages (from ro-core-news-sm==3.7.0) (3.7.4)\n",
      "Requirement already satisfied: spacy-legacy<3.1.0,>=3.0.11 in /Users/groza/opt/anaconda3/envs/nlp/lib/python3.9/site-packages (from spacy<3.8.0,>=3.7.0->ro-core-news-sm==3.7.0) (3.0.12)\n",
      "Requirement already satisfied: spacy-loggers<2.0.0,>=1.0.0 in /Users/groza/opt/anaconda3/envs/nlp/lib/python3.9/site-packages (from spacy<3.8.0,>=3.7.0->ro-core-news-sm==3.7.0) (1.0.5)\n",
      "Requirement already satisfied: murmurhash<1.1.0,>=0.28.0 in /Users/groza/opt/anaconda3/envs/nlp/lib/python3.9/site-packages (from spacy<3.8.0,>=3.7.0->ro-core-news-sm==3.7.0) (1.0.10)\n",
      "Requirement already satisfied: cymem<2.1.0,>=2.0.2 in /Users/groza/opt/anaconda3/envs/nlp/lib/python3.9/site-packages (from spacy<3.8.0,>=3.7.0->ro-core-news-sm==3.7.0) (2.0.8)\n",
      "Requirement already satisfied: preshed<3.1.0,>=3.0.2 in /Users/groza/opt/anaconda3/envs/nlp/lib/python3.9/site-packages (from spacy<3.8.0,>=3.7.0->ro-core-news-sm==3.7.0) (3.0.9)\n",
      "Requirement already satisfied: thinc<8.3.0,>=8.2.2 in /Users/groza/opt/anaconda3/envs/nlp/lib/python3.9/site-packages (from spacy<3.8.0,>=3.7.0->ro-core-news-sm==3.7.0) (8.2.3)\n",
      "Requirement already satisfied: wasabi<1.2.0,>=0.9.1 in /Users/groza/opt/anaconda3/envs/nlp/lib/python3.9/site-packages (from spacy<3.8.0,>=3.7.0->ro-core-news-sm==3.7.0) (1.1.2)\n",
      "Requirement already satisfied: srsly<3.0.0,>=2.4.3 in /Users/groza/opt/anaconda3/envs/nlp/lib/python3.9/site-packages (from spacy<3.8.0,>=3.7.0->ro-core-news-sm==3.7.0) (2.4.8)\n",
      "Requirement already satisfied: catalogue<2.1.0,>=2.0.6 in /Users/groza/opt/anaconda3/envs/nlp/lib/python3.9/site-packages (from spacy<3.8.0,>=3.7.0->ro-core-news-sm==3.7.0) (2.0.10)\n",
      "Requirement already satisfied: weasel<0.4.0,>=0.1.0 in /Users/groza/opt/anaconda3/envs/nlp/lib/python3.9/site-packages (from spacy<3.8.0,>=3.7.0->ro-core-news-sm==3.7.0) (0.3.4)\n",
      "Requirement already satisfied: typer<0.10.0,>=0.3.0 in /Users/groza/opt/anaconda3/envs/nlp/lib/python3.9/site-packages (from spacy<3.8.0,>=3.7.0->ro-core-news-sm==3.7.0) (0.9.0)\n",
      "Requirement already satisfied: smart-open<7.0.0,>=5.2.1 in /Users/groza/opt/anaconda3/envs/nlp/lib/python3.9/site-packages (from spacy<3.8.0,>=3.7.0->ro-core-news-sm==3.7.0) (6.4.0)\n",
      "Requirement already satisfied: tqdm<5.0.0,>=4.38.0 in /Users/groza/opt/anaconda3/envs/nlp/lib/python3.9/site-packages (from spacy<3.8.0,>=3.7.0->ro-core-news-sm==3.7.0) (4.65.0)\n",
      "Requirement already satisfied: requests<3.0.0,>=2.13.0 in /Users/groza/opt/anaconda3/envs/nlp/lib/python3.9/site-packages (from spacy<3.8.0,>=3.7.0->ro-core-news-sm==3.7.0) (2.31.0)\n",
      "Requirement already satisfied: pydantic!=1.8,!=1.8.1,<3.0.0,>=1.7.4 in /Users/groza/opt/anaconda3/envs/nlp/lib/python3.9/site-packages (from spacy<3.8.0,>=3.7.0->ro-core-news-sm==3.7.0) (2.6.4)\n",
      "Requirement already satisfied: jinja2 in /Users/groza/opt/anaconda3/envs/nlp/lib/python3.9/site-packages (from spacy<3.8.0,>=3.7.0->ro-core-news-sm==3.7.0) (3.1.3)\n",
      "Requirement already satisfied: setuptools in /Users/groza/opt/anaconda3/envs/nlp/lib/python3.9/site-packages (from spacy<3.8.0,>=3.7.0->ro-core-news-sm==3.7.0) (69.2.0)\n",
      "Requirement already satisfied: packaging>=20.0 in /Users/groza/opt/anaconda3/envs/nlp/lib/python3.9/site-packages (from spacy<3.8.0,>=3.7.0->ro-core-news-sm==3.7.0) (23.1)\n",
      "Requirement already satisfied: langcodes<4.0.0,>=3.2.0 in /Users/groza/opt/anaconda3/envs/nlp/lib/python3.9/site-packages (from spacy<3.8.0,>=3.7.0->ro-core-news-sm==3.7.0) (3.3.0)\n",
      "Requirement already satisfied: numpy>=1.19.0 in /Users/groza/opt/anaconda3/envs/nlp/lib/python3.9/site-packages (from spacy<3.8.0,>=3.7.0->ro-core-news-sm==3.7.0) (1.25.0)\n",
      "Requirement already satisfied: annotated-types>=0.4.0 in /Users/groza/opt/anaconda3/envs/nlp/lib/python3.9/site-packages (from pydantic!=1.8,!=1.8.1,<3.0.0,>=1.7.4->spacy<3.8.0,>=3.7.0->ro-core-news-sm==3.7.0) (0.6.0)\n",
      "Requirement already satisfied: pydantic-core==2.16.3 in /Users/groza/opt/anaconda3/envs/nlp/lib/python3.9/site-packages (from pydantic!=1.8,!=1.8.1,<3.0.0,>=1.7.4->spacy<3.8.0,>=3.7.0->ro-core-news-sm==3.7.0) (2.16.3)\n",
      "Requirement already satisfied: typing-extensions>=4.6.1 in /Users/groza/opt/anaconda3/envs/nlp/lib/python3.9/site-packages (from pydantic!=1.8,!=1.8.1,<3.0.0,>=1.7.4->spacy<3.8.0,>=3.7.0->ro-core-news-sm==3.7.0) (4.9.0)\n",
      "Requirement already satisfied: charset-normalizer<4,>=2 in /Users/groza/opt/anaconda3/envs/nlp/lib/python3.9/site-packages (from requests<3.0.0,>=2.13.0->spacy<3.8.0,>=3.7.0->ro-core-news-sm==3.7.0) (2.0.4)\n",
      "Requirement already satisfied: idna<4,>=2.5 in /Users/groza/opt/anaconda3/envs/nlp/lib/python3.9/site-packages (from requests<3.0.0,>=2.13.0->spacy<3.8.0,>=3.7.0->ro-core-news-sm==3.7.0) (3.4)\n",
      "Requirement already satisfied: urllib3<3,>=1.21.1 in /Users/groza/opt/anaconda3/envs/nlp/lib/python3.9/site-packages (from requests<3.0.0,>=2.13.0->spacy<3.8.0,>=3.7.0->ro-core-news-sm==3.7.0) (2.1.0)\n",
      "Requirement already satisfied: certifi>=2017.4.17 in /Users/groza/opt/anaconda3/envs/nlp/lib/python3.9/site-packages (from requests<3.0.0,>=2.13.0->spacy<3.8.0,>=3.7.0->ro-core-news-sm==3.7.0) (2024.2.2)\n",
      "Requirement already satisfied: blis<0.8.0,>=0.7.8 in /Users/groza/opt/anaconda3/envs/nlp/lib/python3.9/site-packages (from thinc<8.3.0,>=8.2.2->spacy<3.8.0,>=3.7.0->ro-core-news-sm==3.7.0) (0.7.11)\n",
      "Requirement already satisfied: confection<1.0.0,>=0.0.1 in /Users/groza/opt/anaconda3/envs/nlp/lib/python3.9/site-packages (from thinc<8.3.0,>=8.2.2->spacy<3.8.0,>=3.7.0->ro-core-news-sm==3.7.0) (0.1.4)\n",
      "Requirement already satisfied: click<9.0.0,>=7.1.1 in /Users/groza/opt/anaconda3/envs/nlp/lib/python3.9/site-packages (from typer<0.10.0,>=0.3.0->spacy<3.8.0,>=3.7.0->ro-core-news-sm==3.7.0) (8.1.7)\n",
      "Requirement already satisfied: cloudpathlib<0.17.0,>=0.7.0 in /Users/groza/opt/anaconda3/envs/nlp/lib/python3.9/site-packages (from weasel<0.4.0,>=0.1.0->spacy<3.8.0,>=3.7.0->ro-core-news-sm==3.7.0) (0.16.0)\n",
      "Requirement already satisfied: MarkupSafe>=2.0 in /Users/groza/opt/anaconda3/envs/nlp/lib/python3.9/site-packages (from jinja2->spacy<3.8.0,>=3.7.0->ro-core-news-sm==3.7.0) (2.1.3)\n",
      "\u001b[38;5;2m✔ Download and installation successful\u001b[0m\n",
      "You can now load the package via spacy.load('ro_core_news_sm')\n"
     ]
    }
   ],
   "source": [
    "# spaCy setup\n",
    "\"\"\"\n",
    "! pip install -U pip setuptools wheel\n",
    "! pip install -U 'spacy[apple]'\n",
    "! python -m spacy download en_core_web_sm\n",
    "! python -m spacy download ro_core_news_sm\n",
    "\"\"\""
   ]
  },
  {
   "cell_type": "code",
   "execution_count": 11,
   "id": "c500d10c-1279-4d6d-bb2e-d8344fef8136",
   "metadata": {},
   "outputs": [
    {
     "name": "stdout",
     "output_type": "stream",
     "text": [
      "Requirement already satisfied: nlpcube in /Users/groza/opt/anaconda3/envs/nlp/lib/python3.9/site-packages (0.3.1.2)\n",
      "Requirement already satisfied: beautifulsoup4==4.12.2 in /Users/groza/opt/anaconda3/envs/nlp/lib/python3.9/site-packages (from nlpcube) (4.12.2)\n",
      "Requirement already satisfied: fasttext==0.9.2 in /Users/groza/opt/anaconda3/envs/nlp/lib/python3.9/site-packages (from nlpcube) (0.9.2)\n",
      "Requirement already satisfied: Flask==2.3.2 in /Users/groza/opt/anaconda3/envs/nlp/lib/python3.9/site-packages (from nlpcube) (2.3.2)\n",
      "Requirement already satisfied: numpy==1.25.0 in /Users/groza/opt/anaconda3/envs/nlp/lib/python3.9/site-packages (from nlpcube) (1.25.0)\n",
      "Requirement already satisfied: pytorch-lightning==2.0.3 in /Users/groza/opt/anaconda3/envs/nlp/lib/python3.9/site-packages (from nlpcube) (2.0.3)\n",
      "Requirement already satisfied: PyYAML==6.0 in /Users/groza/opt/anaconda3/envs/nlp/lib/python3.9/site-packages (from nlpcube) (6.0)\n",
      "Requirement already satisfied: Requests==2.31.0 in /Users/groza/opt/anaconda3/envs/nlp/lib/python3.9/site-packages (from nlpcube) (2.31.0)\n",
      "Collecting setuptools==67.7.2 (from nlpcube)\n",
      "  Using cached setuptools-67.7.2-py3-none-any.whl.metadata (6.2 kB)\n",
      "Requirement already satisfied: torch==2.0.1 in /Users/groza/opt/anaconda3/envs/nlp/lib/python3.9/site-packages (from nlpcube) (2.0.1)\n",
      "Requirement already satisfied: tqdm==4.65.0 in /Users/groza/opt/anaconda3/envs/nlp/lib/python3.9/site-packages (from nlpcube) (4.65.0)\n",
      "Requirement already satisfied: transformers==4.30.2 in /Users/groza/opt/anaconda3/envs/nlp/lib/python3.9/site-packages (from nlpcube) (4.30.2)\n",
      "Requirement already satisfied: soupsieve>1.2 in /Users/groza/opt/anaconda3/envs/nlp/lib/python3.9/site-packages (from beautifulsoup4==4.12.2->nlpcube) (2.5)\n",
      "Requirement already satisfied: pybind11>=2.2 in /Users/groza/opt/anaconda3/envs/nlp/lib/python3.9/site-packages (from fasttext==0.9.2->nlpcube) (2.11.1)\n",
      "Requirement already satisfied: Werkzeug>=2.3.3 in /Users/groza/opt/anaconda3/envs/nlp/lib/python3.9/site-packages (from Flask==2.3.2->nlpcube) (3.0.1)\n",
      "Requirement already satisfied: Jinja2>=3.1.2 in /Users/groza/opt/anaconda3/envs/nlp/lib/python3.9/site-packages (from Flask==2.3.2->nlpcube) (3.1.3)\n",
      "Requirement already satisfied: itsdangerous>=2.1.2 in /Users/groza/opt/anaconda3/envs/nlp/lib/python3.9/site-packages (from Flask==2.3.2->nlpcube) (2.1.2)\n",
      "Requirement already satisfied: click>=8.1.3 in /Users/groza/opt/anaconda3/envs/nlp/lib/python3.9/site-packages (from Flask==2.3.2->nlpcube) (8.1.7)\n",
      "Requirement already satisfied: blinker>=1.6.2 in /Users/groza/opt/anaconda3/envs/nlp/lib/python3.9/site-packages (from Flask==2.3.2->nlpcube) (1.7.0)\n",
      "Requirement already satisfied: importlib-metadata>=3.6.0 in /Users/groza/opt/anaconda3/envs/nlp/lib/python3.9/site-packages (from Flask==2.3.2->nlpcube) (7.0.1)\n",
      "Requirement already satisfied: fsspec>2021.06.0 in /Users/groza/opt/anaconda3/envs/nlp/lib/python3.9/site-packages (from fsspec[http]>2021.06.0->pytorch-lightning==2.0.3->nlpcube) (2024.2.0)\n",
      "Requirement already satisfied: torchmetrics>=0.7.0 in /Users/groza/opt/anaconda3/envs/nlp/lib/python3.9/site-packages (from pytorch-lightning==2.0.3->nlpcube) (1.3.1)\n",
      "Requirement already satisfied: packaging>=17.1 in /Users/groza/opt/anaconda3/envs/nlp/lib/python3.9/site-packages (from pytorch-lightning==2.0.3->nlpcube) (23.1)\n",
      "Requirement already satisfied: typing-extensions>=4.0.0 in /Users/groza/opt/anaconda3/envs/nlp/lib/python3.9/site-packages (from pytorch-lightning==2.0.3->nlpcube) (4.9.0)\n",
      "Requirement already satisfied: lightning-utilities>=0.7.0 in /Users/groza/opt/anaconda3/envs/nlp/lib/python3.9/site-packages (from pytorch-lightning==2.0.3->nlpcube) (0.10.1)\n",
      "Requirement already satisfied: charset-normalizer<4,>=2 in /Users/groza/opt/anaconda3/envs/nlp/lib/python3.9/site-packages (from Requests==2.31.0->nlpcube) (2.0.4)\n",
      "Requirement already satisfied: idna<4,>=2.5 in /Users/groza/opt/anaconda3/envs/nlp/lib/python3.9/site-packages (from Requests==2.31.0->nlpcube) (3.4)\n",
      "Requirement already satisfied: urllib3<3,>=1.21.1 in /Users/groza/opt/anaconda3/envs/nlp/lib/python3.9/site-packages (from Requests==2.31.0->nlpcube) (2.1.0)\n",
      "Requirement already satisfied: certifi>=2017.4.17 in /Users/groza/opt/anaconda3/envs/nlp/lib/python3.9/site-packages (from Requests==2.31.0->nlpcube) (2024.2.2)\n",
      "Requirement already satisfied: filelock in /Users/groza/opt/anaconda3/envs/nlp/lib/python3.9/site-packages (from torch==2.0.1->nlpcube) (3.13.1)\n",
      "Requirement already satisfied: sympy in /Users/groza/opt/anaconda3/envs/nlp/lib/python3.9/site-packages (from torch==2.0.1->nlpcube) (1.12)\n",
      "Requirement already satisfied: networkx in /Users/groza/opt/anaconda3/envs/nlp/lib/python3.9/site-packages (from torch==2.0.1->nlpcube) (3.2.1)\n",
      "Requirement already satisfied: huggingface-hub<1.0,>=0.14.1 in /Users/groza/opt/anaconda3/envs/nlp/lib/python3.9/site-packages (from transformers==4.30.2->nlpcube) (0.21.4)\n",
      "Requirement already satisfied: regex!=2019.12.17 in /Users/groza/opt/anaconda3/envs/nlp/lib/python3.9/site-packages (from transformers==4.30.2->nlpcube) (2023.12.25)\n",
      "Requirement already satisfied: tokenizers!=0.11.3,<0.14,>=0.11.1 in /Users/groza/opt/anaconda3/envs/nlp/lib/python3.9/site-packages (from transformers==4.30.2->nlpcube) (0.13.3)\n",
      "Requirement already satisfied: safetensors>=0.3.1 in /Users/groza/opt/anaconda3/envs/nlp/lib/python3.9/site-packages (from transformers==4.30.2->nlpcube) (0.4.2)\n",
      "Requirement already satisfied: aiohttp!=4.0.0a0,!=4.0.0a1 in /Users/groza/opt/anaconda3/envs/nlp/lib/python3.9/site-packages (from fsspec[http]>2021.06.0->pytorch-lightning==2.0.3->nlpcube) (3.9.3)\n",
      "Requirement already satisfied: zipp>=0.5 in /Users/groza/opt/anaconda3/envs/nlp/lib/python3.9/site-packages (from importlib-metadata>=3.6.0->Flask==2.3.2->nlpcube) (3.17.0)\n",
      "Requirement already satisfied: MarkupSafe>=2.0 in /Users/groza/opt/anaconda3/envs/nlp/lib/python3.9/site-packages (from Jinja2>=3.1.2->Flask==2.3.2->nlpcube) (2.1.3)\n",
      "Requirement already satisfied: mpmath>=0.19 in /Users/groza/opt/anaconda3/envs/nlp/lib/python3.9/site-packages (from sympy->torch==2.0.1->nlpcube) (1.3.0)\n",
      "Requirement already satisfied: aiosignal>=1.1.2 in /Users/groza/opt/anaconda3/envs/nlp/lib/python3.9/site-packages (from aiohttp!=4.0.0a0,!=4.0.0a1->fsspec[http]>2021.06.0->pytorch-lightning==2.0.3->nlpcube) (1.3.1)\n",
      "Requirement already satisfied: attrs>=17.3.0 in /Users/groza/opt/anaconda3/envs/nlp/lib/python3.9/site-packages (from aiohttp!=4.0.0a0,!=4.0.0a1->fsspec[http]>2021.06.0->pytorch-lightning==2.0.3->nlpcube) (23.1.0)\n",
      "Requirement already satisfied: frozenlist>=1.1.1 in /Users/groza/opt/anaconda3/envs/nlp/lib/python3.9/site-packages (from aiohttp!=4.0.0a0,!=4.0.0a1->fsspec[http]>2021.06.0->pytorch-lightning==2.0.3->nlpcube) (1.4.1)\n",
      "Requirement already satisfied: multidict<7.0,>=4.5 in /Users/groza/opt/anaconda3/envs/nlp/lib/python3.9/site-packages (from aiohttp!=4.0.0a0,!=4.0.0a1->fsspec[http]>2021.06.0->pytorch-lightning==2.0.3->nlpcube) (6.0.5)\n",
      "Requirement already satisfied: yarl<2.0,>=1.0 in /Users/groza/opt/anaconda3/envs/nlp/lib/python3.9/site-packages (from aiohttp!=4.0.0a0,!=4.0.0a1->fsspec[http]>2021.06.0->pytorch-lightning==2.0.3->nlpcube) (1.9.4)\n",
      "Requirement already satisfied: async-timeout<5.0,>=4.0 in /Users/groza/opt/anaconda3/envs/nlp/lib/python3.9/site-packages (from aiohttp!=4.0.0a0,!=4.0.0a1->fsspec[http]>2021.06.0->pytorch-lightning==2.0.3->nlpcube) (4.0.3)\n",
      "Using cached setuptools-67.7.2-py3-none-any.whl (1.1 MB)\n",
      "Installing collected packages: setuptools\n",
      "  Attempting uninstall: setuptools\n",
      "    Found existing installation: setuptools 69.2.0\n",
      "    Uninstalling setuptools-69.2.0:\n",
      "      Successfully uninstalled setuptools-69.2.0\n",
      "Successfully installed setuptools-67.7.2\n"
     ]
    }
   ],
   "source": [
    "# NLP-Cube setup\n",
    "\"\"\"\n",
    "! pip3 install -U nlpcube\n",
    "\"\"\""
   ]
  },
  {
   "cell_type": "code",
   "execution_count": 5,
   "id": "d18ebf7b-b60f-432c-9065-89b6bd8be54c",
   "metadata": {},
   "outputs": [
    {
     "name": "stdout",
     "output_type": "stream",
     "text": [
      "Apple\n",
      "vrea\n",
      "să\n",
      "cumpere\n",
      "un\n",
      "startup\n",
      "britanic\n",
      "în\n",
      "valoare\n",
      "de\n",
      "1\n",
      "miliard\n",
      "de\n",
      "dolari\n",
      ".\n"
     ]
    }
   ],
   "source": [
    "# Tokenization\n",
    "import spacy\n",
    "\n",
    "nlp = spacy.load(\"ro_core_news_sm\")\n",
    "doc = nlp(\"Apple vrea să cumpere un startup britanic în valoare de 1 miliard de dolari.\")\n",
    "for token in doc:\n",
    "    print(token.text)"
   ]
  },
  {
   "cell_type": "code",
   "execution_count": 6,
   "id": "746b346f-78eb-4f3e-9f0f-f7cb9cb8ddcd",
   "metadata": {},
   "outputs": [
    {
     "name": "stdout",
     "output_type": "stream",
     "text": [
      "Apple Apple PROPN Np nsubj Xxxxx True False\n",
      "vrea vrea AUX Vmii3s ROOT xxxx True False\n",
      "să să PART Qs mark xx True True\n",
      "cumpere cumpăra AUX Vmsp3 ccomp xxxx True False\n",
      "un un DET Timsr det xx True True\n",
      "startup startup NOUN Ncms-n obj xxxx True False\n",
      "britanic britanic ADJ Afpms-n amod xxxx True False\n",
      "în în ADP Spsa case xx True True\n",
      "valoare valoare NOUN Ncfsrn obl xxxx True False\n",
      "de de ADP Spsa case xx True True\n",
      "1 1  Mc-s-d nummod d False False\n",
      "miliard miliard NUM Mcms-ln nmod xxxx True False\n",
      "de de ADP Spsa case xx True True\n",
      "dolari dolar NOUN Ncmp-n nmod xxxx True False\n",
      ". . PUNCT PERIOD punct . False False\n"
     ]
    }
   ],
   "source": [
    "# POS-tagging\n",
    "import spacy\n",
    "\n",
    "nlp = spacy.load(\"ro_core_news_sm\")\n",
    "doc = nlp(\"Apple vrea să cumpere un startup britanic în valoare de 1 miliard de dolari.\")\n",
    "\n",
    "for token in doc:\n",
    "    print(token.text, token.lemma_, token.pos_, token.tag_, token.dep_,\n",
    "            token.shape_, token.is_alpha, token.is_stop)"
   ]
  },
  {
   "cell_type": "code",
   "execution_count": 7,
   "id": "ddbc8a9b-48c7-43d2-bc5c-571ed11d81a0",
   "metadata": {},
   "outputs": [
    {
     "name": "stdout",
     "output_type": "stream",
     "text": [
      "britanic 33 41 NAT_REL_POL\n",
      "1 miliard de dolari 56 75 MONEY\n"
     ]
    }
   ],
   "source": [
    "# NER\n",
    "import spacy\n",
    "\n",
    "nlp = spacy.load(\"ro_core_news_sm\")\n",
    "doc = nlp(\"Apple vrea să cumpere un startup britanic în valoare de 1 miliard de dolari.\")\n",
    "\n",
    "for ent in doc.ents:\n",
    "    print(ent.text, ent.start_char, ent.end_char, ent.label_)"
   ]
  },
  {
   "cell_type": "code",
   "execution_count": null,
   "id": "f8390bef-b2d0-45b7-9197-eb4767db0448",
   "metadata": {},
   "outputs": [
    {
     "name": "stderr",
     "output_type": "stream",
     "text": [
      "/Users/groza/opt/anaconda3/envs/nlp/lib/python3.9/site-packages/tqdm/auto.py:21: TqdmWarning: IProgress not found. Please update jupyter and ipywidgets. See https://ipywidgets.readthedocs.io/en/stable/user_install.html\n",
      "  from .autonotebook import tqdm as notebook_tqdm\n",
      "                                                            \r"
     ]
    },
    {
     "name": "stdout",
     "output_type": "stream",
     "text": [
      "Downloading https://dl.fbaipublicfiles.com/fasttext/vectors-crawl/cc.en.300.bin.gz\n",
      " (0.53%) [>                                                  ]>                                                  ]>                                                  ]>                                                  ]>                                                  ]>                                                  ]>                                                  ]>                                                  ]>                                                  ]>                                                  ]>                                                  ]>                                                  ]>                                                  ]>                                                  ]>                                                  ]>                                                  ]>                                                  ]>                                                  ]>                                                  ]>                                                  ]>                                                  ]>                                                  ]>                                                  ]>                                                  ]>                                                  ]>                                                  ]>                                                  ]>                                                  ]>                                                  ]>                                                  ]>                                                  ]>                                                  ]>                                                  ]>                                                  ]>                                                  ]>                                                  ]>                                                  ]>                                                  ]>                                                  ]>                                                  ]>                                                  ]>                                                  ]>                                                  ]>                                                  ]>                                                  ]>                                                  ]>                                                  ]>                                                  ]>                                                  ]>                                                  ]>                                                  ]>                                                  ]>                                                  ]>                                                  ]>                                                  ]>                                                  ]>                                                  ]>                                                  ]>                                                  ]>                                                  ]>                                                  ]>                                                  ]>                                                  ]>                                                  ]>                                                  ]>                                                  ]>                                                  ]>                                                  ]>                                                  ]>                                                  ]>                                                  ]>                                                  ]>                                                  ]>                                                  ]>                                                  ]>                                                  ]>                                                  ]>                                                  ]>                                                  ]>                                                  ]>                                                  ]>                                                  ]>                                                  ]>                                                  ]>                                                  ]>                                                  ]>                                                  ]>                                                  ]>                                                  ]\r"
     ]
    },
    {
     "name": "stderr",
     "output_type": "stream",
     "text": [
      "IOPub message rate exceeded.\n",
      "The Jupyter server will temporarily stop sending output\n",
      "to the client in order to avoid crashing it.\n",
      "To change this limit, set the config variable\n",
      "`--ServerApp.iopub_msg_rate_limit`.\n",
      "\n",
      "Current values:\n",
      "ServerApp.iopub_msg_rate_limit=1000.0 (msgs/sec)\n",
      "ServerApp.rate_limit_window=3.0 (secs)\n",
      "\n"
     ]
    },
    {
     "name": "stdout",
     "output_type": "stream",
     "text": [
      " (1.69%) [>                                                  ]>                                                  ]>                                                  ]>                                                  ]>                                                  ]>                                                  ]>                                                  ]>                                                  ]>                                                  ]>                                                  ]>                                                  ]>                                                  ]>                                                  ]>                                                  ]>                                                  ]>                                                  ]>                                                  ]>                                                  ]>                                                  ]>                                                  ]>                                                  ]>                                                  ]>                                                  ]>                                                  ]>                                                  ]>                                                  ]>                                                  ]>                                                  ]>                                                  ]>                                                  ]>                                                  ]>                                                  ]>                                                  ]>                                                  ]>                                                  ]>                                                  ]>                                                  ]>                                                  ]>                                                  ]>                                                  ]>                                                  ]>                                                  ]>                                                  ]>                                                  ]>                                                  ]>                                                  ]>                                                  ]>                                                  ]>                                                  ]>                                                  ]>                                                  ]>                                                  ]>                                                  ]>                                                  ]>                                                  ]>                                                  ]>                                                  ]>                                                  ]>                                                  ]>                                                  ]>                                                  ]>                                                  ]>                                                  ]>                                                  ]>                                                  ]>                                                  ]>                                                  ]>                                                  ]>                                                  ]>                                                  ]>                                                  ]>                                                  ]>                                                  ]>                                                  ]>                                                  ]>                                                  ]>                                                  ]>                                                  ]>                                                  ]>                                                  ]>                                                  ]>                                                  ]>                                                  ]>                                                  ]>                                                  ]>                                                  ]>                                                  ]>                                                  ]>                                                  ]>                                                  ]>                                                  ]>                                                  ]>                                                  ]>                                                  ]>                                                  ]>                                                  ]>                                                  ]>                                                  ]>                                                  ]>                                                  ]>                                                  ]>                                                  ]>                                                  ]>                                                  ]>                                                  ]>                                                  ]>                                                  ]>                                                  ]>                                                  ]>                                                  ]>                                                  ]>                                                  ]>                                                  ]>                                                  ]>                                                  ]>                                                  ]>                                                  ]>                                                  ]>                                                  ]>                                                  ]>                                                  ]"
     ]
    },
    {
     "name": "stderr",
     "output_type": "stream",
     "text": [
      "IOPub message rate exceeded.\n",
      "The Jupyter server will temporarily stop sending output\n",
      "to the client in order to avoid crashing it.\n",
      "To change this limit, set the config variable\n",
      "`--ServerApp.iopub_msg_rate_limit`.\n",
      "\n",
      "Current values:\n",
      "ServerApp.iopub_msg_rate_limit=1000.0 (msgs/sec)\n",
      "ServerApp.rate_limit_window=3.0 (secs)\n",
      "\n"
     ]
    },
    {
     "name": "stdout",
     "output_type": "stream",
     "text": [
      " (2.44%) [=>                                                 ]=>                                                 ]=>                                                 ]=>                                                 ]=>                                                 ]=>                                                 ]\r"
     ]
    }
   ],
   "source": [
    "# NLP-Cube Annotations\n",
    "from cube.api import Cube       # import the Cube object\n",
    "cube=Cube(verbose=True)         # initialize it\n",
    "cube.load(\"en\", device='cpu')   # select the desired language (it will auto-download the model on first run)\n",
    "text=\"This is the text I want segmented, tokenized, lemmatized and annotated with POS and dependencies.\"\n",
    "document=cube(text)            # call with your own text (string) to obtain the annotations"
   ]
  },
  {
   "cell_type": "code",
   "execution_count": null,
   "id": "b13dd310-029c-4854-8530-a474b1f0f345",
   "metadata": {},
   "outputs": [],
   "source": []
  }
 ],
 "metadata": {
  "kernelspec": {
   "display_name": "Python 3 (ipykernel)",
   "language": "python",
   "name": "python3"
  },
  "language_info": {
   "codemirror_mode": {
    "name": "ipython",
    "version": 3
   },
   "file_extension": ".py",
   "mimetype": "text/x-python",
   "name": "python",
   "nbconvert_exporter": "python",
   "pygments_lexer": "ipython3",
   "version": "3.9.18"
  }
 },
 "nbformat": 4,
 "nbformat_minor": 5
}
