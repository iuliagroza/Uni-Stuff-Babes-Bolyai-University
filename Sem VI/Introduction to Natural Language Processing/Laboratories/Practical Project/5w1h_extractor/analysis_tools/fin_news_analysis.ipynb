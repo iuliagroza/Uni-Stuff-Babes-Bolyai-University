{
 "cells": [
  {
   "cell_type": "code",
   "execution_count": 18,
   "id": "eca9a90b",
   "metadata": {},
   "outputs": [],
   "source": [
    "import numpy as np\n",
    "import pandas as pd\n",
    "import matplotlib.pyplot as plt\n",
    "import os"
   ]
  },
  {
   "cell_type": "code",
   "execution_count": 25,
   "id": "88ad8d87",
   "metadata": {},
   "outputs": [
    {
     "name": "stdout",
     "output_type": "stream",
     "text": [
      "Collecting nltk\n",
      "  Downloading nltk-3.8.1-py3-none-any.whl (1.5 MB)\n",
      "\u001b[2K     \u001b[90m━━━━━━━━━━━━━━━━━━━━━━━━━━━━━━━━━━━━━━━━\u001b[0m \u001b[32m1.5/1.5 MB\u001b[0m \u001b[31m6.9 MB/s\u001b[0m eta \u001b[36m0:00:00\u001b[0ma \u001b[36m0:00:01\u001b[0m\n",
      "\u001b[?25hRequirement already satisfied: joblib in /Users/hakanmeva/opt/miniconda3/envs/tensorflow/lib/python3.9/site-packages (from nltk) (1.2.0)\n",
      "Requirement already satisfied: click in /Users/hakanmeva/opt/miniconda3/envs/tensorflow/lib/python3.9/site-packages (from nltk) (8.1.3)\n",
      "Collecting regex>=2021.8.3\n",
      "  Downloading regex-2023.6.3-cp39-cp39-macosx_11_0_arm64.whl (288 kB)\n",
      "\u001b[2K     \u001b[90m━━━━━━━━━━━━━━━━━━━━━━━━━━━━━━━━━━━━━━\u001b[0m \u001b[32m289.0/289.0 kB\u001b[0m \u001b[31m30.4 MB/s\u001b[0m eta \u001b[36m0:00:00\u001b[0m\n",
      "\u001b[?25hRequirement already satisfied: tqdm in /Users/hakanmeva/opt/miniconda3/envs/tensorflow/lib/python3.9/site-packages (from nltk) (4.64.1)\n",
      "Installing collected packages: regex, nltk\n",
      "Successfully installed nltk-3.8.1 regex-2023.6.3\n"
     ]
    }
   ],
   "source": [
    "!pip install nltk"
   ]
  },
  {
   "cell_type": "code",
   "execution_count": 26,
   "id": "4d4f3113",
   "metadata": {},
   "outputs": [
    {
     "name": "stderr",
     "output_type": "stream",
     "text": [
      "[nltk_data] Downloading package punkt to /Users/hakanmeva/nltk_data...\n",
      "[nltk_data]   Unzipping tokenizers/punkt.zip.\n"
     ]
    },
    {
     "data": {
      "text/plain": [
       "True"
      ]
     },
     "execution_count": 26,
     "metadata": {},
     "output_type": "execute_result"
    }
   ],
   "source": [
    "import nltk\n",
    "nltk.download('punkt')"
   ]
  },
  {
   "cell_type": "code",
   "execution_count": 27,
   "id": "4f8ecb03",
   "metadata": {},
   "outputs": [],
   "source": [
    "from nltk.tokenize import sent_tokenize"
   ]
  },
  {
   "cell_type": "code",
   "execution_count": 83,
   "id": "f6782d10",
   "metadata": {},
   "outputs": [],
   "source": [
    "years = [2013, 2014, 2015, 2016, 2017, 2018, 2019, 2020, 2021, 2022]"
   ]
  },
  {
   "cell_type": "code",
   "execution_count": 84,
   "id": "1f999043",
   "metadata": {},
   "outputs": [],
   "source": [
    "df_burse_list = []\n",
    "for year in years:\n",
    "    df = pd.read_parquet('datasets/df_burse_fonduri_mutuale_' + str(year) + '.parquet')\n",
    "    df_burse_list.append(df)\n",
    "df_burse = pd.concat(df_burse_list)"
   ]
  },
  {
   "cell_type": "code",
   "execution_count": 85,
   "id": "3a34d3ad",
   "metadata": {},
   "outputs": [],
   "source": [
    "df_pers_list = []\n",
    "for year in years:\n",
    "    df = pd.read_parquet('datasets/df_finante_pers_' + str(year) + '.parquet')\n",
    "    df_pers_list.append(df)\n",
    "df_pers = pd.concat(df_pers_list)"
   ]
  },
  {
   "cell_type": "markdown",
   "id": "a5f99e03",
   "metadata": {},
   "source": [
    "## General Stats"
   ]
  },
  {
   "cell_type": "code",
   "execution_count": 86,
   "id": "f77ef285",
   "metadata": {},
   "outputs": [
    {
     "name": "stdout",
     "output_type": "stream",
     "text": [
      "Length of Burse fonduri mutuale dataset: 13669\n",
      "Length of Finante personale dataset: 12240\n"
     ]
    }
   ],
   "source": [
    "print('Length of Burse fonduri mutuale dataset: {}'.format(df_burse.shape[0]))\n",
    "print('Length of Finante personale dataset: {}'.format(df_pers.shape[0]))"
   ]
  },
  {
   "cell_type": "code",
   "execution_count": 87,
   "id": "3c0126dc",
   "metadata": {},
   "outputs": [
    {
     "name": "stdout",
     "output_type": "stream",
     "text": [
      "Total file size for Burse fonduri mutuale dataset: 17.916267M\n",
      "Total file size for Finante personale dataset: 18.619099M\n"
     ]
    }
   ],
   "source": [
    "burse_mem = 0\n",
    "for year in years:\n",
    "    burse_mem += os.path.getsize('datasets/df_burse_fonduri_mutuale_' + str(year) + '.parquet')\n",
    "print('Total file size for Burse fonduri mutuale dataset: {}M'.format(burse_mem / 1000000))\n",
    "burse_pers = 0\n",
    "for year in years:\n",
    "    burse_pers += os.path.getsize('datasets/df_finante_pers_' + str(year) + '.parquet')\n",
    "print('Total file size for Finante personale dataset: {}M'.format(burse_pers / 1000000))"
   ]
  },
  {
   "cell_type": "markdown",
   "id": "063d3519",
   "metadata": {},
   "source": [
    "### Burse DS Sentence Stats"
   ]
  },
  {
   "cell_type": "code",
   "execution_count": 88,
   "id": "59866945",
   "metadata": {},
   "outputs": [],
   "source": [
    "df_burse['title_sent_len'] = df_burse.title.apply(sent_tokenize).str.len()\n",
    "df_burse['headline_sent_len'] =df_burse.headline.apply(sent_tokenize).str.len()\n",
    "df_burse['summary_sent_len'] = df_burse.description.apply(sent_tokenize).str.len()\n",
    "df_burse['article_sent_len'] =df_burse.article_text.apply(sent_tokenize).str.len()"
   ]
  },
  {
   "cell_type": "code",
   "execution_count": 89,
   "id": "a06c7373",
   "metadata": {},
   "outputs": [
    {
     "data": {
      "text/plain": [
       "count    13669.000000\n",
       "mean         1.659668\n",
       "std          0.908322\n",
       "min          1.000000\n",
       "25%          1.000000\n",
       "50%          1.000000\n",
       "75%          2.000000\n",
       "max          8.000000\n",
       "Name: title_sent_len, dtype: float64"
      ]
     },
     "execution_count": 89,
     "metadata": {},
     "output_type": "execute_result"
    }
   ],
   "source": [
    "df_burse[df_burse.title_sent_len > 0]['title_sent_len'].describe()"
   ]
  },
  {
   "cell_type": "code",
   "execution_count": 90,
   "id": "b2dc5e84",
   "metadata": {},
   "outputs": [
    {
     "data": {
      "text/plain": [
       "22686"
      ]
     },
     "execution_count": 90,
     "metadata": {},
     "output_type": "execute_result"
    }
   ],
   "source": [
    "df_burse[df_burse.title_sent_len > 0]['title_sent_len'].sum()"
   ]
  },
  {
   "cell_type": "code",
   "execution_count": 91,
   "id": "42eddcac",
   "metadata": {},
   "outputs": [
    {
     "data": {
      "text/plain": [
       "count    13669.000000\n",
       "mean         1.430317\n",
       "std          0.655724\n",
       "min          1.000000\n",
       "25%          1.000000\n",
       "50%          1.000000\n",
       "75%          2.000000\n",
       "max          5.000000\n",
       "Name: headline_sent_len, dtype: float64"
      ]
     },
     "execution_count": 91,
     "metadata": {},
     "output_type": "execute_result"
    }
   ],
   "source": [
    "df_burse[df_burse.headline_sent_len > 0]['headline_sent_len'].describe()"
   ]
  },
  {
   "cell_type": "code",
   "execution_count": 92,
   "id": "ce34f448",
   "metadata": {},
   "outputs": [
    {
     "data": {
      "text/plain": [
       "19551"
      ]
     },
     "execution_count": 92,
     "metadata": {},
     "output_type": "execute_result"
    }
   ],
   "source": [
    "df_burse[df_burse.headline_sent_len > 0]['headline_sent_len'].sum()"
   ]
  },
  {
   "cell_type": "code",
   "execution_count": 93,
   "id": "d20810b0",
   "metadata": {},
   "outputs": [
    {
     "data": {
      "text/plain": [
       "count    10674.000000\n",
       "mean         1.411373\n",
       "std          0.815999\n",
       "min          1.000000\n",
       "25%          1.000000\n",
       "50%          1.000000\n",
       "75%          2.000000\n",
       "max         16.000000\n",
       "Name: summary_sent_len, dtype: float64"
      ]
     },
     "execution_count": 93,
     "metadata": {},
     "output_type": "execute_result"
    }
   ],
   "source": [
    "df_burse[df_burse.summary_sent_len > 0]['summary_sent_len'].describe()"
   ]
  },
  {
   "cell_type": "code",
   "execution_count": 94,
   "id": "f6c0d948",
   "metadata": {},
   "outputs": [
    {
     "data": {
      "text/plain": [
       "15065"
      ]
     },
     "execution_count": 94,
     "metadata": {},
     "output_type": "execute_result"
    }
   ],
   "source": [
    "df_burse[df_burse.summary_sent_len > 0]['summary_sent_len'].sum()"
   ]
  },
  {
   "cell_type": "code",
   "execution_count": 95,
   "id": "b7b58bc0",
   "metadata": {},
   "outputs": [
    {
     "data": {
      "text/plain": [
       "count    13251.000000\n",
       "mean        10.070334\n",
       "std         10.042974\n",
       "min          1.000000\n",
       "25%          5.000000\n",
       "50%          8.000000\n",
       "75%         12.000000\n",
       "max        169.000000\n",
       "Name: article_sent_len, dtype: float64"
      ]
     },
     "execution_count": 95,
     "metadata": {},
     "output_type": "execute_result"
    }
   ],
   "source": [
    "df_burse[df_burse.article_sent_len > 0]['article_sent_len'].describe()"
   ]
  },
  {
   "cell_type": "code",
   "execution_count": 96,
   "id": "97415a18",
   "metadata": {},
   "outputs": [
    {
     "data": {
      "text/plain": [
       "133442"
      ]
     },
     "execution_count": 96,
     "metadata": {},
     "output_type": "execute_result"
    }
   ],
   "source": [
    "df_burse[df_burse.article_sent_len > 0]['article_sent_len'].sum()"
   ]
  },
  {
   "cell_type": "markdown",
   "id": "05532208",
   "metadata": {},
   "source": [
    "## Finante Pers DS Sentence Stats"
   ]
  },
  {
   "cell_type": "code",
   "execution_count": 97,
   "id": "260ee402",
   "metadata": {},
   "outputs": [],
   "source": [
    "df_pers['title_sent_len'] = df_pers.title.apply(sent_tokenize).str.len()\n",
    "df_pers['headline_sent_len'] =df_pers.headline.apply(sent_tokenize).str.len()\n",
    "df_pers['summary_sent_len'] = df_pers.description.apply(sent_tokenize).str.len()\n",
    "df_pers['article_sent_len'] =df_pers.article_text.apply(sent_tokenize).str.len()"
   ]
  },
  {
   "cell_type": "code",
   "execution_count": 98,
   "id": "9d9c76ab",
   "metadata": {},
   "outputs": [
    {
     "data": {
      "text/plain": [
       "count    12240.000000\n",
       "mean         1.670180\n",
       "std          0.913334\n",
       "min          1.000000\n",
       "25%          1.000000\n",
       "50%          1.000000\n",
       "75%          2.000000\n",
       "max          8.000000\n",
       "Name: title_sent_len, dtype: float64"
      ]
     },
     "execution_count": 98,
     "metadata": {},
     "output_type": "execute_result"
    }
   ],
   "source": [
    "df_pers[df_pers.title_sent_len > 0]['title_sent_len'].describe()"
   ]
  },
  {
   "cell_type": "code",
   "execution_count": 99,
   "id": "169d8207",
   "metadata": {},
   "outputs": [
    {
     "data": {
      "text/plain": [
       "20443"
      ]
     },
     "execution_count": 99,
     "metadata": {},
     "output_type": "execute_result"
    }
   ],
   "source": [
    "df_pers[df_pers.title_sent_len > 0]['title_sent_len'].sum()"
   ]
  },
  {
   "cell_type": "code",
   "execution_count": 100,
   "id": "90741cd0",
   "metadata": {},
   "outputs": [
    {
     "data": {
      "text/plain": [
       "count    12240.000000\n",
       "mean         1.439542\n",
       "std          0.622275\n",
       "min          1.000000\n",
       "25%          1.000000\n",
       "50%          1.000000\n",
       "75%          2.000000\n",
       "max          5.000000\n",
       "Name: headline_sent_len, dtype: float64"
      ]
     },
     "execution_count": 100,
     "metadata": {},
     "output_type": "execute_result"
    }
   ],
   "source": [
    "df_pers[df_pers.headline_sent_len > 0]['headline_sent_len'].describe()"
   ]
  },
  {
   "cell_type": "code",
   "execution_count": 101,
   "id": "97c19070",
   "metadata": {},
   "outputs": [
    {
     "data": {
      "text/plain": [
       "17620"
      ]
     },
     "execution_count": 101,
     "metadata": {},
     "output_type": "execute_result"
    }
   ],
   "source": [
    "df_pers[df_pers.headline_sent_len > 0]['headline_sent_len'].sum()"
   ]
  },
  {
   "cell_type": "code",
   "execution_count": 102,
   "id": "5895f45c",
   "metadata": {},
   "outputs": [
    {
     "data": {
      "text/plain": [
       "count    11050.000000\n",
       "mean         1.369140\n",
       "std          0.726474\n",
       "min          1.000000\n",
       "25%          1.000000\n",
       "50%          1.000000\n",
       "75%          2.000000\n",
       "max          8.000000\n",
       "Name: summary_sent_len, dtype: float64"
      ]
     },
     "execution_count": 102,
     "metadata": {},
     "output_type": "execute_result"
    }
   ],
   "source": [
    "df_pers[df_pers.summary_sent_len > 0]['summary_sent_len'].describe()"
   ]
  },
  {
   "cell_type": "code",
   "execution_count": 103,
   "id": "c8d986b6",
   "metadata": {},
   "outputs": [
    {
     "data": {
      "text/plain": [
       "15129"
      ]
     },
     "execution_count": 103,
     "metadata": {},
     "output_type": "execute_result"
    }
   ],
   "source": [
    "df_pers[df_pers.summary_sent_len > 0]['summary_sent_len'].sum()"
   ]
  },
  {
   "cell_type": "code",
   "execution_count": 104,
   "id": "210b6719",
   "metadata": {},
   "outputs": [
    {
     "data": {
      "text/plain": [
       "count    12233.000000\n",
       "mean        11.390501\n",
       "std         14.023226\n",
       "min          1.000000\n",
       "25%          5.000000\n",
       "50%          8.000000\n",
       "75%         13.000000\n",
       "max        327.000000\n",
       "Name: article_sent_len, dtype: float64"
      ]
     },
     "execution_count": 104,
     "metadata": {},
     "output_type": "execute_result"
    }
   ],
   "source": [
    "df_pers[df_pers.article_sent_len > 0]['article_sent_len'].describe()"
   ]
  },
  {
   "cell_type": "code",
   "execution_count": 105,
   "id": "7af4a17f",
   "metadata": {},
   "outputs": [
    {
     "data": {
      "text/plain": [
       "139340"
      ]
     },
     "execution_count": 105,
     "metadata": {},
     "output_type": "execute_result"
    }
   ],
   "source": [
    "df_pers[df_pers.article_sent_len > 0]['article_sent_len'].sum()"
   ]
  },
  {
   "cell_type": "markdown",
   "id": "d4d37da7",
   "metadata": {},
   "source": [
    "### Burse DS Words Stats"
   ]
  },
  {
   "cell_type": "code",
   "execution_count": null,
   "id": "431a5e5c",
   "metadata": {},
   "outputs": [],
   "source": [
    "#include vocab stats\n",
    "#as in other analysis\n",
    "#include number of words contained in article\n",
    "#plots histograms in parallel"
   ]
  },
  {
   "cell_type": "markdown",
   "id": "2e04b9e7",
   "metadata": {},
   "source": [
    "## Finante Pers DS Word Stats"
   ]
  },
  {
   "cell_type": "code",
   "execution_count": null,
   "id": "867a3ad5",
   "metadata": {},
   "outputs": [],
   "source": [
    "#include vocab stats\n",
    "#as in other analysis\n",
    "#include number of words contained in article\n",
    "#plot histograms in parallel"
   ]
  },
  {
   "cell_type": "code",
   "execution_count": null,
   "id": "677b6836",
   "metadata": {},
   "outputs": [],
   "source": [
    "#calc number of words from title, headline, summary that are found in the article body\n",
    "#calc stats for references used in recommender system, how man have recoms, how manyu unique recoms"
   ]
  }
 ],
 "metadata": {
  "kernelspec": {
   "display_name": "Python 3.9 (tensorflow)",
   "language": "python",
   "name": "tensorflow"
  },
  "language_info": {
   "codemirror_mode": {
    "name": "ipython",
    "version": 3
   },
   "file_extension": ".py",
   "mimetype": "text/x-python",
   "name": "python",
   "nbconvert_exporter": "python",
   "pygments_lexer": "ipython3",
   "version": "3.9.13"
  }
 },
 "nbformat": 4,
 "nbformat_minor": 5
}
