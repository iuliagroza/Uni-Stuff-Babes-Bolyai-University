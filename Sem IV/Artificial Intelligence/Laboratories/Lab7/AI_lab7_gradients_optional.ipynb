{
 "cells": [
  {
   "cell_type": "markdown",
   "id": "980cdd54-5e95-4553-84bd-e6b2b7c96d61",
   "metadata": {},
   "source": [
    "## Gradients in torch recap"
   ]
  },
  {
   "cell_type": "code",
   "execution_count": 1,
   "id": "2fe9daeb-8ecf-4f4c-9e2c-0ed6b9170db7",
   "metadata": {},
   "outputs": [],
   "source": [
    "import math\n",
    "import numpy as np\n",
    "import matplotlib.pyplot as plt\n",
    "%matplotlib inline"
   ]
  },
  {
   "cell_type": "markdown",
   "id": "93769006-ec07-4c47-b2b6-998401f4b19b",
   "metadata": {},
   "source": [
    "## Simple derivative:\n",
    "### Let's define a random function"
   ]
  },
  {
   "cell_type": "code",
   "execution_count": 2,
   "id": "ee764a0a-f4a1-4fe6-8ae0-c3de373a609f",
   "metadata": {},
   "outputs": [],
   "source": [
    "def f(x):\n",
    "  return 3*x**2 - 2*x + 1"
   ]
  },
  {
   "cell_type": "code",
   "execution_count": 3,
   "id": "6f5031f7-d357-42ad-ac49-bfae78f3ca94",
   "metadata": {},
   "outputs": [
    {
     "data": {
      "text/plain": [
       "22.0"
      ]
     },
     "execution_count": 3,
     "metadata": {},
     "output_type": "execute_result"
    }
   ],
   "source": [
    "f(3.0)"
   ]
  },
  {
   "cell_type": "code",
   "execution_count": 4,
   "id": "cedd7f8c-ec5d-4c6e-b3a0-008a6b3605ab",
   "metadata": {},
   "outputs": [
    {
     "data": {
      "text/plain": [
       "[<matplotlib.lines.Line2D at 0x7f8b7802dfa0>]"
      ]
     },
     "execution_count": 4,
     "metadata": {},
     "output_type": "execute_result"
    },
    {
     "data": {
      "image/png": "[encoded data removed]",
      "text/plain": [
       "<Figure size 640x480 with 1 Axes>"
      ]
     },
     "metadata": {},
     "output_type": "display_data"
    }
   ],
   "source": [
    "xs = np.arange(-5, 5, 0.25)\n",
    "ys = f(xs)\n",
    "plt.plot(xs, ys)"
   ]
  },
  {
   "cell_type": "markdown",
   "id": "79a6ea90-f10e-4db0-88ac-3cf9677dbf96",
   "metadata": {},
   "source": [
    "##### What is the derivative of this function ?\n",
    "##### Recall high scholl calculus or https://en.wikipedia.org/wiki/Derivative\n",
    "\n",
    "Derivatives represent the rate of change or slope of a function at a particular point. They are used extensively in machine learning, deep learning, and optimization problems to optimize the parameters of a model. In simple terms, the derivative of a function tells us how much the output of the function changes with respect to its input.\n",
    "\n",
    "The derivative of a function f(x) at a point x is defined as the limit of the difference quotient as h approaches zero:\n",
    "\n",
    "$$f'(x) = \\lim_{h\\to0} \\frac{f(x+h)-f(x)}{h}$$\n",
    "\n",
    "We can approximate the derivative of a function at a point x by choosing a small value of h and calculating the difference quotient. This approximation becomes more accurate as we decrease the value of h. In PyTorch, we can use the torch.autograd package to calculate the derivatives of a function automatically."
   ]
  },
  {
   "cell_type": "code",
   "execution_count": 6,
   "id": "eb28e7ec-f4f6-4156-bf3d-8486a7322721",
   "metadata": {},
   "outputs": [
    {
     "name": "stdout",
     "output_type": "stream",
     "text": [
      "Slope or derivative 16.00300000000132\n"
     ]
    }
   ],
   "source": [
    "h=0.001\n",
    "x=3.0\n",
    "deriv = (f(x+h) - f(x))/h # Numerical aproximation of the slope\n",
    "print(\"Slope or derivative\", deriv)"
   ]
  },
  {
   "cell_type": "markdown",
   "id": "b21bc3e9-d473-429b-bfe9-d182f9bdfba7",
   "metadata": {},
   "source": [
    "##### What does derivative of 0 means ?\n",
    "##### A: Basically the slope is 0"
   ]
  },
  {
   "cell_type": "markdown",
   "id": "50a4e75d-a584-4cb8-8b8a-5dff1e9c466a",
   "metadata": {},
   "source": [
    "### Multi variable derivatives (We don't have just x but rather x,y,z variables)"
   ]
  },
  {
   "cell_type": "code",
   "execution_count": 7,
   "id": "eba0e0ac-3591-419e-8df8-0cdcdfb0b982",
   "metadata": {},
   "outputs": [
    {
     "name": "stdout",
     "output_type": "stream",
     "text": [
      "4.0\n"
     ]
    }
   ],
   "source": [
    "# Let's get more complex\n",
    "a = 2.0\n",
    "b = -3.0\n",
    "c = 10.0\n",
    "d = a*b + c\n",
    "print(d)"
   ]
  },
  {
   "cell_type": "code",
   "execution_count": 8,
   "id": "d9cea278-7704-4ec5-82f2-242c97cb365a",
   "metadata": {},
   "outputs": [
    {
     "name": "stdout",
     "output_type": "stream",
     "text": [
      "d1 4.0\n",
      "d2 4.0001\n",
      "slope 0.9999999999976694\n"
     ]
    }
   ],
   "source": [
    "h = 0.0001\n",
    "\n",
    "# Inputs\n",
    "a = 2.0\n",
    "b = -3.0\n",
    "c = 10.0\n",
    "\n",
    "d1 = a*b + c\n",
    "c += h\n",
    "d2 = a*b + c\n",
    "\n",
    "print('d1', d1)\n",
    "print('d2', d2)\n",
    "print('slope', (d2 - d1)/h)"
   ]
  },
  {
   "cell_type": "markdown",
   "id": "78d7772b",
   "metadata": {},
   "source": [
    "Let's look at a negative slope."
   ]
  },
  {
   "cell_type": "code",
   "execution_count": 9,
   "id": "22b8e4fa-bbed-440c-bcbc-ed0acb4adcc1",
   "metadata": {},
   "outputs": [
    {
     "name": "stdout",
     "output_type": "stream",
     "text": [
      "d1 4.0\n",
      "d2 3.999699999999999\n",
      "slope -3.000000000010772\n"
     ]
    }
   ],
   "source": [
    "h = 0.0001\n",
    "\n",
    "# inputs\n",
    "a = 2.0\n",
    "b = -3.0\n",
    "c = 10.0\n",
    "\n",
    "d1 = a*b + c\n",
    "a += h # Where we add a bit a.k.a derivate\n",
    "d2 = a*b + c\n",
    "\n",
    "print('d1', d1)\n",
    "print('d2', d2)\n",
    "print('slope', (d2 - d1)/h)"
   ]
  },
  {
   "cell_type": "markdown",
   "id": "db3a9f7c",
   "metadata": {},
   "source": [
    "What did we change ? \n",
    "\n",
    "A : The variable in respect to which we compute the derivative."
   ]
  },
  {
   "cell_type": "markdown",
   "id": "e59fb1ab-db93-4ce3-9002-2c487bf3cb05",
   "metadata": {
    "tags": []
   },
   "source": [
    "### Here is how pytorch computes the slopes/aka \"gradients\""
   ]
  },
  {
   "cell_type": "code",
   "execution_count": 12,
   "id": "d320c03c-5d75-48b2-8983-7a85d0d81335",
   "metadata": {},
   "outputs": [
    {
     "name": "stdout",
     "output_type": "stream",
     "text": [
      "tensor([9.], grad_fn=<AddBackward0>)\n",
      "tensor([6.])\n"
     ]
    }
   ],
   "source": [
    "import torch\n",
    "\n",
    "# Define a function\n",
    "def f(x):\n",
    "    return x**2 + 2*x + 1\n",
    "\n",
    "# Define an input tensor\n",
    "x = torch.tensor([2.0], requires_grad=True)\n",
    "\n",
    "# Evaluate the function\n",
    "y = f(x)\n",
    "\n",
    "# Calculate the derivative of the function with respect to x\n",
    "y.backward()\n",
    "\n",
    "print(y)\n",
    "\n",
    "# Print the derivative\n",
    "print(x.grad)"
   ]
  },
  {
   "cell_type": "markdown",
   "id": "a18124d7",
   "metadata": {},
   "source": [
    "Let's dive deeper on how the autograd function works."
   ]
  },
  {
   "cell_type": "code",
   "execution_count": 14,
   "id": "776f94a5-94fb-49d4-8035-1f739b1aac8a",
   "metadata": {},
   "outputs": [],
   "source": [
    "\n",
    "class Value:\n",
    "  \n",
    "  def __init__(self, data, _children=(), _op='', label=''):\n",
    "    self.data = data\n",
    "\n",
    "  def __repr__(self):\n",
    "    return f\"Value(data={self.data})\""
   ]
  },
  {
   "cell_type": "code",
   "execution_count": 15,
   "id": "70348de0-d678-4d0c-83b1-07a2d9d12164",
   "metadata": {},
   "outputs": [],
   "source": [
    "a = Value(2.0)\n",
    "b = Value(-3.0)"
   ]
  },
  {
   "cell_type": "code",
   "execution_count": 16,
   "id": "eea7a276-141f-4580-aebd-8ed9455d32d7",
   "metadata": {},
   "outputs": [
    {
     "data": {
      "text/plain": [
       "Value(data=2.0)"
      ]
     },
     "execution_count": 16,
     "metadata": {},
     "output_type": "execute_result"
    }
   ],
   "source": [
    "a"
   ]
  },
  {
   "cell_type": "code",
   "execution_count": 17,
   "id": "f36964f4-d271-47c6-b0c7-2da12b15628e",
   "metadata": {},
   "outputs": [
    {
     "data": {
      "text/plain": [
       "Value(data=-3.0)"
      ]
     },
     "execution_count": 17,
     "metadata": {},
     "output_type": "execute_result"
    }
   ],
   "source": [
    "b"
   ]
  },
  {
   "cell_type": "markdown",
   "id": "d4693dc4",
   "metadata": {},
   "source": [
    "We want to make make an addition of values."
   ]
  },
  {
   "cell_type": "code",
   "execution_count": 18,
   "id": "fae72878-3106-4ab0-a608-5a68587db805",
   "metadata": {},
   "outputs": [
    {
     "ename": "TypeError",
     "evalue": "unsupported operand type(s) for +: 'Value' and 'Value'",
     "output_type": "error",
     "traceback": [
      "\u001b[0;31m---------------------------------------------------------------------------\u001b[0m",
      "\u001b[0;31mTypeError\u001b[0m                                 Traceback (most recent call last)",
      "Cell \u001b[0;32mIn[18], line 1\u001b[0m\n\u001b[0;32m----> 1\u001b[0m \u001b[43ma\u001b[49m\u001b[38;5;241;43m+\u001b[39;49m\u001b[43mb\u001b[49m\n",
      "\u001b[0;31mTypeError\u001b[0m: unsupported operand type(s) for +: 'Value' and 'Value'"
     ]
    }
   ],
   "source": [
    "a+b"
   ]
  },
  {
   "cell_type": "markdown",
   "id": "2ca0ba88",
   "metadata": {},
   "source": [
    "As such, we must modifiy the class."
   ]
  },
  {
   "cell_type": "code",
   "execution_count": 19,
   "id": "f43cea1e-d3a5-4c38-9a98-8de81b36dad6",
   "metadata": {},
   "outputs": [],
   "source": [
    "class Value:\n",
    "  \n",
    "    def __init__(self, data, _children=(), _op='', label=''):\n",
    "        self.data = data\n",
    "\n",
    "    def __repr__(self):\n",
    "        return f\"Value(data={self.data})\"\n",
    "\n",
    "    def __add__(self, other):\n",
    "        out = Value(self.data + other.data, (self, other), '+')\n",
    "        return out\n",
    "    \n",
    "    def __mul__(self, other):\n",
    "        out = Value(self.data * other.data, (self, other), '*')\n",
    "        return out\n"
   ]
  },
  {
   "cell_type": "code",
   "execution_count": 20,
   "id": "0d26c887-fd80-44bf-8ed1-097c65f40eb9",
   "metadata": {},
   "outputs": [
    {
     "data": {
      "text/plain": [
       "Value(data=-1.0)"
      ]
     },
     "execution_count": 20,
     "metadata": {},
     "output_type": "execute_result"
    }
   ],
   "source": [
    "a = Value(2.0)\n",
    "b = Value(-3.0)\n",
    "c = Value(10.0)\n",
    "a+b\n"
   ]
  },
  {
   "cell_type": "code",
   "execution_count": 21,
   "id": "c8a42ac0-582c-476c-8b21-36c06d5f8e86",
   "metadata": {},
   "outputs": [],
   "source": [
    "d = a*b + c"
   ]
  },
  {
   "cell_type": "code",
   "execution_count": 22,
   "id": "3ac634c9-9dc3-46a6-a54c-ad49784316a9",
   "metadata": {},
   "outputs": [],
   "source": [
    "# Code to vizualize the connections between operations"
   ]
  },
  {
   "cell_type": "code",
   "execution_count": 23,
   "id": "e91c6e4b-49b4-47b8-aa81-fa7128d6f189",
   "metadata": {},
   "outputs": [],
   "source": [
    "class Value:\n",
    "  \n",
    "    def __init__(self, data, _children=(), _op='', label=''):\n",
    "        self.data = data\n",
    "        self._prev = set(_children)  # We added this to remember the previous operation\n",
    "        self._op = _op # We added this so the drawing works\n",
    "        self.label = label\n",
    "        self.grad = 0.0\n",
    " \n",
    "    def __repr__(self):\n",
    "        return f\"Value(data={self.data})\"\n",
    "\n",
    "    def __add__(self, other):\n",
    "        out = Value(self.data + other.data, (self, other), '+')\n",
    "        return out\n",
    "    \n",
    "    def __mul__(self, other):\n",
    "        out = Value(self.data * other.data, (self, other), '*')\n",
    "        return out"
   ]
  },
  {
   "cell_type": "code",
   "execution_count": 24,
   "id": "22c38005-f9db-4b18-a9d5-fdf9034858e3",
   "metadata": {},
   "outputs": [],
   "source": [
    "a = Value(2.0)\n",
    "b = Value(-3.0)\n",
    "c = Value(10.0)"
   ]
  },
  {
   "cell_type": "code",
   "execution_count": 25,
   "id": "b1c9b817-d464-4f48-8d77-87111f4e5bb9",
   "metadata": {},
   "outputs": [],
   "source": [
    "d = a * b + c"
   ]
  },
  {
   "cell_type": "code",
   "execution_count": 26,
   "id": "b2ff28de-a9a2-4139-b100-e57d98f2d36c",
   "metadata": {},
   "outputs": [
    {
     "data": {
      "text/plain": [
       "Value(data=2.0)"
      ]
     },
     "execution_count": 26,
     "metadata": {},
     "output_type": "execute_result"
    }
   ],
   "source": [
    "a"
   ]
  },
  {
   "cell_type": "code",
   "execution_count": 27,
   "id": "d4172d87-6070-469f-93c0-f4396d00f9bb",
   "metadata": {},
   "outputs": [
    {
     "data": {
      "text/plain": [
       "Value(data=4.0)"
      ]
     },
     "execution_count": 27,
     "metadata": {},
     "output_type": "execute_result"
    }
   ],
   "source": [
    "d"
   ]
  },
  {
   "cell_type": "code",
   "execution_count": 28,
   "id": "80768c9d-ec10-45df-afc6-55ab146267c8",
   "metadata": {},
   "outputs": [],
   "source": [
    "#!conda install -c anaconda graphviz -y"
   ]
  },
  {
   "cell_type": "code",
   "execution_count": 29,
   "id": "a711040d-dc52-439f-bba3-ad2371a2c7df",
   "metadata": {},
   "outputs": [],
   "source": [
    "from graphviz import Digraph\n",
    "\n",
    "def trace(root):\n",
    "    # Build a set of all nodes and edges in a graph\n",
    "    nodes, edges = set(), set()\n",
    "    def build(v):\n",
    "        if v not in nodes:\n",
    "            nodes.add(v)\n",
    "            for child in v._prev:\n",
    "                edges.add((child, v))\n",
    "                build(child)\n",
    "    build(root)\n",
    "    return nodes, edges\n",
    "\n",
    "def draw_dot(root):\n",
    "    dot = Digraph(format='svg', graph_attr={'rankdir': 'LR'}) # LR = left to right\n",
    "\n",
    "    nodes, edges = trace(root)\n",
    "    for n in nodes:\n",
    "        uid = str(id(n))\n",
    "        # For any value in the graph, create a rectangular ('record') node for it\n",
    "        dot.node(name = uid, label = \"{ %s | data %.4f | grad %.4f }\" % (n.label, n.data, n.grad), shape='record')\n",
    "        if n._op:\n",
    "          # If this value is a result of some operation, create an op node for it\n",
    "          dot.node(name = uid + n._op, label = n._op)\n",
    "          # Connect this node to it\n",
    "          dot.edge(uid + n._op, uid)\n",
    "\n",
    "    for n1, n2 in edges:\n",
    "        # Connect n1 to the op node of n2\n",
    "        dot.edge(str(id(n1)), str(id(n2)) + n2._op)\n",
    "\n",
    "    return dot\n"
   ]
  },
  {
   "cell_type": "code",
   "execution_count": 30,
   "id": "c0d92c34-62f9-4a84-b9d8-980543900754",
   "metadata": {},
   "outputs": [
    {
     "data": {
      "image/svg+xml": [
       "<?xml version=\"1.0\" encoding=\"UTF-8\" standalone=\"no\"?>\n",
       "<!DOCTYPE svg PUBLIC \"-//W3C//DTD SVG 1.1//EN\"\n",
       " \"http://www.w3.org/Graphics/SVG/1.1/DTD/svg11.dtd\">\n",
       "<!-- Generated by graphviz version 8.0.4 (20230421.1958)\n",
       " -->\n",
       "<!-- Pages: 1 -->\n",
       "<svg width=\"814pt\" height=\"128pt\"\n",
       " viewBox=\"0.00 0.00 813.50 128.00\" xmlns=\"http://www.w3.org/2000/svg\" xmlns:xlink=\"http://www.w3.org/1999/xlink\">\n",
       "<g id=\"graph0\" class=\"graph\" transform=\"scale(1 1) rotate(0) translate(4 124)\">\n",
       "<polygon fill=\"white\" stroke=\"none\" points=\"-4,4 -4,-124 809.5,-124 809.5,4 -4,4\"/>\n",
       "<!-- 140238368878160 -->\n",
       "<g id=\"node1\" class=\"node\">\n",
       "<title>140238368878160</title>\n",
       "<polygon fill=\"none\" stroke=\"black\" points=\"0,-83.5 0,-119.5 185.25,-119.5 185.25,-83.5 0,-83.5\"/>\n",
       "<text text-anchor=\"middle\" x=\"9.88\" y=\"-96.7\" font-family=\"Times,serif\" font-size=\"14.00\"> </text>\n",
       "<polyline fill=\"none\" stroke=\"black\" points=\"19.75,-84 19.75,-119.5\"/>\n",
       "<text text-anchor=\"middle\" x=\"61.88\" y=\"-96.7\" font-family=\"Times,serif\" font-size=\"14.00\">data &#45;3.0000</text>\n",
       "<polyline fill=\"none\" stroke=\"black\" points=\"104,-84 104,-119.5\"/>\n",
       "<text text-anchor=\"middle\" x=\"144.62\" y=\"-96.7\" font-family=\"Times,serif\" font-size=\"14.00\">grad 0.0000</text>\n",
       "</g>\n",
       "<!-- 140238368904096* -->\n",
       "<g id=\"node7\" class=\"node\">\n",
       "<title>140238368904096*</title>\n",
       "<ellipse fill=\"none\" stroke=\"black\" cx=\"248.25\" cy=\"-73.5\" rx=\"27\" ry=\"18\"/>\n",
       "<text text-anchor=\"middle\" x=\"248.25\" y=\"-68.45\" font-family=\"Times,serif\" font-size=\"14.00\">*</text>\n",
       "</g>\n",
       "<!-- 140238368878160&#45;&gt;140238368904096* -->\n",
       "<g id=\"edge6\" class=\"edge\">\n",
       "<title>140238368878160&#45;&gt;140238368904096*</title>\n",
       "<path fill=\"none\" stroke=\"black\" d=\"M185.21,-84.81C194.29,-83.15 203.09,-81.55 211.07,-80.09\"/>\n",
       "<polygon fill=\"black\" stroke=\"black\" points=\"211.53,-83.39 220.74,-78.15 210.28,-76.5 211.53,-83.39\"/>\n",
       "</g>\n",
       "<!-- 140238369318560 -->\n",
       "<g id=\"node2\" class=\"node\">\n",
       "<title>140238369318560</title>\n",
       "<polygon fill=\"none\" stroke=\"black\" points=\"311.25,-0.5 311.25,-36.5 498.75,-36.5 498.75,-0.5 311.25,-0.5\"/>\n",
       "<text text-anchor=\"middle\" x=\"321.12\" y=\"-13.7\" font-family=\"Times,serif\" font-size=\"14.00\"> </text>\n",
       "<polyline fill=\"none\" stroke=\"black\" points=\"331,-1 331,-36.5\"/>\n",
       "<text text-anchor=\"middle\" x=\"374.25\" y=\"-13.7\" font-family=\"Times,serif\" font-size=\"14.00\">data 10.0000</text>\n",
       "<polyline fill=\"none\" stroke=\"black\" points=\"417.5,-1 417.5,-36.5\"/>\n",
       "<text text-anchor=\"middle\" x=\"458.12\" y=\"-13.7\" font-family=\"Times,serif\" font-size=\"14.00\">grad 0.0000</text>\n",
       "</g>\n",
       "<!-- 140238366798656+ -->\n",
       "<g id=\"node5\" class=\"node\">\n",
       "<title>140238366798656+</title>\n",
       "<ellipse fill=\"none\" stroke=\"black\" cx=\"561.75\" cy=\"-45.5\" rx=\"27\" ry=\"18\"/>\n",
       "<text text-anchor=\"middle\" x=\"561.75\" y=\"-40.45\" font-family=\"Times,serif\" font-size=\"14.00\">+</text>\n",
       "</g>\n",
       "<!-- 140238369318560&#45;&gt;140238366798656+ -->\n",
       "<g id=\"edge3\" class=\"edge\">\n",
       "<title>140238369318560&#45;&gt;140238366798656+</title>\n",
       "<path fill=\"none\" stroke=\"black\" d=\"M498.7,-34.67C507.8,-36.26 516.6,-37.8 524.58,-39.19\"/>\n",
       "<polygon fill=\"black\" stroke=\"black\" points=\"523.81,-42.78 534.26,-41.05 525.01,-35.89 523.81,-42.78\"/>\n",
       "</g>\n",
       "<!-- 140238368505568 -->\n",
       "<g id=\"node3\" class=\"node\">\n",
       "<title>140238368505568</title>\n",
       "<polygon fill=\"none\" stroke=\"black\" points=\"2.25,-28.5 2.25,-64.5 183,-64.5 183,-28.5 2.25,-28.5\"/>\n",
       "<text text-anchor=\"middle\" x=\"12.12\" y=\"-41.7\" font-family=\"Times,serif\" font-size=\"14.00\"> </text>\n",
       "<polyline fill=\"none\" stroke=\"black\" points=\"22,-29 22,-64.5\"/>\n",
       "<text text-anchor=\"middle\" x=\"61.88\" y=\"-41.7\" font-family=\"Times,serif\" font-size=\"14.00\">data 2.0000</text>\n",
       "<polyline fill=\"none\" stroke=\"black\" points=\"101.75,-29 101.75,-64.5\"/>\n",
       "<text text-anchor=\"middle\" x=\"142.38\" y=\"-41.7\" font-family=\"Times,serif\" font-size=\"14.00\">grad 0.0000</text>\n",
       "</g>\n",
       "<!-- 140238368505568&#45;&gt;140238368904096* -->\n",
       "<g id=\"edge4\" class=\"edge\">\n",
       "<title>140238368505568&#45;&gt;140238368904096*</title>\n",
       "<path fill=\"none\" stroke=\"black\" d=\"M182.99,-62.21C192.81,-63.93 202.35,-65.61 210.94,-67.12\"/>\n",
       "<polygon fill=\"black\" stroke=\"black\" points=\"210.18,-70.71 220.64,-69 211.4,-63.82 210.18,-70.71\"/>\n",
       "</g>\n",
       "<!-- 140238366798656 -->\n",
       "<g id=\"node4\" class=\"node\">\n",
       "<title>140238366798656</title>\n",
       "<polygon fill=\"none\" stroke=\"black\" points=\"624.75,-27.5 624.75,-63.5 805.5,-63.5 805.5,-27.5 624.75,-27.5\"/>\n",
       "<text text-anchor=\"middle\" x=\"634.62\" y=\"-40.7\" font-family=\"Times,serif\" font-size=\"14.00\"> </text>\n",
       "<polyline fill=\"none\" stroke=\"black\" points=\"644.5,-28 644.5,-63.5\"/>\n",
       "<text text-anchor=\"middle\" x=\"684.38\" y=\"-40.7\" font-family=\"Times,serif\" font-size=\"14.00\">data 4.0000</text>\n",
       "<polyline fill=\"none\" stroke=\"black\" points=\"724.25,-28 724.25,-63.5\"/>\n",
       "<text text-anchor=\"middle\" x=\"764.88\" y=\"-40.7\" font-family=\"Times,serif\" font-size=\"14.00\">grad 0.0000</text>\n",
       "</g>\n",
       "<!-- 140238366798656+&#45;&gt;140238366798656 -->\n",
       "<g id=\"edge1\" class=\"edge\">\n",
       "<title>140238366798656+&#45;&gt;140238366798656</title>\n",
       "<path fill=\"none\" stroke=\"black\" d=\"M589.12,-45.5C596.55,-45.5 605.1,-45.5 614.17,-45.5\"/>\n",
       "<polygon fill=\"black\" stroke=\"black\" points=\"614.02,-49 624.02,-45.5 614.02,-42 614.02,-49\"/>\n",
       "</g>\n",
       "<!-- 140238368904096 -->\n",
       "<g id=\"node6\" class=\"node\">\n",
       "<title>140238368904096</title>\n",
       "<polygon fill=\"none\" stroke=\"black\" points=\"312.38,-55.5 312.38,-91.5 497.62,-91.5 497.62,-55.5 312.38,-55.5\"/>\n",
       "<text text-anchor=\"middle\" x=\"322.25\" y=\"-68.7\" font-family=\"Times,serif\" font-size=\"14.00\"> </text>\n",
       "<polyline fill=\"none\" stroke=\"black\" points=\"332.12,-56 332.12,-91.5\"/>\n",
       "<text text-anchor=\"middle\" x=\"374.25\" y=\"-68.7\" font-family=\"Times,serif\" font-size=\"14.00\">data &#45;6.0000</text>\n",
       "<polyline fill=\"none\" stroke=\"black\" points=\"416.38,-56 416.38,-91.5\"/>\n",
       "<text text-anchor=\"middle\" x=\"457\" y=\"-68.7\" font-family=\"Times,serif\" font-size=\"14.00\">grad 0.0000</text>\n",
       "</g>\n",
       "<!-- 140238368904096&#45;&gt;140238366798656+ -->\n",
       "<g id=\"edge5\" class=\"edge\">\n",
       "<title>140238368904096&#45;&gt;140238366798656+</title>\n",
       "<path fill=\"none\" stroke=\"black\" d=\"M497.36,-56.97C506.9,-55.24 516.14,-53.57 524.49,-52.06\"/>\n",
       "<polygon fill=\"black\" stroke=\"black\" points=\"525.04,-55.34 534.25,-50.11 523.79,-48.45 525.04,-55.34\"/>\n",
       "</g>\n",
       "<!-- 140238368904096*&#45;&gt;140238368904096 -->\n",
       "<g id=\"edge2\" class=\"edge\">\n",
       "<title>140238368904096*&#45;&gt;140238368904096</title>\n",
       "<path fill=\"none\" stroke=\"black\" d=\"M275.5,-73.5C283.21,-73.5 292.14,-73.5 301.63,-73.5\"/>\n",
       "<polygon fill=\"black\" stroke=\"black\" points=\"301.55,-77 311.55,-73.5 301.55,-70 301.55,-77\"/>\n",
       "</g>\n",
       "</g>\n",
       "</svg>\n"
      ],
      "text/plain": [
       "<graphviz.graphs.Digraph at 0x7f8bf8713e80>"
      ]
     },
     "execution_count": 30,
     "metadata": {},
     "output_type": "execute_result"
    }
   ],
   "source": [
    "draw_dot(d)"
   ]
  },
  {
   "cell_type": "markdown",
   "id": "7b5eaf37",
   "metadata": {},
   "source": [
    "Add labels."
   ]
  },
  {
   "cell_type": "code",
   "execution_count": 31,
   "id": "f8071e41-b69e-40d8-bcd9-fe14b60f13a6",
   "metadata": {},
   "outputs": [],
   "source": [
    "a = Value(2.0, label='a')\n",
    "b = Value(-3.0, label='b')\n",
    "c = Value(10.0, label='c')\n",
    "e = a*b; e.label = 'e'\n",
    "d = e + c; d.label = 'd'\n",
    "f = Value(-2.0, label='f')\n",
    "L = d * f; L.label = 'L'"
   ]
  },
  {
   "cell_type": "code",
   "execution_count": 32,
   "id": "d60d6310-27b3-425e-87d7-6ce6795290aa",
   "metadata": {},
   "outputs": [
    {
     "data": {
      "image/svg+xml": [
       "<?xml version=\"1.0\" encoding=\"UTF-8\" standalone=\"no\"?>\n",
       "<!DOCTYPE svg PUBLIC \"-//W3C//DTD SVG 1.1//EN\"\n",
       " \"http://www.w3.org/Graphics/SVG/1.1/DTD/svg11.dtd\">\n",
       "<!-- Generated by graphviz version 8.0.4 (20230421.1958)\n",
       " -->\n",
       "<!-- Pages: 1 -->\n",
       "<svg width=\"1140pt\" height=\"128pt\"\n",
       " viewBox=\"0.00 0.00 1139.75 128.00\" xmlns=\"http://www.w3.org/2000/svg\" xmlns:xlink=\"http://www.w3.org/1999/xlink\">\n",
       "<g id=\"graph0\" class=\"graph\" transform=\"scale(1 1) rotate(0) translate(4 124)\">\n",
       "<polygon fill=\"white\" stroke=\"none\" points=\"-4,4 -4,-124 1135.75,-124 1135.75,4 -4,4\"/>\n",
       "<!-- 140237259035648 -->\n",
       "<g id=\"node1\" class=\"node\">\n",
       "<title>140237259035648</title>\n",
       "<polygon fill=\"none\" stroke=\"black\" points=\"942,-54.5 942,-90.5 1131.75,-90.5 1131.75,-54.5 942,-54.5\"/>\n",
       "<text text-anchor=\"middle\" x=\"954.12\" y=\"-67.7\" font-family=\"Times,serif\" font-size=\"14.00\">L</text>\n",
       "<polyline fill=\"none\" stroke=\"black\" points=\"966.25,-55 966.25,-90.5\"/>\n",
       "<text text-anchor=\"middle\" x=\"1008.38\" y=\"-67.7\" font-family=\"Times,serif\" font-size=\"14.00\">data &#45;8.0000</text>\n",
       "<polyline fill=\"none\" stroke=\"black\" points=\"1050.5,-55 1050.5,-90.5\"/>\n",
       "<text text-anchor=\"middle\" x=\"1091.12\" y=\"-67.7\" font-family=\"Times,serif\" font-size=\"14.00\">grad 0.0000</text>\n",
       "</g>\n",
       "<!-- 140237259035648* -->\n",
       "<g id=\"node2\" class=\"node\">\n",
       "<title>140237259035648*</title>\n",
       "<ellipse fill=\"none\" stroke=\"black\" cx=\"879\" cy=\"-72.5\" rx=\"27\" ry=\"18\"/>\n",
       "<text text-anchor=\"middle\" x=\"879\" y=\"-67.45\" font-family=\"Times,serif\" font-size=\"14.00\">*</text>\n",
       "</g>\n",
       "<!-- 140237259035648*&#45;&gt;140237259035648 -->\n",
       "<g id=\"edge1\" class=\"edge\">\n",
       "<title>140237259035648*&#45;&gt;140237259035648</title>\n",
       "<path fill=\"none\" stroke=\"black\" d=\"M906.44,-72.5C913.81,-72.5 922.29,-72.5 931.31,-72.5\"/>\n",
       "<polygon fill=\"black\" stroke=\"black\" points=\"931.11,-76 941.11,-72.5 931.11,-69 931.11,-76\"/>\n",
       "</g>\n",
       "<!-- 140237259036224 -->\n",
       "<g id=\"node3\" class=\"node\">\n",
       "<title>140237259036224</title>\n",
       "<polygon fill=\"none\" stroke=\"black\" points=\"630,-82.5 630,-118.5 816,-118.5 816,-82.5 630,-82.5\"/>\n",
       "<text text-anchor=\"middle\" x=\"640.25\" y=\"-95.7\" font-family=\"Times,serif\" font-size=\"14.00\">f</text>\n",
       "<polyline fill=\"none\" stroke=\"black\" points=\"650.5,-83 650.5,-118.5\"/>\n",
       "<text text-anchor=\"middle\" x=\"692.62\" y=\"-95.7\" font-family=\"Times,serif\" font-size=\"14.00\">data &#45;2.0000</text>\n",
       "<polyline fill=\"none\" stroke=\"black\" points=\"734.75,-83 734.75,-118.5\"/>\n",
       "<text text-anchor=\"middle\" x=\"775.38\" y=\"-95.7\" font-family=\"Times,serif\" font-size=\"14.00\">grad 0.0000</text>\n",
       "</g>\n",
       "<!-- 140237259036224&#45;&gt;140237259035648* -->\n",
       "<g id=\"edge5\" class=\"edge\">\n",
       "<title>140237259036224&#45;&gt;140237259035648*</title>\n",
       "<path fill=\"none\" stroke=\"black\" d=\"M815.81,-83.81C824.91,-82.15 833.73,-80.55 841.73,-79.09\"/>\n",
       "<polygon fill=\"black\" stroke=\"black\" points=\"842.22,-82.38 851.43,-77.15 840.96,-75.49 842.22,-82.38\"/>\n",
       "</g>\n",
       "<!-- 140237259037520 -->\n",
       "<g id=\"node4\" class=\"node\">\n",
       "<title>140237259037520</title>\n",
       "<polygon fill=\"none\" stroke=\"black\" points=\"631.12,-27.5 631.12,-63.5 814.88,-63.5 814.88,-27.5 631.12,-27.5\"/>\n",
       "<text text-anchor=\"middle\" x=\"642.5\" y=\"-40.7\" font-family=\"Times,serif\" font-size=\"14.00\">d</text>\n",
       "<polyline fill=\"none\" stroke=\"black\" points=\"653.88,-28 653.88,-63.5\"/>\n",
       "<text text-anchor=\"middle\" x=\"693.75\" y=\"-40.7\" font-family=\"Times,serif\" font-size=\"14.00\">data 4.0000</text>\n",
       "<polyline fill=\"none\" stroke=\"black\" points=\"733.62,-28 733.62,-63.5\"/>\n",
       "<text text-anchor=\"middle\" x=\"774.25\" y=\"-40.7\" font-family=\"Times,serif\" font-size=\"14.00\">grad 0.0000</text>\n",
       "</g>\n",
       "<!-- 140237259037520&#45;&gt;140237259035648* -->\n",
       "<g id=\"edge4\" class=\"edge\">\n",
       "<title>140237259037520&#45;&gt;140237259035648*</title>\n",
       "<path fill=\"none\" stroke=\"black\" d=\"M814.47,-61.36C824.02,-63.04 833.27,-64.66 841.63,-66.12\"/>\n",
       "<polygon fill=\"black\" stroke=\"black\" points=\"840.97,-69.74 851.42,-68.02 842.18,-62.84 840.97,-69.74\"/>\n",
       "</g>\n",
       "<!-- 140237259037520+ -->\n",
       "<g id=\"node5\" class=\"node\">\n",
       "<title>140237259037520+</title>\n",
       "<ellipse fill=\"none\" stroke=\"black\" cx=\"567\" cy=\"-45.5\" rx=\"27\" ry=\"18\"/>\n",
       "<text text-anchor=\"middle\" x=\"567\" y=\"-40.45\" font-family=\"Times,serif\" font-size=\"14.00\">+</text>\n",
       "</g>\n",
       "<!-- 140237259037520+&#45;&gt;140237259037520 -->\n",
       "<g id=\"edge2\" class=\"edge\">\n",
       "<title>140237259037520+&#45;&gt;140237259037520</title>\n",
       "<path fill=\"none\" stroke=\"black\" d=\"M594.47,-45.5C602.16,-45.5 611.05,-45.5 620.48,-45.5\"/>\n",
       "<polygon fill=\"black\" stroke=\"black\" points=\"620.33,-49 630.33,-45.5 620.33,-42 620.33,-49\"/>\n",
       "</g>\n",
       "<!-- 140238369014112 -->\n",
       "<g id=\"node6\" class=\"node\">\n",
       "<title>140238369014112</title>\n",
       "<polygon fill=\"none\" stroke=\"black\" points=\"315.38,-55.5 315.38,-91.5 502.88,-91.5 502.88,-55.5 315.38,-55.5\"/>\n",
       "<text text-anchor=\"middle\" x=\"326.38\" y=\"-68.7\" font-family=\"Times,serif\" font-size=\"14.00\">e</text>\n",
       "<polyline fill=\"none\" stroke=\"black\" points=\"337.38,-56 337.38,-91.5\"/>\n",
       "<text text-anchor=\"middle\" x=\"379.5\" y=\"-68.7\" font-family=\"Times,serif\" font-size=\"14.00\">data &#45;6.0000</text>\n",
       "<polyline fill=\"none\" stroke=\"black\" points=\"421.62,-56 421.62,-91.5\"/>\n",
       "<text text-anchor=\"middle\" x=\"462.25\" y=\"-68.7\" font-family=\"Times,serif\" font-size=\"14.00\">grad 0.0000</text>\n",
       "</g>\n",
       "<!-- 140238369014112&#45;&gt;140237259037520+ -->\n",
       "<g id=\"edge6\" class=\"edge\">\n",
       "<title>140238369014112&#45;&gt;140237259037520+</title>\n",
       "<path fill=\"none\" stroke=\"black\" d=\"M502.6,-56.89C512.15,-55.17 521.41,-53.51 529.76,-52.01\"/>\n",
       "<polygon fill=\"black\" stroke=\"black\" points=\"530.3,-55.29 539.52,-50.08 529.06,-48.4 530.3,-55.29\"/>\n",
       "</g>\n",
       "<!-- 140238369014112* -->\n",
       "<g id=\"node7\" class=\"node\">\n",
       "<title>140238369014112*</title>\n",
       "<ellipse fill=\"none\" stroke=\"black\" cx=\"251.25\" cy=\"-73.5\" rx=\"27\" ry=\"18\"/>\n",
       "<text text-anchor=\"middle\" x=\"251.25\" y=\"-68.45\" font-family=\"Times,serif\" font-size=\"14.00\">*</text>\n",
       "</g>\n",
       "<!-- 140238369014112*&#45;&gt;140238369014112 -->\n",
       "<g id=\"edge3\" class=\"edge\">\n",
       "<title>140238369014112*&#45;&gt;140238369014112</title>\n",
       "<path fill=\"none\" stroke=\"black\" d=\"M278.69,-73.5C286.39,-73.5 295.3,-73.5 304.78,-73.5\"/>\n",
       "<polygon fill=\"black\" stroke=\"black\" points=\"304.68,-77 314.68,-73.5 304.68,-70 304.68,-77\"/>\n",
       "</g>\n",
       "<!-- 140238368041328 -->\n",
       "<g id=\"node8\" class=\"node\">\n",
       "<title>140238368041328</title>\n",
       "<polygon fill=\"none\" stroke=\"black\" points=\"0,-83.5 0,-119.5 188.25,-119.5 188.25,-83.5 0,-83.5\"/>\n",
       "<text text-anchor=\"middle\" x=\"11.38\" y=\"-96.7\" font-family=\"Times,serif\" font-size=\"14.00\">b</text>\n",
       "<polyline fill=\"none\" stroke=\"black\" points=\"22.75,-84 22.75,-119.5\"/>\n",
       "<text text-anchor=\"middle\" x=\"64.88\" y=\"-96.7\" font-family=\"Times,serif\" font-size=\"14.00\">data &#45;3.0000</text>\n",
       "<polyline fill=\"none\" stroke=\"black\" points=\"107,-84 107,-119.5\"/>\n",
       "<text text-anchor=\"middle\" x=\"147.62\" y=\"-96.7\" font-family=\"Times,serif\" font-size=\"14.00\">grad 0.0000</text>\n",
       "</g>\n",
       "<!-- 140238368041328&#45;&gt;140238369014112* -->\n",
       "<g id=\"edge7\" class=\"edge\">\n",
       "<title>140238368041328&#45;&gt;140238369014112*</title>\n",
       "<path fill=\"none\" stroke=\"black\" d=\"M188.05,-84.73C197.17,-83.08 206,-81.49 214,-80.04\"/>\n",
       "<polygon fill=\"black\" stroke=\"black\" points=\"214.48,-83.33 223.7,-78.11 213.24,-76.44 214.48,-83.33\"/>\n",
       "</g>\n",
       "<!-- 140238369014736 -->\n",
       "<g id=\"node9\" class=\"node\">\n",
       "<title>140238369014736</title>\n",
       "<polygon fill=\"none\" stroke=\"black\" points=\"314.25,-0.5 314.25,-36.5 504,-36.5 504,-0.5 314.25,-0.5\"/>\n",
       "<text text-anchor=\"middle\" x=\"325.25\" y=\"-13.7\" font-family=\"Times,serif\" font-size=\"14.00\">c</text>\n",
       "<polyline fill=\"none\" stroke=\"black\" points=\"336.25,-1 336.25,-36.5\"/>\n",
       "<text text-anchor=\"middle\" x=\"379.5\" y=\"-13.7\" font-family=\"Times,serif\" font-size=\"14.00\">data 10.0000</text>\n",
       "<polyline fill=\"none\" stroke=\"black\" points=\"422.75,-1 422.75,-36.5\"/>\n",
       "<text text-anchor=\"middle\" x=\"463.38\" y=\"-13.7\" font-family=\"Times,serif\" font-size=\"14.00\">grad 0.0000</text>\n",
       "</g>\n",
       "<!-- 140238369014736&#45;&gt;140237259037520+ -->\n",
       "<g id=\"edge8\" class=\"edge\">\n",
       "<title>140238369014736&#45;&gt;140237259037520+</title>\n",
       "<path fill=\"none\" stroke=\"black\" d=\"M503.95,-34.75C513.06,-36.33 521.87,-37.86 529.86,-39.24\"/>\n",
       "<polygon fill=\"black\" stroke=\"black\" points=\"529.08,-42.83 539.53,-41.09 530.28,-35.93 529.08,-42.83\"/>\n",
       "</g>\n",
       "<!-- 140238369017328 -->\n",
       "<g id=\"node10\" class=\"node\">\n",
       "<title>140238369017328</title>\n",
       "<polygon fill=\"none\" stroke=\"black\" points=\"2.62,-28.5 2.62,-64.5 185.62,-64.5 185.62,-28.5 2.62,-28.5\"/>\n",
       "<text text-anchor=\"middle\" x=\"13.62\" y=\"-41.7\" font-family=\"Times,serif\" font-size=\"14.00\">a</text>\n",
       "<polyline fill=\"none\" stroke=\"black\" points=\"24.62,-29 24.62,-64.5\"/>\n",
       "<text text-anchor=\"middle\" x=\"64.5\" y=\"-41.7\" font-family=\"Times,serif\" font-size=\"14.00\">data 2.0000</text>\n",
       "<polyline fill=\"none\" stroke=\"black\" points=\"104.38,-29 104.38,-64.5\"/>\n",
       "<text text-anchor=\"middle\" x=\"145\" y=\"-41.7\" font-family=\"Times,serif\" font-size=\"14.00\">grad 0.0000</text>\n",
       "</g>\n",
       "<!-- 140238369017328&#45;&gt;140238369014112* -->\n",
       "<g id=\"edge9\" class=\"edge\">\n",
       "<title>140238369017328&#45;&gt;140238369014112*</title>\n",
       "<path fill=\"none\" stroke=\"black\" d=\"M185.36,-62.21C195.48,-63.97 205.31,-65.68 214.13,-67.21\"/>\n",
       "<polygon fill=\"black\" stroke=\"black\" points=\"213.25,-70.79 223.7,-69.05 214.45,-63.89 213.25,-70.79\"/>\n",
       "</g>\n",
       "</g>\n",
       "</svg>\n"
      ],
      "text/plain": [
       "<graphviz.graphs.Digraph at 0x7f8bca33cd00>"
      ]
     },
     "execution_count": 32,
     "metadata": {},
     "output_type": "execute_result"
    }
   ],
   "source": [
    "draw_dot(L)"
   ]
  },
  {
   "cell_type": "markdown",
   "id": "442bbce0",
   "metadata": {},
   "source": [
    "This can be seen as seen as the forward pass. Now let's add the back propagation. To do that, we will compute the derivative of L with respect to L, L with respect to c, L with respect to e and so on.\n"
   ]
  },
  {
   "cell_type": "code",
   "execution_count": 48,
   "id": "5060879c-6cbf-445a-8998-0859b648e81f",
   "metadata": {},
   "outputs": [],
   "source": [
    "class Value:\n",
    "  \n",
    "    def __init__(self, data, _children=(), _op='', label=''):\n",
    "        self.data = data\n",
    "        self.grad = 0.0\n",
    "        self._backward = lambda: None\n",
    "        self._prev = set(_children)\n",
    "        self._op = _op\n",
    "        self.label = label\n",
    "\n",
    "    def __repr__(self):\n",
    "        return f\"Value(data={self.data})\"\n",
    "\n",
    "    def __add__(self, other):\n",
    "        out = Value(self.data + other.data, (self, other), '+')\n",
    "\n",
    "        def _backward():\n",
    "            self.grad += 1.0 * out.grad\n",
    "            other.grad += 1.0 * out.grad\n",
    "        out._backward = _backward\n",
    "\n",
    "        return out\n",
    "    def __subtract__(self, other):\n",
    "        out = Value(self.data - other.data, (self, other), '-')\n",
    "\n",
    "        def _backward():\n",
    "            self.grad += 1.0 * out.grad\n",
    "            other.grad += 1.0 * out.grad\n",
    "        out._backward = _backward\n",
    "\n",
    "        return out\n",
    "    def __mul__(self, other):\n",
    "        out = Value(self.data * other.data, (self, other), '*')\n",
    "\n",
    "        def _backward():\n",
    "            self.grad += 1.0 * out.grad\n",
    "            other.grad += 1.0 * out.grad\n",
    "        out._backward = _backward\n",
    "\n",
    "        return out"
   ]
  },
  {
   "cell_type": "code",
   "execution_count": 49,
   "id": "2725c5e0-0e15-45e4-bca2-5277c52c6599",
   "metadata": {},
   "outputs": [
    {
     "name": "stdout",
     "output_type": "stream",
     "text": [
      "-6.000000000021544\n"
     ]
    }
   ],
   "source": [
    "def stage_variables():\n",
    "    h=0.0001\n",
    "    \n",
    "    a = Value(2.0 + h, label='a') # The derivative with respect to a\n",
    "    b = Value(-3.0, label='b')\n",
    "    c = Value(10.0, label='c')\n",
    "    e = a*b; e.label = 'e'\n",
    "    d = e + c; d.label = 'd'\n",
    "    f = Value(-2.0, label='f')\n",
    "    L1 = d * f; L.label = 'L'\n",
    "    L1 = L1.data\n",
    "    \n",
    "    a = Value(2.0, label='a')\n",
    "    b = Value(-3.0, label='b')\n",
    "    c = Value(10.0, label='c')\n",
    "    e = a*b; e.label = 'e'\n",
    "    d = e + c; d.label = 'd'\n",
    "    f = Value(-2.0, label='f')\n",
    "    L2 = d * f; L.label = 'L'\n",
    "    L2 = L2.data\n",
    "    \n",
    "    print((L2 - L1)/h) # The derivative\n",
    "stage_variables()"
   ]
  },
  {
   "cell_type": "code",
   "execution_count": 50,
   "id": "5fa9b498-5b62-4b6a-a5e9-763e7d47a8e8",
   "metadata": {},
   "outputs": [
    {
     "data": {
      "image/svg+xml": [
       "<?xml version=\"1.0\" encoding=\"UTF-8\" standalone=\"no\"?>\n",
       "<!DOCTYPE svg PUBLIC \"-//W3C//DTD SVG 1.1//EN\"\n",
       " \"http://www.w3.org/Graphics/SVG/1.1/DTD/svg11.dtd\">\n",
       "<!-- Generated by graphviz version 8.0.4 (20230421.1958)\n",
       " -->\n",
       "<!-- Pages: 1 -->\n",
       "<svg width=\"1142pt\" height=\"128pt\"\n",
       " viewBox=\"0.00 0.00 1142.00 128.00\" xmlns=\"http://www.w3.org/2000/svg\" xmlns:xlink=\"http://www.w3.org/1999/xlink\">\n",
       "<g id=\"graph0\" class=\"graph\" transform=\"scale(1 1) rotate(0) translate(4 124)\">\n",
       "<polygon fill=\"white\" stroke=\"none\" points=\"-4,4 -4,-124 1138,-124 1138,4 -4,4\"/>\n",
       "<!-- 140237259035648 -->\n",
       "<g id=\"node1\" class=\"node\">\n",
       "<title>140237259035648</title>\n",
       "<polygon fill=\"none\" stroke=\"black\" points=\"944.25,-54.5 944.25,-90.5 1134,-90.5 1134,-54.5 944.25,-54.5\"/>\n",
       "<text text-anchor=\"middle\" x=\"956.38\" y=\"-67.7\" font-family=\"Times,serif\" font-size=\"14.00\">L</text>\n",
       "<polyline fill=\"none\" stroke=\"black\" points=\"968.5,-55 968.5,-90.5\"/>\n",
       "<text text-anchor=\"middle\" x=\"1010.62\" y=\"-67.7\" font-family=\"Times,serif\" font-size=\"14.00\">data &#45;8.0000</text>\n",
       "<polyline fill=\"none\" stroke=\"black\" points=\"1052.75,-55 1052.75,-90.5\"/>\n",
       "<text text-anchor=\"middle\" x=\"1093.38\" y=\"-67.7\" font-family=\"Times,serif\" font-size=\"14.00\">grad 1.0000</text>\n",
       "</g>\n",
       "<!-- 140237259035648* -->\n",
       "<g id=\"node2\" class=\"node\">\n",
       "<title>140237259035648*</title>\n",
       "<ellipse fill=\"none\" stroke=\"black\" cx=\"881.25\" cy=\"-72.5\" rx=\"27\" ry=\"18\"/>\n",
       "<text text-anchor=\"middle\" x=\"881.25\" y=\"-67.45\" font-family=\"Times,serif\" font-size=\"14.00\">*</text>\n",
       "</g>\n",
       "<!-- 140237259035648*&#45;&gt;140237259035648 -->\n",
       "<g id=\"edge1\" class=\"edge\">\n",
       "<title>140237259035648*&#45;&gt;140237259035648</title>\n",
       "<path fill=\"none\" stroke=\"black\" d=\"M908.69,-72.5C916.06,-72.5 924.54,-72.5 933.56,-72.5\"/>\n",
       "<polygon fill=\"black\" stroke=\"black\" points=\"933.36,-76 943.36,-72.5 933.36,-69 933.36,-76\"/>\n",
       "</g>\n",
       "<!-- 140237259036224 -->\n",
       "<g id=\"node3\" class=\"node\">\n",
       "<title>140237259036224</title>\n",
       "<polygon fill=\"none\" stroke=\"black\" points=\"631.12,-82.5 631.12,-118.5 817.12,-118.5 817.12,-82.5 631.12,-82.5\"/>\n",
       "<text text-anchor=\"middle\" x=\"641.38\" y=\"-95.7\" font-family=\"Times,serif\" font-size=\"14.00\">f</text>\n",
       "<polyline fill=\"none\" stroke=\"black\" points=\"651.62,-83 651.62,-118.5\"/>\n",
       "<text text-anchor=\"middle\" x=\"693.75\" y=\"-95.7\" font-family=\"Times,serif\" font-size=\"14.00\">data &#45;2.0000</text>\n",
       "<polyline fill=\"none\" stroke=\"black\" points=\"735.88,-83 735.88,-118.5\"/>\n",
       "<text text-anchor=\"middle\" x=\"776.5\" y=\"-95.7\" font-family=\"Times,serif\" font-size=\"14.00\">grad 4.0000</text>\n",
       "</g>\n",
       "<!-- 140237259036224&#45;&gt;140237259035648* -->\n",
       "<g id=\"edge5\" class=\"edge\">\n",
       "<title>140237259036224&#45;&gt;140237259035648*</title>\n",
       "<path fill=\"none\" stroke=\"black\" d=\"M816.71,-83.97C826.27,-82.24 835.53,-80.57 843.9,-79.06\"/>\n",
       "<polygon fill=\"black\" stroke=\"black\" points=\"844.47,-82.33 853.69,-77.11 843.23,-75.45 844.47,-82.33\"/>\n",
       "</g>\n",
       "<!-- 140237259037520 -->\n",
       "<g id=\"node4\" class=\"node\">\n",
       "<title>140237259037520</title>\n",
       "<polygon fill=\"none\" stroke=\"black\" points=\"630,-27.5 630,-63.5 818.25,-63.5 818.25,-27.5 630,-27.5\"/>\n",
       "<text text-anchor=\"middle\" x=\"641.38\" y=\"-40.7\" font-family=\"Times,serif\" font-size=\"14.00\">d</text>\n",
       "<polyline fill=\"none\" stroke=\"black\" points=\"652.75,-28 652.75,-63.5\"/>\n",
       "<text text-anchor=\"middle\" x=\"692.62\" y=\"-40.7\" font-family=\"Times,serif\" font-size=\"14.00\">data 4.0000</text>\n",
       "<polyline fill=\"none\" stroke=\"black\" points=\"732.5,-28 732.5,-63.5\"/>\n",
       "<text text-anchor=\"middle\" x=\"775.38\" y=\"-40.7\" font-family=\"Times,serif\" font-size=\"14.00\">grad &#45;2.0000</text>\n",
       "</g>\n",
       "<!-- 140237259037520&#45;&gt;140237259035648* -->\n",
       "<g id=\"edge4\" class=\"edge\">\n",
       "<title>140237259037520&#45;&gt;140237259035648*</title>\n",
       "<path fill=\"none\" stroke=\"black\" d=\"M818.05,-61.67C827.17,-63.26 836,-64.8 844,-66.19\"/>\n",
       "<polygon fill=\"black\" stroke=\"black\" points=\"843.25,-69.79 853.7,-68.05 844.45,-62.89 843.25,-69.79\"/>\n",
       "</g>\n",
       "<!-- 140237259037520+ -->\n",
       "<g id=\"node5\" class=\"node\">\n",
       "<title>140237259037520+</title>\n",
       "<ellipse fill=\"none\" stroke=\"black\" cx=\"567\" cy=\"-45.5\" rx=\"27\" ry=\"18\"/>\n",
       "<text text-anchor=\"middle\" x=\"567\" y=\"-40.45\" font-family=\"Times,serif\" font-size=\"14.00\">+</text>\n",
       "</g>\n",
       "<!-- 140237259037520+&#45;&gt;140237259037520 -->\n",
       "<g id=\"edge2\" class=\"edge\">\n",
       "<title>140237259037520+&#45;&gt;140237259037520</title>\n",
       "<path fill=\"none\" stroke=\"black\" d=\"M594.31,-45.5C601.71,-45.5 610.23,-45.5 619.29,-45.5\"/>\n",
       "<polygon fill=\"black\" stroke=\"black\" points=\"619.14,-49 629.14,-45.5 619.14,-42 619.14,-49\"/>\n",
       "</g>\n",
       "<!-- 140238369014112 -->\n",
       "<g id=\"node6\" class=\"node\">\n",
       "<title>140238369014112</title>\n",
       "<polygon fill=\"none\" stroke=\"black\" points=\"315.38,-55.5 315.38,-91.5 502.88,-91.5 502.88,-55.5 315.38,-55.5\"/>\n",
       "<text text-anchor=\"middle\" x=\"326.38\" y=\"-68.7\" font-family=\"Times,serif\" font-size=\"14.00\">e</text>\n",
       "<polyline fill=\"none\" stroke=\"black\" points=\"337.38,-56 337.38,-91.5\"/>\n",
       "<text text-anchor=\"middle\" x=\"379.5\" y=\"-68.7\" font-family=\"Times,serif\" font-size=\"14.00\">data &#45;6.0000</text>\n",
       "<polyline fill=\"none\" stroke=\"black\" points=\"421.62,-56 421.62,-91.5\"/>\n",
       "<text text-anchor=\"middle\" x=\"462.25\" y=\"-68.7\" font-family=\"Times,serif\" font-size=\"14.00\">grad 0.0000</text>\n",
       "</g>\n",
       "<!-- 140238369014112&#45;&gt;140237259037520+ -->\n",
       "<g id=\"edge6\" class=\"edge\">\n",
       "<title>140238369014112&#45;&gt;140237259037520+</title>\n",
       "<path fill=\"none\" stroke=\"black\" d=\"M502.6,-56.89C512.15,-55.17 521.41,-53.51 529.76,-52.01\"/>\n",
       "<polygon fill=\"black\" stroke=\"black\" points=\"530.3,-55.29 539.52,-50.08 529.06,-48.4 530.3,-55.29\"/>\n",
       "</g>\n",
       "<!-- 140238369014112* -->\n",
       "<g id=\"node7\" class=\"node\">\n",
       "<title>140238369014112*</title>\n",
       "<ellipse fill=\"none\" stroke=\"black\" cx=\"251.25\" cy=\"-73.5\" rx=\"27\" ry=\"18\"/>\n",
       "<text text-anchor=\"middle\" x=\"251.25\" y=\"-68.45\" font-family=\"Times,serif\" font-size=\"14.00\">*</text>\n",
       "</g>\n",
       "<!-- 140238369014112*&#45;&gt;140238369014112 -->\n",
       "<g id=\"edge3\" class=\"edge\">\n",
       "<title>140238369014112*&#45;&gt;140238369014112</title>\n",
       "<path fill=\"none\" stroke=\"black\" d=\"M278.69,-73.5C286.39,-73.5 295.3,-73.5 304.78,-73.5\"/>\n",
       "<polygon fill=\"black\" stroke=\"black\" points=\"304.68,-77 314.68,-73.5 304.68,-70 304.68,-77\"/>\n",
       "</g>\n",
       "<!-- 140238368041328 -->\n",
       "<g id=\"node8\" class=\"node\">\n",
       "<title>140238368041328</title>\n",
       "<polygon fill=\"none\" stroke=\"black\" points=\"0,-83.5 0,-119.5 188.25,-119.5 188.25,-83.5 0,-83.5\"/>\n",
       "<text text-anchor=\"middle\" x=\"11.38\" y=\"-96.7\" font-family=\"Times,serif\" font-size=\"14.00\">b</text>\n",
       "<polyline fill=\"none\" stroke=\"black\" points=\"22.75,-84 22.75,-119.5\"/>\n",
       "<text text-anchor=\"middle\" x=\"64.88\" y=\"-96.7\" font-family=\"Times,serif\" font-size=\"14.00\">data &#45;3.0000</text>\n",
       "<polyline fill=\"none\" stroke=\"black\" points=\"107,-84 107,-119.5\"/>\n",
       "<text text-anchor=\"middle\" x=\"147.62\" y=\"-96.7\" font-family=\"Times,serif\" font-size=\"14.00\">grad 0.0000</text>\n",
       "</g>\n",
       "<!-- 140238368041328&#45;&gt;140238369014112* -->\n",
       "<g id=\"edge7\" class=\"edge\">\n",
       "<title>140238368041328&#45;&gt;140238369014112*</title>\n",
       "<path fill=\"none\" stroke=\"black\" d=\"M188.05,-84.73C197.17,-83.08 206,-81.49 214,-80.04\"/>\n",
       "<polygon fill=\"black\" stroke=\"black\" points=\"214.48,-83.33 223.7,-78.11 213.24,-76.44 214.48,-83.33\"/>\n",
       "</g>\n",
       "<!-- 140238369014736 -->\n",
       "<g id=\"node9\" class=\"node\">\n",
       "<title>140238369014736</title>\n",
       "<polygon fill=\"none\" stroke=\"black\" points=\"314.25,-0.5 314.25,-36.5 504,-36.5 504,-0.5 314.25,-0.5\"/>\n",
       "<text text-anchor=\"middle\" x=\"325.25\" y=\"-13.7\" font-family=\"Times,serif\" font-size=\"14.00\">c</text>\n",
       "<polyline fill=\"none\" stroke=\"black\" points=\"336.25,-1 336.25,-36.5\"/>\n",
       "<text text-anchor=\"middle\" x=\"379.5\" y=\"-13.7\" font-family=\"Times,serif\" font-size=\"14.00\">data 10.0000</text>\n",
       "<polyline fill=\"none\" stroke=\"black\" points=\"422.75,-1 422.75,-36.5\"/>\n",
       "<text text-anchor=\"middle\" x=\"463.38\" y=\"-13.7\" font-family=\"Times,serif\" font-size=\"14.00\">grad 0.0000</text>\n",
       "</g>\n",
       "<!-- 140238369014736&#45;&gt;140237259037520+ -->\n",
       "<g id=\"edge8\" class=\"edge\">\n",
       "<title>140238369014736&#45;&gt;140237259037520+</title>\n",
       "<path fill=\"none\" stroke=\"black\" d=\"M503.95,-34.75C513.06,-36.33 521.87,-37.86 529.86,-39.24\"/>\n",
       "<polygon fill=\"black\" stroke=\"black\" points=\"529.08,-42.83 539.53,-41.09 530.28,-35.93 529.08,-42.83\"/>\n",
       "</g>\n",
       "<!-- 140238369017328 -->\n",
       "<g id=\"node10\" class=\"node\">\n",
       "<title>140238369017328</title>\n",
       "<polygon fill=\"none\" stroke=\"black\" points=\"2.62,-28.5 2.62,-64.5 185.62,-64.5 185.62,-28.5 2.62,-28.5\"/>\n",
       "<text text-anchor=\"middle\" x=\"13.62\" y=\"-41.7\" font-family=\"Times,serif\" font-size=\"14.00\">a</text>\n",
       "<polyline fill=\"none\" stroke=\"black\" points=\"24.62,-29 24.62,-64.5\"/>\n",
       "<text text-anchor=\"middle\" x=\"64.5\" y=\"-41.7\" font-family=\"Times,serif\" font-size=\"14.00\">data 2.0000</text>\n",
       "<polyline fill=\"none\" stroke=\"black\" points=\"104.38,-29 104.38,-64.5\"/>\n",
       "<text text-anchor=\"middle\" x=\"145\" y=\"-41.7\" font-family=\"Times,serif\" font-size=\"14.00\">grad 0.0000</text>\n",
       "</g>\n",
       "<!-- 140238369017328&#45;&gt;140238369014112* -->\n",
       "<g id=\"edge9\" class=\"edge\">\n",
       "<title>140238369017328&#45;&gt;140238369014112*</title>\n",
       "<path fill=\"none\" stroke=\"black\" d=\"M185.36,-62.21C195.48,-63.97 205.31,-65.68 214.13,-67.21\"/>\n",
       "<polygon fill=\"black\" stroke=\"black\" points=\"213.25,-70.79 223.7,-69.05 214.45,-63.89 213.25,-70.79\"/>\n",
       "</g>\n",
       "</g>\n",
       "</svg>\n"
      ],
      "text/plain": [
       "<graphviz.graphs.Digraph at 0x7f8bca189610>"
      ]
     },
     "execution_count": 50,
     "metadata": {},
     "output_type": "execute_result"
    }
   ],
   "source": [
    "L.grad = 1.0 # The derivative with respect to itself is 1\n",
    "draw_dot(L)"
   ]
  },
  {
   "cell_type": "markdown",
   "id": "361bc674",
   "metadata": {},
   "source": [
    "What is the derivative of $L$ with respect to $d$?\n",
    "\n",
    "$$ \\frac{dL}{dd} = ? $$\n",
    "\n",
    "$$ \\frac{f(x+h) - f(x)}{h} $$\n",
    "\n",
    "$$ \\frac{(d+h)*f -d*f}{h} $$\n",
    "\n",
    "$$ \\frac{d*f + h*f - d*f}{h} $$\n",
    "\n",
    "$$ \\frac{h*f}{h} $$\n",
    "\n",
    "$$ f $$"
   ]
  },
  {
   "cell_type": "code",
   "execution_count": 51,
   "id": "25f430e5-3ac3-47f5-9e90-932ec5916a56",
   "metadata": {},
   "outputs": [],
   "source": [
    "d.grad = -2"
   ]
  },
  {
   "cell_type": "code",
   "execution_count": 52,
   "id": "394e0ffb-1de5-42b1-95fc-ca4f0d011df3",
   "metadata": {},
   "outputs": [],
   "source": [
    "f.grad = 4.0"
   ]
  },
  {
   "cell_type": "code",
   "execution_count": 53,
   "id": "9415276c-2ed2-4609-8f89-c2e8b695a06a",
   "metadata": {},
   "outputs": [
    {
     "data": {
      "image/svg+xml": [
       "<?xml version=\"1.0\" encoding=\"UTF-8\" standalone=\"no\"?>\n",
       "<!DOCTYPE svg PUBLIC \"-//W3C//DTD SVG 1.1//EN\"\n",
       " \"http://www.w3.org/Graphics/SVG/1.1/DTD/svg11.dtd\">\n",
       "<!-- Generated by graphviz version 8.0.4 (20230421.1958)\n",
       " -->\n",
       "<!-- Pages: 1 -->\n",
       "<svg width=\"1142pt\" height=\"128pt\"\n",
       " viewBox=\"0.00 0.00 1142.00 128.00\" xmlns=\"http://www.w3.org/2000/svg\" xmlns:xlink=\"http://www.w3.org/1999/xlink\">\n",
       "<g id=\"graph0\" class=\"graph\" transform=\"scale(1 1) rotate(0) translate(4 124)\">\n",
       "<polygon fill=\"white\" stroke=\"none\" points=\"-4,4 -4,-124 1138,-124 1138,4 -4,4\"/>\n",
       "<!-- 140237259035648 -->\n",
       "<g id=\"node1\" class=\"node\">\n",
       "<title>140237259035648</title>\n",
       "<polygon fill=\"none\" stroke=\"black\" points=\"944.25,-54.5 944.25,-90.5 1134,-90.5 1134,-54.5 944.25,-54.5\"/>\n",
       "<text text-anchor=\"middle\" x=\"956.38\" y=\"-67.7\" font-family=\"Times,serif\" font-size=\"14.00\">L</text>\n",
       "<polyline fill=\"none\" stroke=\"black\" points=\"968.5,-55 968.5,-90.5\"/>\n",
       "<text text-anchor=\"middle\" x=\"1010.62\" y=\"-67.7\" font-family=\"Times,serif\" font-size=\"14.00\">data &#45;8.0000</text>\n",
       "<polyline fill=\"none\" stroke=\"black\" points=\"1052.75,-55 1052.75,-90.5\"/>\n",
       "<text text-anchor=\"middle\" x=\"1093.38\" y=\"-67.7\" font-family=\"Times,serif\" font-size=\"14.00\">grad 1.0000</text>\n",
       "</g>\n",
       "<!-- 140237259035648* -->\n",
       "<g id=\"node2\" class=\"node\">\n",
       "<title>140237259035648*</title>\n",
       "<ellipse fill=\"none\" stroke=\"black\" cx=\"881.25\" cy=\"-72.5\" rx=\"27\" ry=\"18\"/>\n",
       "<text text-anchor=\"middle\" x=\"881.25\" y=\"-67.45\" font-family=\"Times,serif\" font-size=\"14.00\">*</text>\n",
       "</g>\n",
       "<!-- 140237259035648*&#45;&gt;140237259035648 -->\n",
       "<g id=\"edge1\" class=\"edge\">\n",
       "<title>140237259035648*&#45;&gt;140237259035648</title>\n",
       "<path fill=\"none\" stroke=\"black\" d=\"M908.69,-72.5C916.06,-72.5 924.54,-72.5 933.56,-72.5\"/>\n",
       "<polygon fill=\"black\" stroke=\"black\" points=\"933.36,-76 943.36,-72.5 933.36,-69 933.36,-76\"/>\n",
       "</g>\n",
       "<!-- 140237259036224 -->\n",
       "<g id=\"node3\" class=\"node\">\n",
       "<title>140237259036224</title>\n",
       "<polygon fill=\"none\" stroke=\"black\" points=\"631.12,-82.5 631.12,-118.5 817.12,-118.5 817.12,-82.5 631.12,-82.5\"/>\n",
       "<text text-anchor=\"middle\" x=\"641.38\" y=\"-95.7\" font-family=\"Times,serif\" font-size=\"14.00\">f</text>\n",
       "<polyline fill=\"none\" stroke=\"black\" points=\"651.62,-83 651.62,-118.5\"/>\n",
       "<text text-anchor=\"middle\" x=\"693.75\" y=\"-95.7\" font-family=\"Times,serif\" font-size=\"14.00\">data &#45;2.0000</text>\n",
       "<polyline fill=\"none\" stroke=\"black\" points=\"735.88,-83 735.88,-118.5\"/>\n",
       "<text text-anchor=\"middle\" x=\"776.5\" y=\"-95.7\" font-family=\"Times,serif\" font-size=\"14.00\">grad 4.0000</text>\n",
       "</g>\n",
       "<!-- 140237259036224&#45;&gt;140237259035648* -->\n",
       "<g id=\"edge5\" class=\"edge\">\n",
       "<title>140237259036224&#45;&gt;140237259035648*</title>\n",
       "<path fill=\"none\" stroke=\"black\" d=\"M816.71,-83.97C826.27,-82.24 835.53,-80.57 843.9,-79.06\"/>\n",
       "<polygon fill=\"black\" stroke=\"black\" points=\"844.47,-82.33 853.69,-77.11 843.23,-75.45 844.47,-82.33\"/>\n",
       "</g>\n",
       "<!-- 140237259037520 -->\n",
       "<g id=\"node4\" class=\"node\">\n",
       "<title>140237259037520</title>\n",
       "<polygon fill=\"none\" stroke=\"black\" points=\"630,-27.5 630,-63.5 818.25,-63.5 818.25,-27.5 630,-27.5\"/>\n",
       "<text text-anchor=\"middle\" x=\"641.38\" y=\"-40.7\" font-family=\"Times,serif\" font-size=\"14.00\">d</text>\n",
       "<polyline fill=\"none\" stroke=\"black\" points=\"652.75,-28 652.75,-63.5\"/>\n",
       "<text text-anchor=\"middle\" x=\"692.62\" y=\"-40.7\" font-family=\"Times,serif\" font-size=\"14.00\">data 4.0000</text>\n",
       "<polyline fill=\"none\" stroke=\"black\" points=\"732.5,-28 732.5,-63.5\"/>\n",
       "<text text-anchor=\"middle\" x=\"775.38\" y=\"-40.7\" font-family=\"Times,serif\" font-size=\"14.00\">grad &#45;2.0000</text>\n",
       "</g>\n",
       "<!-- 140237259037520&#45;&gt;140237259035648* -->\n",
       "<g id=\"edge4\" class=\"edge\">\n",
       "<title>140237259037520&#45;&gt;140237259035648*</title>\n",
       "<path fill=\"none\" stroke=\"black\" d=\"M818.05,-61.67C827.17,-63.26 836,-64.8 844,-66.19\"/>\n",
       "<polygon fill=\"black\" stroke=\"black\" points=\"843.25,-69.79 853.7,-68.05 844.45,-62.89 843.25,-69.79\"/>\n",
       "</g>\n",
       "<!-- 140237259037520+ -->\n",
       "<g id=\"node5\" class=\"node\">\n",
       "<title>140237259037520+</title>\n",
       "<ellipse fill=\"none\" stroke=\"black\" cx=\"567\" cy=\"-45.5\" rx=\"27\" ry=\"18\"/>\n",
       "<text text-anchor=\"middle\" x=\"567\" y=\"-40.45\" font-family=\"Times,serif\" font-size=\"14.00\">+</text>\n",
       "</g>\n",
       "<!-- 140237259037520+&#45;&gt;140237259037520 -->\n",
       "<g id=\"edge2\" class=\"edge\">\n",
       "<title>140237259037520+&#45;&gt;140237259037520</title>\n",
       "<path fill=\"none\" stroke=\"black\" d=\"M594.31,-45.5C601.71,-45.5 610.23,-45.5 619.29,-45.5\"/>\n",
       "<polygon fill=\"black\" stroke=\"black\" points=\"619.14,-49 629.14,-45.5 619.14,-42 619.14,-49\"/>\n",
       "</g>\n",
       "<!-- 140238369014112 -->\n",
       "<g id=\"node6\" class=\"node\">\n",
       "<title>140238369014112</title>\n",
       "<polygon fill=\"none\" stroke=\"black\" points=\"315.38,-55.5 315.38,-91.5 502.88,-91.5 502.88,-55.5 315.38,-55.5\"/>\n",
       "<text text-anchor=\"middle\" x=\"326.38\" y=\"-68.7\" font-family=\"Times,serif\" font-size=\"14.00\">e</text>\n",
       "<polyline fill=\"none\" stroke=\"black\" points=\"337.38,-56 337.38,-91.5\"/>\n",
       "<text text-anchor=\"middle\" x=\"379.5\" y=\"-68.7\" font-family=\"Times,serif\" font-size=\"14.00\">data &#45;6.0000</text>\n",
       "<polyline fill=\"none\" stroke=\"black\" points=\"421.62,-56 421.62,-91.5\"/>\n",
       "<text text-anchor=\"middle\" x=\"462.25\" y=\"-68.7\" font-family=\"Times,serif\" font-size=\"14.00\">grad 0.0000</text>\n",
       "</g>\n",
       "<!-- 140238369014112&#45;&gt;140237259037520+ -->\n",
       "<g id=\"edge6\" class=\"edge\">\n",
       "<title>140238369014112&#45;&gt;140237259037520+</title>\n",
       "<path fill=\"none\" stroke=\"black\" d=\"M502.6,-56.89C512.15,-55.17 521.41,-53.51 529.76,-52.01\"/>\n",
       "<polygon fill=\"black\" stroke=\"black\" points=\"530.3,-55.29 539.52,-50.08 529.06,-48.4 530.3,-55.29\"/>\n",
       "</g>\n",
       "<!-- 140238369014112* -->\n",
       "<g id=\"node7\" class=\"node\">\n",
       "<title>140238369014112*</title>\n",
       "<ellipse fill=\"none\" stroke=\"black\" cx=\"251.25\" cy=\"-73.5\" rx=\"27\" ry=\"18\"/>\n",
       "<text text-anchor=\"middle\" x=\"251.25\" y=\"-68.45\" font-family=\"Times,serif\" font-size=\"14.00\">*</text>\n",
       "</g>\n",
       "<!-- 140238369014112*&#45;&gt;140238369014112 -->\n",
       "<g id=\"edge3\" class=\"edge\">\n",
       "<title>140238369014112*&#45;&gt;140238369014112</title>\n",
       "<path fill=\"none\" stroke=\"black\" d=\"M278.69,-73.5C286.39,-73.5 295.3,-73.5 304.78,-73.5\"/>\n",
       "<polygon fill=\"black\" stroke=\"black\" points=\"304.68,-77 314.68,-73.5 304.68,-70 304.68,-77\"/>\n",
       "</g>\n",
       "<!-- 140238368041328 -->\n",
       "<g id=\"node8\" class=\"node\">\n",
       "<title>140238368041328</title>\n",
       "<polygon fill=\"none\" stroke=\"black\" points=\"0,-83.5 0,-119.5 188.25,-119.5 188.25,-83.5 0,-83.5\"/>\n",
       "<text text-anchor=\"middle\" x=\"11.38\" y=\"-96.7\" font-family=\"Times,serif\" font-size=\"14.00\">b</text>\n",
       "<polyline fill=\"none\" stroke=\"black\" points=\"22.75,-84 22.75,-119.5\"/>\n",
       "<text text-anchor=\"middle\" x=\"64.88\" y=\"-96.7\" font-family=\"Times,serif\" font-size=\"14.00\">data &#45;3.0000</text>\n",
       "<polyline fill=\"none\" stroke=\"black\" points=\"107,-84 107,-119.5\"/>\n",
       "<text text-anchor=\"middle\" x=\"147.62\" y=\"-96.7\" font-family=\"Times,serif\" font-size=\"14.00\">grad 0.0000</text>\n",
       "</g>\n",
       "<!-- 140238368041328&#45;&gt;140238369014112* -->\n",
       "<g id=\"edge7\" class=\"edge\">\n",
       "<title>140238368041328&#45;&gt;140238369014112*</title>\n",
       "<path fill=\"none\" stroke=\"black\" d=\"M188.05,-84.73C197.17,-83.08 206,-81.49 214,-80.04\"/>\n",
       "<polygon fill=\"black\" stroke=\"black\" points=\"214.48,-83.33 223.7,-78.11 213.24,-76.44 214.48,-83.33\"/>\n",
       "</g>\n",
       "<!-- 140238369014736 -->\n",
       "<g id=\"node9\" class=\"node\">\n",
       "<title>140238369014736</title>\n",
       "<polygon fill=\"none\" stroke=\"black\" points=\"314.25,-0.5 314.25,-36.5 504,-36.5 504,-0.5 314.25,-0.5\"/>\n",
       "<text text-anchor=\"middle\" x=\"325.25\" y=\"-13.7\" font-family=\"Times,serif\" font-size=\"14.00\">c</text>\n",
       "<polyline fill=\"none\" stroke=\"black\" points=\"336.25,-1 336.25,-36.5\"/>\n",
       "<text text-anchor=\"middle\" x=\"379.5\" y=\"-13.7\" font-family=\"Times,serif\" font-size=\"14.00\">data 10.0000</text>\n",
       "<polyline fill=\"none\" stroke=\"black\" points=\"422.75,-1 422.75,-36.5\"/>\n",
       "<text text-anchor=\"middle\" x=\"463.38\" y=\"-13.7\" font-family=\"Times,serif\" font-size=\"14.00\">grad 0.0000</text>\n",
       "</g>\n",
       "<!-- 140238369014736&#45;&gt;140237259037520+ -->\n",
       "<g id=\"edge8\" class=\"edge\">\n",
       "<title>140238369014736&#45;&gt;140237259037520+</title>\n",
       "<path fill=\"none\" stroke=\"black\" d=\"M503.95,-34.75C513.06,-36.33 521.87,-37.86 529.86,-39.24\"/>\n",
       "<polygon fill=\"black\" stroke=\"black\" points=\"529.08,-42.83 539.53,-41.09 530.28,-35.93 529.08,-42.83\"/>\n",
       "</g>\n",
       "<!-- 140238369017328 -->\n",
       "<g id=\"node10\" class=\"node\">\n",
       "<title>140238369017328</title>\n",
       "<polygon fill=\"none\" stroke=\"black\" points=\"2.62,-28.5 2.62,-64.5 185.62,-64.5 185.62,-28.5 2.62,-28.5\"/>\n",
       "<text text-anchor=\"middle\" x=\"13.62\" y=\"-41.7\" font-family=\"Times,serif\" font-size=\"14.00\">a</text>\n",
       "<polyline fill=\"none\" stroke=\"black\" points=\"24.62,-29 24.62,-64.5\"/>\n",
       "<text text-anchor=\"middle\" x=\"64.5\" y=\"-41.7\" font-family=\"Times,serif\" font-size=\"14.00\">data 2.0000</text>\n",
       "<polyline fill=\"none\" stroke=\"black\" points=\"104.38,-29 104.38,-64.5\"/>\n",
       "<text text-anchor=\"middle\" x=\"145\" y=\"-41.7\" font-family=\"Times,serif\" font-size=\"14.00\">grad 0.0000</text>\n",
       "</g>\n",
       "<!-- 140238369017328&#45;&gt;140238369014112* -->\n",
       "<g id=\"edge9\" class=\"edge\">\n",
       "<title>140238369017328&#45;&gt;140238369014112*</title>\n",
       "<path fill=\"none\" stroke=\"black\" d=\"M185.36,-62.21C195.48,-63.97 205.31,-65.68 214.13,-67.21\"/>\n",
       "<polygon fill=\"black\" stroke=\"black\" points=\"213.25,-70.79 223.7,-69.05 214.45,-63.89 213.25,-70.79\"/>\n",
       "</g>\n",
       "</g>\n",
       "</svg>\n"
      ],
      "text/plain": [
       "<graphviz.graphs.Digraph at 0x7f8bca1891f0>"
      ]
     },
     "execution_count": 53,
     "metadata": {},
     "output_type": "execute_result"
    }
   ],
   "source": [
    "draw_dot(L)"
   ]
  },
  {
   "cell_type": "code",
   "execution_count": 54,
   "id": "5d35768a-49c4-416b-93d4-9c42eb753b12",
   "metadata": {},
   "outputs": [
    {
     "name": "stdout",
     "output_type": "stream",
     "text": [
      "-1.9999999999953388\n"
     ]
    }
   ],
   "source": [
    "# Compute derdef stage_variables():\n",
    "def stage_variables():\n",
    "    \n",
    "    h=0.0001\n",
    "    \n",
    "    a = Value(2.0, label='a') \n",
    "    b = Value(-3.0, label='b')\n",
    "    c = Value(10.0, label='c')\n",
    "    e = a*b; e.label = 'e'\n",
    "    d = e + c; d.label = 'd'\n",
    "    f = Value(-2.0, label='f')\n",
    "    L1 = d * f; L.label = 'L'\n",
    "    L1=L1.data\n",
    "    \n",
    "    a = Value(2.0, label='a')\n",
    "    b = Value(-3.0, label='b')\n",
    "    c = Value(10.0, label='c')\n",
    "    e = a*b; e.label = 'e'\n",
    "    d = e + c; d.label = 'd'\n",
    "    d.data +=h  # Derivative with respect to d\n",
    "    f = Value(-2.0, label='f')\n",
    "    L2 = d * f; L.label = 'L'\n",
    "    L2=L2.data\n",
    "    \n",
    "    print((L2 - L1)/h) # The derivative\n",
    "stage_variables()"
   ]
  },
  {
   "cell_type": "markdown",
   "id": "902ef09e",
   "metadata": {},
   "source": [
    "Wow it's actually -2... incredible :|\n",
    "\n",
    "Ok, next question is at the core of backpropagation. How do we derive $L$ with respect to $c$ ($\\frac{dL}{dc}$)?"
   ]
  },
  {
   "cell_type": "markdown",
   "id": "5bd7d144",
   "metadata": {},
   "source": [
    "$$ \\frac{dd}{dc} $$\n",
    "\n",
    "$$ d = c + e $$ \n",
    "\n",
    "$$ \\frac{f(x+h) - f(x)}{h} $$\n",
    "\n",
    "$$ \\frac{(c+h+e) - (c+e)}{h} $$\n",
    "\n",
    "$$ \\frac{h}{h} = 1 $$\n",
    "\n",
    "$$ \\frac{dd}{dc}=\\frac{dd}{de} = 1 $$"
   ]
  },
  {
   "cell_type": "markdown",
   "id": "4cc546dc",
   "metadata": {},
   "source": [
    "So basically the plus node only knows the local influences of the local derivatives.\n",
    "\n",
    "Hence we use the chain rule in calculus: https://en.wikipedia.org/wiki/Chain_rule.\n",
    "\n",
    "It can be extremely confusing, but basically: if a car travels twice as fast as a bicycle and the bicycle is four times as fast as walking then the car is 2x4=8 times faster than walking. Basically the chain rule says: multiply previous gradients.\n",
    "\n",
    "I know, I know : calculus seems easy (this is just the surface)."
   ]
  },
  {
   "cell_type": "markdown",
   "id": "d539210c",
   "metadata": {},
   "source": [
    "Hence, $\\frac{dL}{dc} = \\frac{dL}{dd} * \\frac{dd}{dc}$ (Chain Rule).\n",
    "\n",
    "Known:\n",
    "\n",
    "$$ \\frac{dL}{dd} = -2 $$\n",
    "\n",
    "$$ \\frac{dd}{dc} = 1 $$\n",
    "\n",
    "Finally: $\\frac{dL}{dc} = -2$."
   ]
  },
  {
   "cell_type": "code",
   "execution_count": 55,
   "id": "62833bf3-fa63-4c49-97e4-d0042dab3686",
   "metadata": {},
   "outputs": [],
   "source": [
    "c.grad=-2"
   ]
  },
  {
   "cell_type": "markdown",
   "id": "baccc57a",
   "metadata": {},
   "source": [
    "We can verify this with the mathematical formula."
   ]
  },
  {
   "cell_type": "code",
   "execution_count": 56,
   "id": "80bf77e5-0cfc-4cb9-88b3-3d684557a579",
   "metadata": {},
   "outputs": [
    {
     "name": "stdout",
     "output_type": "stream",
     "text": [
      "-1.9999999999953388\n"
     ]
    }
   ],
   "source": [
    "# Compute derdef stage_variables():\n",
    "def stage_variables():\n",
    "    \n",
    "    h=0.0001\n",
    "    \n",
    "    a = Value(2.0, label='a') \n",
    "    b = Value(-3.0, label='b')\n",
    "    c = Value(10.0, label='c')\n",
    "    e = a*b; e.label = 'e'\n",
    "    d = e + c; d.label = 'd'\n",
    "    f = Value(-2.0, label='f')\n",
    "    L1 = d * f; L.label = 'L'\n",
    "    L1=L1.data\n",
    "    \n",
    "    a = Value(2.0, label='a')\n",
    "    b = Value(-3.0, label='b')\n",
    "    c = Value(10.0, label='c')\n",
    "    c.data +=h # Derivative with respect to h\n",
    "    e = a*b; e.label = 'e'\n",
    "    d = e + c; d.label = 'd'\n",
    "    f = Value(-2.0, label='f')\n",
    "    L2 = d * f; L.label = 'L'\n",
    "    L2=L2.data\n",
    "    \n",
    "    print((L2 - L1)/h) # The derivative\n",
    "stage_variables()"
   ]
  },
  {
   "cell_type": "markdown",
   "id": "670bf48b",
   "metadata": {},
   "source": [
    "Voila. Rinse and repeat and you computed the whole gradients. Gradients represent the rate of change. Subtracting the gradients from the W matrix gives as a nn with a lower loss. This is the magic sauce behind everything deep learning. If you got this far you are awesome."
   ]
  },
  {
   "cell_type": "code",
   "execution_count": null,
   "id": "90945852-4f9d-4516-9fea-4004000920bb",
   "metadata": {},
   "outputs": [],
   "source": []
  }
 ],
 "metadata": {
  "kernelspec": {
   "display_name": "Python 3 (ipykernel)",
   "language": "python",
   "name": "python3"
  },
  "language_info": {
   "codemirror_mode": {
    "name": "ipython",
    "version": 3
   },
   "file_extension": ".py",
   "mimetype": "text/x-python",
   "name": "python",
   "nbconvert_exporter": "python",
   "pygments_lexer": "ipython3",
   "version": "3.9.16"
  }
 },
 "nbformat": 4,
 "nbformat_minor": 5
}
