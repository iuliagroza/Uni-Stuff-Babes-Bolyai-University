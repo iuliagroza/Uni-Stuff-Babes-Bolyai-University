{
 "cells": [
  {
   "cell_type": "markdown",
   "id": "b8210b19",
   "metadata": {},
   "source": [
    "## A.I. Assignment 5\n",
    "\n",
    "## Learning Goals\n",
    "\n",
    "By the end of this lab, you should be able to:\n",
    "* Get more familiar with tensors in pytorch \n",
    "* Create a simple multilayer perceptron model with pytorch\n",
    "* Visualise the parameters\n",
    "\n",
    "\n",
    "### Task\n",
    "\n",
    "Build a fully connected feed forward network that adds two bits. Determine the a propper achitecture for this network (what database you use for this problem? how many layers? how many neurons on each layer? what is the activation function? what is the loss function? etc)\n",
    "\n",
    "Create at least 3 such networks and compare their performance (How accurate they are? How fast are they trained to get at 1 accuracy?)\n",
    "\n",
    "Display for the best one the weights for each layer.\n"
   ]
  },
  {
   "cell_type": "code",
   "execution_count": 1,
   "id": "e3614e5f",
   "metadata": {},
   "outputs": [],
   "source": [
    "import torch\n",
    "import torch.nn as nn\n",
    "from collections import OrderedDict"
   ]
  },
  {
   "cell_type": "code",
   "execution_count": null,
   "id": "5ee7e7d7",
   "metadata": {},
   "outputs": [],
   "source": [
    "# your code here\n",
    "#model1 = nn.Sequential(OrderedDict([\n",
    "#    ('hidden', nn.\n",
    "#]))"
   ]
  },
  {
   "cell_type": "code",
   "execution_count": null,
   "id": "665ae958",
   "metadata": {},
   "outputs": [],
   "source": [
    "print(model)"
   ]
  },
  {
   "cell_type": "code",
   "execution_count": null,
   "id": "e26f0d3e",
   "metadata": {},
   "outputs": [],
   "source": [
    "# your code here\n",
    "#data_in = torch.tensor( ...\n",
    "print(data_in)"
   ]
  },
  {
   "cell_type": "code",
   "execution_count": null,
   "id": "4fb16bbc",
   "metadata": {},
   "outputs": [],
   "source": [
    "# your code here\n",
    "# data_target = torch.tensor( ...\n",
    "print(data_target)"
   ]
  },
  {
   "cell_type": "code",
   "execution_count": null,
   "id": "69d920ed",
   "metadata": {},
   "outputs": [],
   "source": [
    "# your code here\n",
    "# criterion = \n",
    "# optimizer = "
   ]
  },
  {
   "cell_type": "code",
   "execution_count": null,
   "id": "cde91f6f",
   "metadata": {},
   "outputs": [],
   "source": [
    "# your code here\n",
    "# Train the model\n"
   ]
  },
  {
   "cell_type": "code",
   "execution_count": null,
   "id": "dff3ec1a",
   "metadata": {},
   "outputs": [],
   "source": [
    "# your code here\n",
    "# visualize the results"
   ]
  },
  {
   "cell_type": "code",
   "execution_count": null,
   "id": "c1a7518b",
   "metadata": {},
   "outputs": [],
   "source": [
    "# your code here\n",
    "# print model weights"
   ]
  },
  {
   "cell_type": "code",
   "execution_count": null,
   "id": "e29c65a2",
   "metadata": {},
   "outputs": [],
   "source": []
  }
 ],
 "metadata": {
  "kernelspec": {
   "display_name": "Python 3 (ipykernel)",
   "language": "python",
   "name": "python3"
  },
  "language_info": {
   "codemirror_mode": {
    "name": "ipython",
    "version": 3
   },
   "file_extension": ".py",
   "mimetype": "text/x-python",
   "name": "python",
   "nbconvert_exporter": "python",
   "pygments_lexer": "ipython3",
   "version": "3.9.16"
  }
 },
 "nbformat": 4,
 "nbformat_minor": 5
}
