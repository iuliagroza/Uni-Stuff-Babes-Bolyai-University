{
 "cells": [
  {
   "cell_type": "markdown",
   "id": "b8210b19",
   "metadata": {},
   "source": [
    "## A.I. Assignment 5\n",
    "\n",
    "## Learning Goals\n",
    "\n",
    "By the end of this lab, you should be able to:\n",
    "* Get more familiar with tensors in pytorch \n",
    "* Create a simple multilayer perceptron model with pytorch\n",
    "* Visualise the parameters\n",
    "\n",
    "\n",
    "### Task\n",
    "\n",
    "Build a fully connected feed forward network that adds two bits. Determine the a propper achitecture for this network (what database you use for this problem? how many layers? how many neurons on each layer? what is the activation function? what is the loss function? etc)\n",
    "\n",
    "Create at least 3 such networks and compare their performance (How accurate are they? How fast are they trained to get at 1 accuracy?)\n",
    "\n",
    "Display for the best one the weights for each layer.\n"
   ]
  },
  {
   "cell_type": "code",
   "execution_count": 10,
   "id": "e3614e5f",
   "metadata": {},
   "outputs": [],
   "source": [
    "import torch\n",
    "import torch.nn as nn\n",
    "import torch.optim as optim\n",
    "from collections import OrderedDict"
   ]
  },
  {
   "cell_type": "code",
   "execution_count": 100,
   "id": "5ee7e7d7",
   "metadata": {},
   "outputs": [],
   "source": [
    "model1 = nn.Sequential(OrderedDict([\n",
    "    ('hidden', nn.Linear(2, 4)),\n",
    "    ('activation', nn.Sigmoid()),\n",
    "    ('output', nn.Linear(4, 1)),\n",
    "    ('sigmoid', nn.Sigmoid())\n",
    "]))\n",
    "\n",
    "model2 = nn.Sequential(OrderedDict([\n",
    "    ('hidden', nn.Linear(2, 8)),\n",
    "    ('activation', nn.ReLU()),\n",
    "    ('output', nn.Linear(8, 1)),\n",
    "    ('softmax', nn.Softmax(dim=1))\n",
    "]))\n",
    "\n",
    "model3 = nn.Sequential(OrderedDict([\n",
    "    ('fct1', nn.Linear(2, 16)),\n",
    "    ('relu1', nn.ReLU()),\n",
    "    ('fct2', nn.Linear(16, 8)),\n",
    "    ('relu2', nn.ReLU()),\n",
    "    ('fct3', nn.Linear(8, 4)),\n",
    "    ('relu3', nn.ReLU()),\n",
    "    ('fct4', nn.Linear(4, 1)),\n",
    "    ('softmax', nn.Softmax(dim=1))\n",
    "]))"
   ]
  },
  {
   "cell_type": "code",
   "execution_count": 101,
   "id": "665ae958",
   "metadata": {},
   "outputs": [
    {
     "name": "stdout",
     "output_type": "stream",
     "text": [
      "Sequential(\n",
      "  (hidden): Linear(in_features=2, out_features=4, bias=True)\n",
      "  (activation): Sigmoid()\n",
      "  (output): Linear(in_features=4, out_features=1, bias=True)\n",
      "  (sigmoid): Sigmoid()\n",
      ")\n",
      "Sequential(\n",
      "  (hidden): Linear(in_features=2, out_features=8, bias=True)\n",
      "  (activation): ReLU()\n",
      "  (output): Linear(in_features=8, out_features=1, bias=True)\n",
      "  (softmax): Softmax(dim=1)\n",
      ")\n",
      "Sequential(\n",
      "  (fct1): Linear(in_features=2, out_features=16, bias=True)\n",
      "  (relu1): ReLU()\n",
      "  (fct2): Linear(in_features=16, out_features=8, bias=True)\n",
      "  (relu2): ReLU()\n",
      "  (fct3): Linear(in_features=8, out_features=4, bias=True)\n",
      "  (relu3): ReLU()\n",
      "  (fct4): Linear(in_features=4, out_features=1, bias=True)\n",
      "  (softmax): Softmax(dim=1)\n",
      ")\n"
     ]
    }
   ],
   "source": [
    "print(model1)\n",
    "print(model2)\n",
    "print(model3)"
   ]
  },
  {
   "cell_type": "code",
   "execution_count": 102,
   "id": "e26f0d3e",
   "metadata": {},
   "outputs": [
    {
     "name": "stdout",
     "output_type": "stream",
     "text": [
      "tensor([[0., 0.],\n",
      "        [0., 1.],\n",
      "        [1., 0.],\n",
      "        [1., 1.]])\n"
     ]
    }
   ],
   "source": [
    "data_in = torch.tensor([[0, 0], [0, 1], [1, 0], [1, 1]], dtype=torch.float32)\n",
    "\n",
    "print(data_in)"
   ]
  },
  {
   "cell_type": "code",
   "execution_count": 103,
   "id": "4fb16bbc",
   "metadata": {},
   "outputs": [
    {
     "name": "stdout",
     "output_type": "stream",
     "text": [
      "tensor([[0.],\n",
      "        [1.],\n",
      "        [1.],\n",
      "        [0.]])\n"
     ]
    }
   ],
   "source": [
    "data_target = torch.tensor([[0], [1], [1], [0]], dtype=torch.float32)\n",
    "    \n",
    "print(data_target)"
   ]
  },
  {
   "cell_type": "code",
   "execution_count": 111,
   "id": "69d920ed",
   "metadata": {},
   "outputs": [],
   "source": [
    "criterion = nn.BCEWithLogitsLoss()\n",
    "\n",
    "optimizer1 = optim.SGD(model1.parameters(), lr=0.1)\n",
    "optimizer2 = optim.SGD(model2.parameters(), lr=0.1)\n",
    "optimizer3 = optim.SGD(model3.parameters(), lr=0.1)"
   ]
  },
  {
   "cell_type": "code",
   "execution_count": 112,
   "id": "cde91f6f",
   "metadata": {},
   "outputs": [
    {
     "name": "stdout",
     "output_type": "stream",
     "text": [
      "1st model:\n",
      "Epoch [100/1000], Loss: 0.6938\n",
      "Epoch [200/1000], Loss: 0.6937\n",
      "Epoch [300/1000], Loss: 0.6937\n",
      "Epoch [400/1000], Loss: 0.6936\n",
      "Epoch [500/1000], Loss: 0.6936\n",
      "Epoch [600/1000], Loss: 0.6936\n",
      "Epoch [700/1000], Loss: 0.6935\n",
      "Epoch [800/1000], Loss: 0.6935\n",
      "Epoch [900/1000], Loss: 0.6935\n",
      "Epoch [1000/1000], Loss: 0.6934\n",
      "\n",
      "2nd model:\n",
      "Epoch [100/1000], Loss: 0.8133\n",
      "Epoch [200/1000], Loss: 0.8133\n",
      "Epoch [300/1000], Loss: 0.8133\n",
      "Epoch [400/1000], Loss: 0.8133\n",
      "Epoch [500/1000], Loss: 0.8133\n",
      "Epoch [600/1000], Loss: 0.8133\n",
      "Epoch [700/1000], Loss: 0.8133\n",
      "Epoch [800/1000], Loss: 0.8133\n",
      "Epoch [900/1000], Loss: 0.8133\n",
      "Epoch [1000/1000], Loss: 0.8133\n",
      "\n",
      "3rd model:\n",
      "Epoch [100/1000], Loss: 0.8133\n",
      "Epoch [200/1000], Loss: 0.8133\n",
      "Epoch [300/1000], Loss: 0.8133\n",
      "Epoch [400/1000], Loss: 0.8133\n",
      "Epoch [500/1000], Loss: 0.8133\n",
      "Epoch [600/1000], Loss: 0.8133\n",
      "Epoch [700/1000], Loss: 0.8133\n",
      "Epoch [800/1000], Loss: 0.8133\n",
      "Epoch [900/1000], Loss: 0.8133\n",
      "Epoch [1000/1000], Loss: 0.8133\n"
     ]
    }
   ],
   "source": [
    "# Train the model\n",
    "\n",
    "num_epochs = 1000\n",
    "\n",
    "# First model\n",
    "print(\"1st model:\")\n",
    "for epoch in range(num_epochs):\n",
    "    # Forward pass\n",
    "    outputs_pred = model1(data_in)\n",
    "    loss = criterion(outputs_pred, data_target)\n",
    "    \n",
    "    # Backward and optimize\n",
    "    optimizer1.zero_grad()\n",
    "    loss.backward()\n",
    "    optimizer1.step()\n",
    "    \n",
    "    # Print training progress\n",
    "    if (epoch+1) % 100 == 0:\n",
    "        print(f'Epoch [{epoch+1}/{num_epochs}], Loss: {loss.item():.4f}')\n",
    "\n",
    "# Second model\n",
    "print(\"\\n2nd model:\")\n",
    "for epoch in range(num_epochs):\n",
    "    # Forward pass\n",
    "    outputs_pred = model2(data_in)\n",
    "    loss = criterion(outputs_pred, data_target)\n",
    "    \n",
    "    # Backward and optimize\n",
    "    optimizer2.zero_grad()\n",
    "    loss.backward()\n",
    "    optimizer2.step()\n",
    "    \n",
    "    # Print training progress\n",
    "    if (epoch+1) % 100 == 0:\n",
    "        print(f'Epoch [{epoch+1}/{num_epochs}], Loss: {loss.item():.4f}')\n",
    "\n",
    "# Third model\n",
    "print(\"\\n3rd model:\")\n",
    "for epoch in range(num_epochs):\n",
    "    # Forward pass\n",
    "    outputs_pred = model3(data_in)\n",
    "    loss = criterion(outputs_pred, data_target)\n",
    "    \n",
    "    # Backward and optimize\n",
    "    optimizer3.zero_grad()\n",
    "    loss.backward()\n",
    "    optimizer3.step()\n",
    "    \n",
    "    # Print training progress\n",
    "    if (epoch+1) % 100 == 0:\n",
    "        print(f'Epoch [{epoch+1}/{num_epochs}], Loss: {loss.item():.4f}')"
   ]
  },
  {
   "cell_type": "code",
   "execution_count": 113,
   "id": "dff3ec1a",
   "metadata": {},
   "outputs": [
    {
     "name": "stdout",
     "output_type": "stream",
     "text": [
      "1st model training accuracy: 0.5000\n",
      "2nd model training accuracy: 0.5000\n",
      "3rd model training accuracy: 0.5000\n"
     ]
    }
   ],
   "source": [
    "# Visualize results\n",
    "\n",
    "# First model\n",
    "with torch.no_grad():\n",
    "    outputs = model1(data_in)\n",
    "    predicted = (outputs >= 0.5).float()\n",
    "    accuracy = (predicted == data_target).float().mean()\n",
    "    print(f'1st model training accuracy: {accuracy.item():.4f}')\n",
    "    \n",
    "# Second model\n",
    "with torch.no_grad():\n",
    "    outputs = model2(data_in)\n",
    "    predicted = (outputs >= 0.5).float()\n",
    "    accuracy = (predicted == data_target).float().mean()\n",
    "    print(f'2nd model training accuracy: {accuracy.item():.4f}')\n",
    "    \n",
    "# Third model\n",
    "with torch.no_grad():\n",
    "    outputs = model3(data_in)\n",
    "    predicted = (outputs >= 0.5).float()\n",
    "    accuracy = (predicted == data_target).float().mean()\n",
    "    print(f'3rd model training accuracy: {accuracy.item():.4f}')"
   ]
  },
  {
   "cell_type": "code",
   "execution_count": 114,
   "id": "c1a7518b",
   "metadata": {},
   "outputs": [
    {
     "name": "stdout",
     "output_type": "stream",
     "text": [
      "1st model:\n",
      "hidden.weight tensor([[-0.4038, -0.5261],\n",
      "        [-0.3002,  0.8728],\n",
      "        [-0.6567, -0.4243],\n",
      "        [-0.0779, -0.2058]])\n",
      "hidden.bias tensor([-0.3078,  0.0435,  0.2972,  0.1101])\n",
      "output.weight tensor([[-0.6715, -1.1204, -0.2738, -1.0208]])\n",
      "output.bias tensor([-1.1413])\n",
      "\n",
      "2nd model:\n",
      "hidden.weight tensor([[-0.5544,  0.6763],\n",
      "        [-0.6055, -0.1584],\n",
      "        [-0.5447, -0.0417],\n",
      "        [ 0.2396, -0.4130],\n",
      "        [ 0.0035, -0.4673],\n",
      "        [-0.5746, -0.6365],\n",
      "        [-0.0218,  0.2395],\n",
      "        [ 0.5668,  0.0653]])\n",
      "hidden.bias tensor([ 0.0156, -0.0953,  0.6489, -0.3200,  0.2998,  0.1583,  0.2450,  0.2611])\n",
      "output.weight tensor([[ 0.0423,  0.0156, -0.0244,  0.3095, -0.0535,  0.1309,  0.1520, -0.3511]])\n",
      "output.bias tensor([0.3312])\n",
      "\n",
      "3rd model:\n",
      "fct1.weight tensor([[-0.3742,  0.0128],\n",
      "        [-0.6855, -0.4097],\n",
      "        [-0.2969,  0.3090],\n",
      "        [ 0.6011,  0.5011],\n",
      "        [ 0.6920,  0.2614],\n",
      "        [ 0.4503, -0.4065],\n",
      "        [-0.2840, -0.5224],\n",
      "        [ 0.3873,  0.3613],\n",
      "        [-0.3109,  0.3657],\n",
      "        [ 0.3797,  0.5800],\n",
      "        [-0.2805, -0.5858],\n",
      "        [-0.0803, -0.4783],\n",
      "        [-0.1267,  0.2174],\n",
      "        [-0.1538,  0.3374],\n",
      "        [-0.5245,  0.5163],\n",
      "        [-0.1692, -0.6711]])\n",
      "fct1.bias tensor([-0.3676, -0.6905, -0.1835,  0.3290,  0.1926,  0.1400, -0.0584,  0.0016,\n",
      "        -0.3168, -0.1498, -0.5060,  0.4187, -0.2786, -0.5480, -0.2813,  0.0198])\n",
      "fct2.weight tensor([[ 0.0413, -0.1678, -0.1315,  0.0536, -0.0483, -0.1732,  0.2166,  0.0859,\n",
      "         -0.1789, -0.1838, -0.2007, -0.1679, -0.2431,  0.1348,  0.0960,  0.0379],\n",
      "        [-0.1515, -0.0211,  0.1261, -0.1563,  0.2205,  0.1720, -0.1850, -0.2471,\n",
      "         -0.1879,  0.2119,  0.0252,  0.1938,  0.0903,  0.0301, -0.2470,  0.0334],\n",
      "        [-0.1111, -0.0111,  0.2116,  0.1095, -0.1324, -0.2030,  0.0500, -0.1747,\n",
      "          0.0485,  0.1488, -0.0785,  0.1446,  0.1785,  0.1475, -0.2072, -0.1430],\n",
      "        [ 0.0840, -0.1018, -0.2475,  0.0266, -0.0986,  0.0818, -0.0220,  0.0319,\n",
      "         -0.1619,  0.1174, -0.0895,  0.0931,  0.1686, -0.0323,  0.1230, -0.1610],\n",
      "        [-0.1713,  0.0355,  0.1836, -0.0785, -0.0319,  0.1225, -0.1971,  0.1935,\n",
      "         -0.1150,  0.0300, -0.1443,  0.1697,  0.1904, -0.2036,  0.0104, -0.0964],\n",
      "        [-0.1072,  0.1476,  0.0150, -0.0154, -0.0812,  0.1767, -0.1051, -0.0978,\n",
      "         -0.2103, -0.1582, -0.0734, -0.0286, -0.1920, -0.2267,  0.0052,  0.0721],\n",
      "        [ 0.2437, -0.0722, -0.0398, -0.2093, -0.0317,  0.1255, -0.1136, -0.1440,\n",
      "          0.2077,  0.1188, -0.1959, -0.2426, -0.0540, -0.0560,  0.1705,  0.1369],\n",
      "        [ 0.1858,  0.2190, -0.2165,  0.1521, -0.2153,  0.2454,  0.2327,  0.1949,\n",
      "         -0.0026, -0.1909,  0.0643, -0.0085,  0.1966,  0.1967,  0.2221, -0.0239]])\n",
      "fct2.bias tensor([-0.2357,  0.2182,  0.0743,  0.1345,  0.1238,  0.0334,  0.1469, -0.2323])\n",
      "fct3.weight tensor([[ 0.2643,  0.0973, -0.3039,  0.2527,  0.2674, -0.2147, -0.3116, -0.1435],\n",
      "        [-0.1637, -0.2915, -0.2105,  0.2644,  0.1751, -0.0194,  0.2208,  0.2118],\n",
      "        [-0.0345, -0.3219, -0.2095,  0.3448,  0.1692,  0.3141, -0.1454, -0.0353],\n",
      "        [-0.2434, -0.0494, -0.1482,  0.0619, -0.0463,  0.1799, -0.3211, -0.0412]])\n",
      "fct3.bias tensor([-0.2483, -0.2913,  0.1418, -0.0651])\n",
      "fct4.weight tensor([[-0.3386,  0.2211,  0.2274,  0.4837]])\n",
      "fct4.bias tensor([-0.1883])\n"
     ]
    }
   ],
   "source": [
    "# Print model weights\n",
    "\n",
    "# First model\n",
    "print(\"1st model:\")\n",
    "for name, param in model1.named_parameters():\n",
    "    if param.requires_grad:\n",
    "        print(name, param.data)\n",
    "        \n",
    "# First model\n",
    "print(\"\\n2nd model:\")\n",
    "for name, param in model2.named_parameters():\n",
    "    if param.requires_grad:\n",
    "        print(name, param.data)\n",
    "        \n",
    "# First model\n",
    "print(\"\\n3rd model:\")\n",
    "for name, param in model3.named_parameters():\n",
    "    if param.requires_grad:\n",
    "        print(name, param.data)"
   ]
  },
  {
   "cell_type": "code",
   "execution_count": null,
   "id": "e29c65a2",
   "metadata": {},
   "outputs": [],
   "source": []
  },
  {
   "cell_type": "code",
   "execution_count": null,
   "id": "4c442883",
   "metadata": {},
   "outputs": [],
   "source": []
  }
 ],
 "metadata": {
  "kernelspec": {
   "display_name": "Python 3 (ipykernel)",
   "language": "python",
   "name": "python3"
  },
  "language_info": {
   "codemirror_mode": {
    "name": "ipython",
    "version": 3
   },
   "file_extension": ".py",
   "mimetype": "text/x-python",
   "name": "python",
   "nbconvert_exporter": "python",
   "pygments_lexer": "ipython3",
   "version": "3.9.16"
  }
 },
 "nbformat": 4,
 "nbformat_minor": 5
}
