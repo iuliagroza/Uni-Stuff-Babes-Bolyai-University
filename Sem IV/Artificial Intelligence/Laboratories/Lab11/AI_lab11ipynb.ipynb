{
 "cells": [
  {
   "cell_type": "markdown",
   "metadata": {},
   "source": [
    "# Lab 11: Evolutionary computation\n",
    "\n",
    "### Consider the following example:\n",
    "\n",
    "Determine the minimum of the function $f(x)= x_1^2+...+x_n^2$ with $x_i \\in [-5.12, 5.12]$, $i \\in \\overline{(1, n)}$.\n",
    "\n",
    "We have an example of a steady state genetic algorithm represented as an array of real numbers; 100 individuals; crossover $$child = \\alpha \\cdot (parent1 - parent2) + parent2 ;$$ mutation - reinitialise on a random position the individual's value."
   ]
  },
  {
   "cell_type": "code",
   "execution_count": 55,
   "metadata": {},
   "outputs": [
    {
     "name": "stdout",
     "output_type": "stream",
     "text": [
      "Result: The detected minimum point after 10000 iterations is f(-0.00 -0.00) = 0.00\n"
     ]
    }
   ],
   "source": [
    "from random import randint, random\n",
    "from operator import add\n",
    "from math import cos, pi\n",
    "\n",
    "\n",
    "def individual(length, vmin, vmax):\n",
    "    '''\n",
    "    Create a member of the population - an individual\n",
    "\n",
    "    length: the number of genes (components)\n",
    "    vmin: the minimum possible value \n",
    "    vmax: the maximum possible value \n",
    "    '''\n",
    "    return [ (random()*(vmax-vmin)+vmin) for x in range(length) ]\n",
    "    \n",
    "def population(count, length, vmin, vmax):\n",
    "    \"\"\"\n",
    "    Create a number of individuals (i.e. a population).\n",
    "\n",
    "    count: the number of individuals in the population\n",
    "    length: the number of genes per individual\n",
    "    vmin: the minimum possible value \n",
    "    vmax: the maximum possible value \n",
    "    \"\"\"\n",
    "    return [ individual(length, vmin, vmax) for x in range(count) ]\n",
    "\n",
    "def fitness(individual):\n",
    "    \"\"\"\n",
    "    Determine the fitness of an individual. Lower is better (min problem).\n",
    "    For this problem we have the Rastrigin function.\n",
    "    \n",
    "    individual: the individual to evaluate\n",
    "    \"\"\"\n",
    "    n=len(individual)\n",
    "    f=0\n",
    "    for i in range(n):\n",
    "        f+=individual[i]*individual[i]\n",
    "    return f\n",
    "    \n",
    "def mutate(individual, pM, vmin, vmax): \n",
    "    '''\n",
    "    Performs a mutation on an individual with the probability of pM.\n",
    "    If the event will take place at a random position, a new value will be\n",
    "    generated in the interval [vmin, vmax].\n",
    "\n",
    "    individual:the individual to be mutated\n",
    "    pM: the probability the mutation to occure\n",
    "    vmin: the minimum possible value \n",
    "    vmax: the maximum possible value\n",
    "    '''\n",
    "    if pM > random():\n",
    "            p = randint(0, len(individual)-1)\n",
    "            individual[p] = random()*(vmax-vmin)+vmin\n",
    "    return individual\n",
    "    \n",
    "def crossover(parent1, parent2):\n",
    "    '''\n",
    "    Crossover between two parents.\n",
    "    '''\n",
    "    child=[]\n",
    "    alpha=random()\n",
    "    for x in range(len(parent1)):\n",
    "        child.append(alpha*(parent1[x]-parent2[x])+parent2[x])\n",
    "    return child\n",
    "\n",
    "def iteration(pop, pM, vmin, vmax):\n",
    "    '''\n",
    "    An iteration\n",
    "\n",
    "    pop: the current population\n",
    "    pM: the probability the mutation will occur\n",
    "    vmin: the minimum possible value \n",
    "    vmax: the maximum possible value\n",
    "    '''\n",
    "    i1=randint(0,len(pop)-1)\n",
    "    i2=randint(0,len(pop)-1)\n",
    "    if (i1!=i2):\n",
    "        c=crossover(pop[i1],pop[i2])\n",
    "        c=mutate(c, pM, vmin, vmax)\n",
    "        f1=fitness(pop[i1])\n",
    "        f2=fitness(pop[i2])\n",
    "        '''\n",
    "        The repeated evaluation of the parents can be avoided\n",
    "        if next to the values stored in the individuals we also\n",
    "        keep their fitnesses. \n",
    "        '''\n",
    "        fc=fitness(c)\n",
    "        if(f1>f2) and (f1>fc):\n",
    "            pop[i1]=c\n",
    "        if(f2>f1) and (f2>fc):\n",
    "            pop[i2]=c\n",
    "    return pop\n",
    "\n",
    "def main(noIterations=10000):\n",
    "    # PARAMETERS:\n",
    "    \n",
    "    # population size\n",
    "    dimPopulation = 100\n",
    "    # individual size\n",
    "    dimIndividual = 2\n",
    "    # the boundries of the search interval\n",
    "    vmin = -5.12\n",
    "    vmax = 5.12\n",
    "    # the mutation probability\n",
    "    pM=0.01\n",
    "    \n",
    "    P = population(dimPopulation, dimIndividual, vmin, vmax)\n",
    "    for i in range(noIterations):\n",
    "        P = iteration(P, pM, vmin, vmax)\n",
    "\n",
    "    # Print the best individual\n",
    "    graded = [ (fitness(x), x) for x in P ]\n",
    "    graded =  sorted(graded)\n",
    "    result=graded[0]\n",
    "    fitnessOptim=result[0]\n",
    "    individualOptim=result[1]\n",
    "    print('Result: The detected minimum point after %d iterations is f(%3.2f %3.2f) = %3.2f'% \\\n",
    "          (noIterations,individualOptim[0],individualOptim[1], fitnessOptim) )\n",
    "        \n",
    "main()"
   ]
  },
  {
   "cell_type": "markdown",
   "metadata": {},
   "source": [
    "#### Exercise 1 \n",
    "Construct a similar algorithm to the one provided as an example for the Bukin function N.6 (see previous lab for this function).\n"
   ]
  },
  {
   "cell_type": "code",
   "execution_count": 56,
   "metadata": {},
   "outputs": [],
   "source": [
    "from math import sqrt"
   ]
  },
  {
   "cell_type": "code",
   "execution_count": 57,
   "metadata": {},
   "outputs": [],
   "source": [
    "def individual_bukin(length, vmin, vmax):\n",
    "    return [ random()*(vmax[i]-vmin[i])+vmin[i] for i in range(length) ]"
   ]
  },
  {
   "cell_type": "code",
   "execution_count": 58,
   "metadata": {},
   "outputs": [],
   "source": [
    "def population_bukin(count, length, vmin, vmax):\n",
    "    return [ individual_bukin(length, vmin, vmax) for _ in range(count) ]"
   ]
  },
  {
   "cell_type": "code",
   "execution_count": 59,
   "metadata": {},
   "outputs": [],
   "source": [
    "def fitness_bukin(individual):\n",
    "    \"\"\"\n",
    "    Determine the fitness of an individual. Lower is better.\n",
    "    For this problem we have the Bukin function N.6\n",
    "    \"\"\"\n",
    "    x = individual[0]\n",
    "    y = individual[1]\n",
    "    f = 100 * sqrt(abs(y - 0.01*x*x)) + 0.01 * abs(x+10)\n",
    "    return f"
   ]
  },
  {
   "cell_type": "code",
   "execution_count": 60,
   "metadata": {},
   "outputs": [],
   "source": [
    "def mutate_bukin(individual, pM, vmin, vmax): \n",
    "    if pM > random():\n",
    "        p = randint(0, len(individual)-1)\n",
    "        individual[p] = random()*(vmax[p]-vmin[p])+vmin[p]\n",
    "    return individual"
   ]
  },
  {
   "cell_type": "code",
   "execution_count": 61,
   "metadata": {},
   "outputs": [],
   "source": [
    "def iteration_bukin(pop, pM, vmin, vmax):\n",
    "    i1=randint(0,len(pop)-1)\n",
    "    i2=randint(0,len(pop)-1)\n",
    "    if (i1!=i2):\n",
    "        c=crossover(pop[i1],pop[i2])\n",
    "        c=mutate_bukin(c, pM, vmin, vmax)\n",
    "        f1=fitness_bukin(pop[i1])\n",
    "        f2=fitness_bukin(pop[i2])\n",
    "        fc=fitness_bukin(c)\n",
    "        if(f1>f2) and (f1>fc):\n",
    "            pop[i1]=c\n",
    "        if(f2>f1) and (f2>fc):\n",
    "            pop[i2]=c\n",
    "    return pop"
   ]
  },
  {
   "cell_type": "code",
   "execution_count": 62,
   "metadata": {},
   "outputs": [
    {
     "name": "stdout",
     "output_type": "stream",
     "text": [
      "Result: The detected minimum point after 10000 iterations is f(-9.64, 0.93) = 0.00\n"
     ]
    }
   ],
   "source": [
    "def main(noIterations=10000):\n",
    "    # PARAMETERS:\n",
    "    \n",
    "    # population size\n",
    "    dimPopulation = 100\n",
    "    # individual size\n",
    "    dimIndividual = 2\n",
    "    # the mutation probability\n",
    "    pM = 0.01\n",
    "    # the boundaries of the search interval for x and y\n",
    "    vmin = [-15, -3]\n",
    "    vmax = [-5, 3]\n",
    "\n",
    "    P = population_bukin(dimPopulation, dimIndividual, vmin, vmax)\n",
    "\n",
    "    for _ in range(noIterations):\n",
    "        P = iteration_bukin(P, pM, vmin, vmax)\n",
    "\n",
    "    # Print the best individual\n",
    "    graded = [ (fitness_bukin(x), x) for x in P ]\n",
    "    graded = sorted(graded)\n",
    "    result = graded[0]\n",
    "    fitnessOptim = result[0]\n",
    "    individualOptim = result[1]\n",
    "    print(f'Result: The detected minimum point after {noIterations} iterations is f({individualOptim[0]:3.2f}, {individualOptim[1]:3.2f}) = {fitnessOptim:3.2f}')\n",
    "\n",
    "main()"
   ]
  },
  {
   "cell_type": "markdown",
   "metadata": {},
   "source": [
    "Consider the knapsack problem:\n",
    "\n",
    "Consider a Knapsack with a total volum equal with $V_{max}$.\n",
    "\n",
    "There are $n$ objects, with values $(p_i)_{n}$ and volumes $(v_i)_n$.\n",
    "\n",
    "Solve this problem using a generationist Genetic Algorithm, with a binary representation."
   ]
  },
  {
   "cell_type": "markdown",
   "metadata": {},
   "source": [
    "#### Exercise 2\n",
    "**Initialization**\n",
    "\n",
    "Objective: Implement the initialization step of a genetic algorithm."
   ]
  },
  {
   "cell_type": "code",
   "execution_count": 82,
   "metadata": {},
   "outputs": [
    {
     "name": "stdout",
     "output_type": "stream",
     "text": [
      "[[0, 1, 0, 0, 1, 1, 1, 0], [1, 0, 0, 0, 0, 1, 1, 0], [1, 1, 0, 1, 1, 1, 1, 1], [1, 0, 0, 0, 1, 1, 1, 1], [0, 0, 1, 1, 0, 0, 1, 0], [1, 0, 1, 1, 0, 1, 0, 1], [0, 1, 1, 1, 0, 1, 0, 0], [1, 0, 0, 1, 1, 1, 0, 0], [1, 1, 1, 1, 1, 0, 0, 0], [1, 0, 1, 1, 1, 0, 1, 0]]\n"
     ]
    }
   ],
   "source": [
    "import random\n",
    "\n",
    "def initialize_population(population_size, chromosome_length):\n",
    "    # Generate random a population with population_size number of individuals,\n",
    "    # each individual with the size chromosome_length.\n",
    "    # IN:  population_size, chromosome_length\n",
    "    # OUT: population\n",
    "    \n",
    "    # Generate population using list comprehension\n",
    "    population = [ [ random.randint(0, 1) for _ in range(chromosome_length) ] for _ in range(population_size) ]\n",
    "    return population\n",
    "\n",
    "\n",
    "# Test the initialization step\n",
    "population_size = 10\n",
    "chromosome_length = 8\n",
    "population = initialize_population(population_size, chromosome_length)\n",
    "print(population)"
   ]
  },
  {
   "cell_type": "markdown",
   "metadata": {},
   "source": [
    "#### Exercise 3 \n",
    "**Fitness Evaluation**\n",
    "\n",
    "Objective: Implement the fitness evaluation step of a genetic algorithm."
   ]
  },
  {
   "cell_type": "code",
   "execution_count": 83,
   "metadata": {},
   "outputs": [
    {
     "name": "stdout",
     "output_type": "stream",
     "text": [
      "[0, 0, 0, 0, 0, 0, 0, 0, 0, 0]\n"
     ]
    }
   ],
   "source": [
    "def evaluate_fitness(population, values, volumes, Vmax):\n",
    "    # Evaluate the fitness of each individual in the population.\n",
    "    # IN:  population\n",
    "    # OUT: fitness_scores\n",
    "    \n",
    "    fitness_scores = []\n",
    "    \n",
    "    for individual in population:\n",
    "        value = sum([ ind*val for ind, val in zip(individual, values) ])\n",
    "        volume = sum([ ind*vol for ind, vol in zip(individual, volumes) ])\n",
    "        \n",
    "        # If the total volume of the individual exceeds the maximum volume, \n",
    "        # then assign a low fitness score.\n",
    "        if volume > Vmax:\n",
    "            fitness_scores.append(0)\n",
    "        else:\n",
    "            fitness_scores.append(value)\n",
    "    \n",
    "    return fitness_scores\n",
    "\n",
    "# Test the fitness evaluation step\n",
    "values = [10, 15, 20, 40, 60, 75, 85, 50] # example values\n",
    "volumes = [5, 10, 15, 30, 45, 60, 70, 50] # example volumes\n",
    "Vmax = 100 # maximum volume\n",
    "\n",
    "fitness_scores = evaluate_fitness(population, values, volumes, Vmax)\n",
    "print(fitness_scores)"
   ]
  },
  {
   "cell_type": "markdown",
   "metadata": {},
   "source": [
    "#### Exercise 4 \n",
    "**Selection**\n",
    "\n",
    "Objective: Implement the selection step of a genetic algorithm."
   ]
  },
  {
   "cell_type": "code",
   "execution_count": 73,
   "metadata": {},
   "outputs": [
    {
     "name": "stdout",
     "output_type": "stream",
     "text": [
      "([0, 1, 0, 0, 0, 0, 0, 1], [1, 1, 1, 0, 0, 0, 0, 0])\n"
     ]
    }
   ],
   "source": [
    "def select_parents(population, fitness_scores):\n",
    "    # Select two parents from the population based on the fitness - \n",
    "    # the better the fitness, the higher the chance to be selected.\n",
    "    # IN:  population, fitness_scores\n",
    "    # OUT: selected_parents\n",
    "    \n",
    "    # Calculate the total fitness of the population\n",
    "    total_fitness = sum(fitness_scores)\n",
    "    \n",
    "    # Generate a random number between 0 and total_fitness\n",
    "    random_pick = random.uniform(0, total_fitness)\n",
    "    \n",
    "    # Pick a parent based on the random number\n",
    "    current = 0\n",
    "    for i, fitness in enumerate(fitness_scores):\n",
    "        current += fitness\n",
    "        if current > random_pick:\n",
    "            parent1 = population[i]\n",
    "            break\n",
    "    \n",
    "    # Do the same for the second parent\n",
    "    # Note: The same individual can be picked twice\n",
    "    random_pick = random.uniform(0, total_fitness)\n",
    "    current = 0\n",
    "    for i, fitness in enumerate(fitness_scores):\n",
    "        current += fitness\n",
    "        if current > random_pick:\n",
    "            parent2 = population[i]\n",
    "            break\n",
    "    \n",
    "    return parent1, parent2\n",
    "\n",
    "# Test the selection step\n",
    "parents = select_parents(population, fitness_scores)\n",
    "print(parents)"
   ]
  },
  {
   "cell_type": "markdown",
   "metadata": {},
   "source": [
    "#### Exercise 5\n",
    "**Crossover**\n",
    "\n",
    "Objective: Implement the crossover step of a genetic algorithm."
   ]
  },
  {
   "cell_type": "code",
   "execution_count": 74,
   "metadata": {},
   "outputs": [
    {
     "name": "stdout",
     "output_type": "stream",
     "text": [
      "([0, 1, 0, 0, 0, 0, 0, 0], [1, 1, 1, 0, 0, 0, 0, 1])\n"
     ]
    }
   ],
   "source": [
    "def crossover(parents):\n",
    "    # Create two new offspring by combining the parents.\n",
    "    # IN:  parents\n",
    "    # OUT: offspring\n",
    "    \n",
    "    # Determine the single crossover point\n",
    "    crossover_point = random.randint(1, len(parents[0])-1)\n",
    "    \n",
    "    # Create two offspring via crossover\n",
    "    offspring1 = parents[0][:crossover_point] + parents[1][crossover_point:]\n",
    "    offspring2 = parents[1][:crossover_point] + parents[0][crossover_point:]\n",
    "    \n",
    "    return offspring1, offspring2\n",
    "\n",
    "# Test the crossover step\n",
    "offspring = crossover(parents)\n",
    "print(offspring)"
   ]
  },
  {
   "cell_type": "markdown",
   "metadata": {},
   "source": [
    "#### Exercise 6\n",
    "**Mutation**\n",
    "\n",
    "Objective: Implement the mutation step of a genetic algorithm."
   ]
  },
  {
   "cell_type": "code",
   "execution_count": 75,
   "metadata": {},
   "outputs": [
    {
     "name": "stdout",
     "output_type": "stream",
     "text": [
      "[[0, 1, 0, 1, 0, 0, 0, 1], [1, 0, 0, 0, 0, 1, 0, 1]]\n"
     ]
    }
   ],
   "source": [
    "def mutate(chromosome, mutation_rate):\n",
    "    # Mutate the chromosome by randomly flipping bits.\n",
    "    # IN:  chromosome, mutation_rate\n",
    "    # OUT: mutated_chromosome\n",
    "    \n",
    "    mutated_chromosome = []\n",
    "    for gene in chromosome:\n",
    "        if random.random() < mutation_rate:\n",
    "            # Flip the bit\n",
    "            mutated_chromosome.append(1 - gene)\n",
    "        else:\n",
    "            mutated_chromosome.append(gene)\n",
    "    \n",
    "    return mutated_chromosome\n",
    "\n",
    "# Test the mutation step\n",
    "mutation_rate = 0.1\n",
    "mutated_offspring = [ mutate(child, mutation_rate) for child in offspring ]\n",
    "print(mutated_offspring)"
   ]
  },
  {
   "cell_type": "markdown",
   "metadata": {},
   "source": [
    "#### Exercise 7 \n",
    "**Complete Genetic Algorithm**\n",
    "\n",
    "Objective: Combine all the steps of a genetic algorithm to solve a specific problem."
   ]
  },
  {
   "cell_type": "code",
   "execution_count": 76,
   "metadata": {},
   "outputs": [
    {
     "name": "stdout",
     "output_type": "stream",
     "text": [
      "[[1, 0, 1, 0, 1, 0, 1, 0], [0, 1, 1, 0, 0, 0, 1, 0], [1, 1, 0, 0, 1, 0, 1, 0], [1, 1, 1, 1, 1, 0, 1, 0], [1, 1, 1, 0, 0, 0, 1, 0], [0, 1, 1, 0, 0, 0, 1, 0], [0, 1, 1, 0, 0, 0, 1, 0], [1, 1, 0, 0, 0, 1, 0, 0], [0, 0, 1, 0, 0, 0, 1, 0], [0, 1, 1, 0, 0, 0, 1, 0]]\n"
     ]
    }
   ],
   "source": [
    "def genetic_algorithm(population_size, chromosome_length, generations, mutation_rate, values, volumes, Vmax):\n",
    "    # Complete genetic algorithm\n",
    "    # IN:  population_size, chromosome_length, generations, mutation_rate\n",
    "    # OUT: population\n",
    "\n",
    "    # Initialize the population\n",
    "    population = initialize_population(population_size, chromosome_length)\n",
    "\n",
    "    for _ in range(generations):\n",
    "        # Fitness evaluation\n",
    "        fitness_scores = evaluate_fitness(population, values, volumes, Vmax)\n",
    "\n",
    "        new_population = []\n",
    "\n",
    "        for _ in range(population_size // 2):\n",
    "            # Selection\n",
    "            parents = select_parents(population, fitness_scores)\n",
    "\n",
    "            # Crossover\n",
    "            offspring = crossover(parents)\n",
    "\n",
    "            # Mutation\n",
    "            mutated_offspring = [ mutate(child, mutation_rate) for child in offspring ]\n",
    "\n",
    "            new_population.extend(mutated_offspring)\n",
    "\n",
    "        # Replace the population with the new generation\n",
    "        population = new_population\n",
    "\n",
    "    return population\n",
    "\n",
    "# Test the complete genetic algorithm\n",
    "population_size = 10\n",
    "chromosome_length = 8\n",
    "generations = 100\n",
    "mutation_rate = 0.1\n",
    "\n",
    "final_population = genetic_algorithm(population_size, chromosome_length, generations, mutation_rate, values, volumes, Vmax)\n",
    "print(final_population)\n"
   ]
  },
  {
   "cell_type": "markdown",
   "metadata": {},
   "source": [
    "#### Exercise 8\n",
    "**Extract the result from the final population**\n",
    "\n",
    "Objective: Get the best individual from the final population."
   ]
  },
  {
   "cell_type": "code",
   "execution_count": 81,
   "metadata": {},
   "outputs": [
    {
     "name": "stdout",
     "output_type": "stream",
     "text": [
      "Evaluating fitness for: [1, 0, 1, 0, 1, 0, 1, 0]\n",
      "Evaluating fitness for: [0, 1, 1, 0, 0, 0, 1, 0]\n",
      "Evaluating fitness for: [1, 1, 0, 0, 1, 0, 1, 0]\n",
      "Evaluating fitness for: [1, 1, 1, 1, 1, 0, 1, 0]\n",
      "Evaluating fitness for: [1, 1, 1, 0, 0, 0, 1, 0]\n",
      "Evaluating fitness for: [0, 1, 1, 0, 0, 0, 1, 0]\n",
      "Evaluating fitness for: [0, 1, 1, 0, 0, 0, 1, 0]\n",
      "Evaluating fitness for: [1, 1, 0, 0, 0, 1, 0, 0]\n",
      "Evaluating fitness for: [0, 0, 1, 0, 0, 0, 1, 0]\n",
      "Evaluating fitness for: [0, 1, 1, 0, 0, 0, 1, 0]\n",
      "The best individual is [1, 1, 0, 0, 0, 1, 0, 0] with a fitness of 100.\n"
     ]
    }
   ],
   "source": [
    "# Determine the best individual from the final population and print it out.\n",
    "\n",
    "\n",
    "def evaluate_individual(individual, values, volumes, Vmax, penalty_factor=0.1):\n",
    "    \"\"\"\n",
    "    Evaluate the fitness of an individual. The penalty_factor parameter is by default chosen as 0.1.\n",
    "    \"\"\"\n",
    "    value = sum([ ind*val for ind, val in zip(individual, values) ])\n",
    "    volume = sum([ ind*vol for ind, vol in zip(individual, volumes) ])\n",
    "\n",
    "    if volume > Vmax:\n",
    "        return value - (volume - Vmax) * penalty_factor\n",
    "    else:\n",
    "        return value\n",
    "\n",
    "\n",
    "def get_best_individual(population):\n",
    "    # Get the best individual from the population\n",
    "    # IN:  population\n",
    "    # OUT: best_individual, best_fitness\n",
    "\n",
    "    best_fitness = float('inf')  # Assuming it's a minimization problem\n",
    "    best_individual = None\n",
    "\n",
    "    for individual in population:\n",
    "        print(f\"Evaluating fitness for: {individual}\")  # Add this\n",
    "        fitness = evaluate_individual(individual, values, volumes, Vmax)\n",
    "        if fitness < best_fitness:\n",
    "            best_fitness = fitness\n",
    "            best_individual = individual\n",
    "\n",
    "    return best_individual, best_fitness\n",
    "\n",
    "# Get the best individual from the final population\n",
    "best_individual, best_fitness = get_best_individual(final_population)\n",
    "print(f\"The best individual is {best_individual} with a fitness of {best_fitness}.\")"
   ]
  },
  {
   "cell_type": "markdown",
   "metadata": {},
   "source": [
    "Ways of avoiding overfitting:\n",
    "* niche selection;\n",
    "* high mutation factor;\n",
    "* restarts;\n",
    "* multiple point crossover;\n",
    "* huge population."
   ]
  },
  {
   "cell_type": "code",
   "execution_count": null,
   "metadata": {},
   "outputs": [],
   "source": []
  }
 ],
 "metadata": {
  "kernel_info": {
   "name": "python"
  },
  "kernelspec": {
   "display_name": "Python 3 (ipykernel)",
   "language": "python",
   "name": "python3"
  },
  "language_info": {
   "codemirror_mode": {
    "name": "ipython",
    "version": 3
   },
   "file_extension": ".py",
   "mimetype": "text/x-python",
   "name": "python",
   "nbconvert_exporter": "python",
   "pygments_lexer": "ipython3",
   "version": "3.9.16"
  },
  "nteract": {
   "version": "nteract-front-end@1.0.0"
  }
 },
 "nbformat": 4,
 "nbformat_minor": 2
}
